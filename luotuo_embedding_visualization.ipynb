{
  "nbformat": 4,
  "nbformat_minor": 0,
  "metadata": {
    "colab": {
      "provenance": [],
      "machine_shape": "hm",
      "gpuType": "T4"
    },
    "kernelspec": {
      "name": "python3",
      "display_name": "Python 3"
    },
    "language_info": {
      "name": "python"
    },
    "accelerator": "GPU",
    "widgets": {
      "application/vnd.jupyter.widget-state+json": {
        "b89ea6225e784ea0b8837ea7a02d9dd9": {
          "model_module": "@jupyter-widgets/controls",
          "model_name": "HBoxModel",
          "model_module_version": "1.5.0",
          "state": {
            "_dom_classes": [],
            "_model_module": "@jupyter-widgets/controls",
            "_model_module_version": "1.5.0",
            "_model_name": "HBoxModel",
            "_view_count": null,
            "_view_module": "@jupyter-widgets/controls",
            "_view_module_version": "1.5.0",
            "_view_name": "HBoxView",
            "box_style": "",
            "children": [
              "IPY_MODEL_c66a820f93674538affd1a704579bdf7",
              "IPY_MODEL_2e41e924b27b412ca183f60d1c5f20d5",
              "IPY_MODEL_a3d45272026949ea898dea15704303cc"
            ],
            "layout": "IPY_MODEL_57c852666ddb453b9f953c8bc5a5848c"
          }
        },
        "c66a820f93674538affd1a704579bdf7": {
          "model_module": "@jupyter-widgets/controls",
          "model_name": "HTMLModel",
          "model_module_version": "1.5.0",
          "state": {
            "_dom_classes": [],
            "_model_module": "@jupyter-widgets/controls",
            "_model_module_version": "1.5.0",
            "_model_name": "HTMLModel",
            "_view_count": null,
            "_view_module": "@jupyter-widgets/controls",
            "_view_module_version": "1.5.0",
            "_view_name": "HTMLView",
            "description": "",
            "description_tooltip": null,
            "layout": "IPY_MODEL_9c1ca9568ef746feabf8965d378009e0",
            "placeholder": "​",
            "style": "IPY_MODEL_94730fb8146943d2b00919aa36f706a3",
            "value": "Downloading (…)okenizer_config.json: 100%"
          }
        },
        "2e41e924b27b412ca183f60d1c5f20d5": {
          "model_module": "@jupyter-widgets/controls",
          "model_name": "FloatProgressModel",
          "model_module_version": "1.5.0",
          "state": {
            "_dom_classes": [],
            "_model_module": "@jupyter-widgets/controls",
            "_model_module_version": "1.5.0",
            "_model_name": "FloatProgressModel",
            "_view_count": null,
            "_view_module": "@jupyter-widgets/controls",
            "_view_module_version": "1.5.0",
            "_view_name": "ProgressView",
            "bar_style": "success",
            "description": "",
            "description_tooltip": null,
            "layout": "IPY_MODEL_7a42b9e45ac943d590a6c0876bcda0fc",
            "max": 539,
            "min": 0,
            "orientation": "horizontal",
            "style": "IPY_MODEL_94511f05b1964133ac30d0a0adab891b",
            "value": 539
          }
        },
        "a3d45272026949ea898dea15704303cc": {
          "model_module": "@jupyter-widgets/controls",
          "model_name": "HTMLModel",
          "model_module_version": "1.5.0",
          "state": {
            "_dom_classes": [],
            "_model_module": "@jupyter-widgets/controls",
            "_model_module_version": "1.5.0",
            "_model_name": "HTMLModel",
            "_view_count": null,
            "_view_module": "@jupyter-widgets/controls",
            "_view_module_version": "1.5.0",
            "_view_name": "HTMLView",
            "description": "",
            "description_tooltip": null,
            "layout": "IPY_MODEL_0db39bbf80dd46eb9fa8cfa9b2f9bc3f",
            "placeholder": "​",
            "style": "IPY_MODEL_636e8c10e760441ca1f48e93fc424693",
            "value": " 539/539 [00:00&lt;00:00, 35.4kB/s]"
          }
        },
        "57c852666ddb453b9f953c8bc5a5848c": {
          "model_module": "@jupyter-widgets/base",
          "model_name": "LayoutModel",
          "model_module_version": "1.2.0",
          "state": {
            "_model_module": "@jupyter-widgets/base",
            "_model_module_version": "1.2.0",
            "_model_name": "LayoutModel",
            "_view_count": null,
            "_view_module": "@jupyter-widgets/base",
            "_view_module_version": "1.2.0",
            "_view_name": "LayoutView",
            "align_content": null,
            "align_items": null,
            "align_self": null,
            "border": null,
            "bottom": null,
            "display": null,
            "flex": null,
            "flex_flow": null,
            "grid_area": null,
            "grid_auto_columns": null,
            "grid_auto_flow": null,
            "grid_auto_rows": null,
            "grid_column": null,
            "grid_gap": null,
            "grid_row": null,
            "grid_template_areas": null,
            "grid_template_columns": null,
            "grid_template_rows": null,
            "height": null,
            "justify_content": null,
            "justify_items": null,
            "left": null,
            "margin": null,
            "max_height": null,
            "max_width": null,
            "min_height": null,
            "min_width": null,
            "object_fit": null,
            "object_position": null,
            "order": null,
            "overflow": null,
            "overflow_x": null,
            "overflow_y": null,
            "padding": null,
            "right": null,
            "top": null,
            "visibility": null,
            "width": null
          }
        },
        "9c1ca9568ef746feabf8965d378009e0": {
          "model_module": "@jupyter-widgets/base",
          "model_name": "LayoutModel",
          "model_module_version": "1.2.0",
          "state": {
            "_model_module": "@jupyter-widgets/base",
            "_model_module_version": "1.2.0",
            "_model_name": "LayoutModel",
            "_view_count": null,
            "_view_module": "@jupyter-widgets/base",
            "_view_module_version": "1.2.0",
            "_view_name": "LayoutView",
            "align_content": null,
            "align_items": null,
            "align_self": null,
            "border": null,
            "bottom": null,
            "display": null,
            "flex": null,
            "flex_flow": null,
            "grid_area": null,
            "grid_auto_columns": null,
            "grid_auto_flow": null,
            "grid_auto_rows": null,
            "grid_column": null,
            "grid_gap": null,
            "grid_row": null,
            "grid_template_areas": null,
            "grid_template_columns": null,
            "grid_template_rows": null,
            "height": null,
            "justify_content": null,
            "justify_items": null,
            "left": null,
            "margin": null,
            "max_height": null,
            "max_width": null,
            "min_height": null,
            "min_width": null,
            "object_fit": null,
            "object_position": null,
            "order": null,
            "overflow": null,
            "overflow_x": null,
            "overflow_y": null,
            "padding": null,
            "right": null,
            "top": null,
            "visibility": null,
            "width": null
          }
        },
        "94730fb8146943d2b00919aa36f706a3": {
          "model_module": "@jupyter-widgets/controls",
          "model_name": "DescriptionStyleModel",
          "model_module_version": "1.5.0",
          "state": {
            "_model_module": "@jupyter-widgets/controls",
            "_model_module_version": "1.5.0",
            "_model_name": "DescriptionStyleModel",
            "_view_count": null,
            "_view_module": "@jupyter-widgets/base",
            "_view_module_version": "1.2.0",
            "_view_name": "StyleView",
            "description_width": ""
          }
        },
        "7a42b9e45ac943d590a6c0876bcda0fc": {
          "model_module": "@jupyter-widgets/base",
          "model_name": "LayoutModel",
          "model_module_version": "1.2.0",
          "state": {
            "_model_module": "@jupyter-widgets/base",
            "_model_module_version": "1.2.0",
            "_model_name": "LayoutModel",
            "_view_count": null,
            "_view_module": "@jupyter-widgets/base",
            "_view_module_version": "1.2.0",
            "_view_name": "LayoutView",
            "align_content": null,
            "align_items": null,
            "align_self": null,
            "border": null,
            "bottom": null,
            "display": null,
            "flex": null,
            "flex_flow": null,
            "grid_area": null,
            "grid_auto_columns": null,
            "grid_auto_flow": null,
            "grid_auto_rows": null,
            "grid_column": null,
            "grid_gap": null,
            "grid_row": null,
            "grid_template_areas": null,
            "grid_template_columns": null,
            "grid_template_rows": null,
            "height": null,
            "justify_content": null,
            "justify_items": null,
            "left": null,
            "margin": null,
            "max_height": null,
            "max_width": null,
            "min_height": null,
            "min_width": null,
            "object_fit": null,
            "object_position": null,
            "order": null,
            "overflow": null,
            "overflow_x": null,
            "overflow_y": null,
            "padding": null,
            "right": null,
            "top": null,
            "visibility": null,
            "width": null
          }
        },
        "94511f05b1964133ac30d0a0adab891b": {
          "model_module": "@jupyter-widgets/controls",
          "model_name": "ProgressStyleModel",
          "model_module_version": "1.5.0",
          "state": {
            "_model_module": "@jupyter-widgets/controls",
            "_model_module_version": "1.5.0",
            "_model_name": "ProgressStyleModel",
            "_view_count": null,
            "_view_module": "@jupyter-widgets/base",
            "_view_module_version": "1.2.0",
            "_view_name": "StyleView",
            "bar_color": null,
            "description_width": ""
          }
        },
        "0db39bbf80dd46eb9fa8cfa9b2f9bc3f": {
          "model_module": "@jupyter-widgets/base",
          "model_name": "LayoutModel",
          "model_module_version": "1.2.0",
          "state": {
            "_model_module": "@jupyter-widgets/base",
            "_model_module_version": "1.2.0",
            "_model_name": "LayoutModel",
            "_view_count": null,
            "_view_module": "@jupyter-widgets/base",
            "_view_module_version": "1.2.0",
            "_view_name": "LayoutView",
            "align_content": null,
            "align_items": null,
            "align_self": null,
            "border": null,
            "bottom": null,
            "display": null,
            "flex": null,
            "flex_flow": null,
            "grid_area": null,
            "grid_auto_columns": null,
            "grid_auto_flow": null,
            "grid_auto_rows": null,
            "grid_column": null,
            "grid_gap": null,
            "grid_row": null,
            "grid_template_areas": null,
            "grid_template_columns": null,
            "grid_template_rows": null,
            "height": null,
            "justify_content": null,
            "justify_items": null,
            "left": null,
            "margin": null,
            "max_height": null,
            "max_width": null,
            "min_height": null,
            "min_width": null,
            "object_fit": null,
            "object_position": null,
            "order": null,
            "overflow": null,
            "overflow_x": null,
            "overflow_y": null,
            "padding": null,
            "right": null,
            "top": null,
            "visibility": null,
            "width": null
          }
        },
        "636e8c10e760441ca1f48e93fc424693": {
          "model_module": "@jupyter-widgets/controls",
          "model_name": "DescriptionStyleModel",
          "model_module_version": "1.5.0",
          "state": {
            "_model_module": "@jupyter-widgets/controls",
            "_model_module_version": "1.5.0",
            "_model_name": "DescriptionStyleModel",
            "_view_count": null,
            "_view_module": "@jupyter-widgets/base",
            "_view_module_version": "1.2.0",
            "_view_name": "StyleView",
            "description_width": ""
          }
        },
        "6ef347123d4144eb8a63420967ad2518": {
          "model_module": "@jupyter-widgets/controls",
          "model_name": "HBoxModel",
          "model_module_version": "1.5.0",
          "state": {
            "_dom_classes": [],
            "_model_module": "@jupyter-widgets/controls",
            "_model_module_version": "1.5.0",
            "_model_name": "HBoxModel",
            "_view_count": null,
            "_view_module": "@jupyter-widgets/controls",
            "_view_module_version": "1.5.0",
            "_view_name": "HBoxView",
            "box_style": "",
            "children": [
              "IPY_MODEL_86abced4b6584c758dad73bdf58ab1ad",
              "IPY_MODEL_9ac9da86f6df474b8b68ed08bd7ab206",
              "IPY_MODEL_5189f3cf73eb462c9a1db5a12c07b188"
            ],
            "layout": "IPY_MODEL_81f95f3d59224c9cbe30eaf92836a906"
          }
        },
        "86abced4b6584c758dad73bdf58ab1ad": {
          "model_module": "@jupyter-widgets/controls",
          "model_name": "HTMLModel",
          "model_module_version": "1.5.0",
          "state": {
            "_dom_classes": [],
            "_model_module": "@jupyter-widgets/controls",
            "_model_module_version": "1.5.0",
            "_model_name": "HTMLModel",
            "_view_count": null,
            "_view_module": "@jupyter-widgets/controls",
            "_view_module_version": "1.5.0",
            "_view_name": "HTMLView",
            "description": "",
            "description_tooltip": null,
            "layout": "IPY_MODEL_0b2f2f14c241427ea187d493559ad041",
            "placeholder": "​",
            "style": "IPY_MODEL_4293de498c2e45bebe4074f8b7402dff",
            "value": "Downloading (…)solve/main/vocab.txt: 100%"
          }
        },
        "9ac9da86f6df474b8b68ed08bd7ab206": {
          "model_module": "@jupyter-widgets/controls",
          "model_name": "FloatProgressModel",
          "model_module_version": "1.5.0",
          "state": {
            "_dom_classes": [],
            "_model_module": "@jupyter-widgets/controls",
            "_model_module_version": "1.5.0",
            "_model_name": "FloatProgressModel",
            "_view_count": null,
            "_view_module": "@jupyter-widgets/controls",
            "_view_module_version": "1.5.0",
            "_view_name": "ProgressView",
            "bar_style": "success",
            "description": "",
            "description_tooltip": null,
            "layout": "IPY_MODEL_57056f94fd714cbaaae2a389b25c795a",
            "max": 109540,
            "min": 0,
            "orientation": "horizontal",
            "style": "IPY_MODEL_0e95b161e52944d09ce25cbaef58ac56",
            "value": 109540
          }
        },
        "5189f3cf73eb462c9a1db5a12c07b188": {
          "model_module": "@jupyter-widgets/controls",
          "model_name": "HTMLModel",
          "model_module_version": "1.5.0",
          "state": {
            "_dom_classes": [],
            "_model_module": "@jupyter-widgets/controls",
            "_model_module_version": "1.5.0",
            "_model_name": "HTMLModel",
            "_view_count": null,
            "_view_module": "@jupyter-widgets/controls",
            "_view_module_version": "1.5.0",
            "_view_name": "HTMLView",
            "description": "",
            "description_tooltip": null,
            "layout": "IPY_MODEL_59839b671db74b2ba093c274ca71cd33",
            "placeholder": "​",
            "style": "IPY_MODEL_b54dc300b0ad4e26a83b1e8e61d31e9e",
            "value": " 110k/110k [00:00&lt;00:00, 7.16MB/s]"
          }
        },
        "81f95f3d59224c9cbe30eaf92836a906": {
          "model_module": "@jupyter-widgets/base",
          "model_name": "LayoutModel",
          "model_module_version": "1.2.0",
          "state": {
            "_model_module": "@jupyter-widgets/base",
            "_model_module_version": "1.2.0",
            "_model_name": "LayoutModel",
            "_view_count": null,
            "_view_module": "@jupyter-widgets/base",
            "_view_module_version": "1.2.0",
            "_view_name": "LayoutView",
            "align_content": null,
            "align_items": null,
            "align_self": null,
            "border": null,
            "bottom": null,
            "display": null,
            "flex": null,
            "flex_flow": null,
            "grid_area": null,
            "grid_auto_columns": null,
            "grid_auto_flow": null,
            "grid_auto_rows": null,
            "grid_column": null,
            "grid_gap": null,
            "grid_row": null,
            "grid_template_areas": null,
            "grid_template_columns": null,
            "grid_template_rows": null,
            "height": null,
            "justify_content": null,
            "justify_items": null,
            "left": null,
            "margin": null,
            "max_height": null,
            "max_width": null,
            "min_height": null,
            "min_width": null,
            "object_fit": null,
            "object_position": null,
            "order": null,
            "overflow": null,
            "overflow_x": null,
            "overflow_y": null,
            "padding": null,
            "right": null,
            "top": null,
            "visibility": null,
            "width": null
          }
        },
        "0b2f2f14c241427ea187d493559ad041": {
          "model_module": "@jupyter-widgets/base",
          "model_name": "LayoutModel",
          "model_module_version": "1.2.0",
          "state": {
            "_model_module": "@jupyter-widgets/base",
            "_model_module_version": "1.2.0",
            "_model_name": "LayoutModel",
            "_view_count": null,
            "_view_module": "@jupyter-widgets/base",
            "_view_module_version": "1.2.0",
            "_view_name": "LayoutView",
            "align_content": null,
            "align_items": null,
            "align_self": null,
            "border": null,
            "bottom": null,
            "display": null,
            "flex": null,
            "flex_flow": null,
            "grid_area": null,
            "grid_auto_columns": null,
            "grid_auto_flow": null,
            "grid_auto_rows": null,
            "grid_column": null,
            "grid_gap": null,
            "grid_row": null,
            "grid_template_areas": null,
            "grid_template_columns": null,
            "grid_template_rows": null,
            "height": null,
            "justify_content": null,
            "justify_items": null,
            "left": null,
            "margin": null,
            "max_height": null,
            "max_width": null,
            "min_height": null,
            "min_width": null,
            "object_fit": null,
            "object_position": null,
            "order": null,
            "overflow": null,
            "overflow_x": null,
            "overflow_y": null,
            "padding": null,
            "right": null,
            "top": null,
            "visibility": null,
            "width": null
          }
        },
        "4293de498c2e45bebe4074f8b7402dff": {
          "model_module": "@jupyter-widgets/controls",
          "model_name": "DescriptionStyleModel",
          "model_module_version": "1.5.0",
          "state": {
            "_model_module": "@jupyter-widgets/controls",
            "_model_module_version": "1.5.0",
            "_model_name": "DescriptionStyleModel",
            "_view_count": null,
            "_view_module": "@jupyter-widgets/base",
            "_view_module_version": "1.2.0",
            "_view_name": "StyleView",
            "description_width": ""
          }
        },
        "57056f94fd714cbaaae2a389b25c795a": {
          "model_module": "@jupyter-widgets/base",
          "model_name": "LayoutModel",
          "model_module_version": "1.2.0",
          "state": {
            "_model_module": "@jupyter-widgets/base",
            "_model_module_version": "1.2.0",
            "_model_name": "LayoutModel",
            "_view_count": null,
            "_view_module": "@jupyter-widgets/base",
            "_view_module_version": "1.2.0",
            "_view_name": "LayoutView",
            "align_content": null,
            "align_items": null,
            "align_self": null,
            "border": null,
            "bottom": null,
            "display": null,
            "flex": null,
            "flex_flow": null,
            "grid_area": null,
            "grid_auto_columns": null,
            "grid_auto_flow": null,
            "grid_auto_rows": null,
            "grid_column": null,
            "grid_gap": null,
            "grid_row": null,
            "grid_template_areas": null,
            "grid_template_columns": null,
            "grid_template_rows": null,
            "height": null,
            "justify_content": null,
            "justify_items": null,
            "left": null,
            "margin": null,
            "max_height": null,
            "max_width": null,
            "min_height": null,
            "min_width": null,
            "object_fit": null,
            "object_position": null,
            "order": null,
            "overflow": null,
            "overflow_x": null,
            "overflow_y": null,
            "padding": null,
            "right": null,
            "top": null,
            "visibility": null,
            "width": null
          }
        },
        "0e95b161e52944d09ce25cbaef58ac56": {
          "model_module": "@jupyter-widgets/controls",
          "model_name": "ProgressStyleModel",
          "model_module_version": "1.5.0",
          "state": {
            "_model_module": "@jupyter-widgets/controls",
            "_model_module_version": "1.5.0",
            "_model_name": "ProgressStyleModel",
            "_view_count": null,
            "_view_module": "@jupyter-widgets/base",
            "_view_module_version": "1.2.0",
            "_view_name": "StyleView",
            "bar_color": null,
            "description_width": ""
          }
        },
        "59839b671db74b2ba093c274ca71cd33": {
          "model_module": "@jupyter-widgets/base",
          "model_name": "LayoutModel",
          "model_module_version": "1.2.0",
          "state": {
            "_model_module": "@jupyter-widgets/base",
            "_model_module_version": "1.2.0",
            "_model_name": "LayoutModel",
            "_view_count": null,
            "_view_module": "@jupyter-widgets/base",
            "_view_module_version": "1.2.0",
            "_view_name": "LayoutView",
            "align_content": null,
            "align_items": null,
            "align_self": null,
            "border": null,
            "bottom": null,
            "display": null,
            "flex": null,
            "flex_flow": null,
            "grid_area": null,
            "grid_auto_columns": null,
            "grid_auto_flow": null,
            "grid_auto_rows": null,
            "grid_column": null,
            "grid_gap": null,
            "grid_row": null,
            "grid_template_areas": null,
            "grid_template_columns": null,
            "grid_template_rows": null,
            "height": null,
            "justify_content": null,
            "justify_items": null,
            "left": null,
            "margin": null,
            "max_height": null,
            "max_width": null,
            "min_height": null,
            "min_width": null,
            "object_fit": null,
            "object_position": null,
            "order": null,
            "overflow": null,
            "overflow_x": null,
            "overflow_y": null,
            "padding": null,
            "right": null,
            "top": null,
            "visibility": null,
            "width": null
          }
        },
        "b54dc300b0ad4e26a83b1e8e61d31e9e": {
          "model_module": "@jupyter-widgets/controls",
          "model_name": "DescriptionStyleModel",
          "model_module_version": "1.5.0",
          "state": {
            "_model_module": "@jupyter-widgets/controls",
            "_model_module_version": "1.5.0",
            "_model_name": "DescriptionStyleModel",
            "_view_count": null,
            "_view_module": "@jupyter-widgets/base",
            "_view_module_version": "1.2.0",
            "_view_name": "StyleView",
            "description_width": ""
          }
        },
        "7fa1da27172846908cc29dc53a61d4a9": {
          "model_module": "@jupyter-widgets/controls",
          "model_name": "HBoxModel",
          "model_module_version": "1.5.0",
          "state": {
            "_dom_classes": [],
            "_model_module": "@jupyter-widgets/controls",
            "_model_module_version": "1.5.0",
            "_model_name": "HBoxModel",
            "_view_count": null,
            "_view_module": "@jupyter-widgets/controls",
            "_view_module_version": "1.5.0",
            "_view_name": "HBoxView",
            "box_style": "",
            "children": [
              "IPY_MODEL_3cf24c6dd05843d1ab59c1002ae835c3",
              "IPY_MODEL_d7880a253c624506bb47f9e6d9677ff9",
              "IPY_MODEL_9f47feef9214453d9c3b15fb98e19388"
            ],
            "layout": "IPY_MODEL_8bfe2ed129e54d9ea5d737bdc64279e2"
          }
        },
        "3cf24c6dd05843d1ab59c1002ae835c3": {
          "model_module": "@jupyter-widgets/controls",
          "model_name": "HTMLModel",
          "model_module_version": "1.5.0",
          "state": {
            "_dom_classes": [],
            "_model_module": "@jupyter-widgets/controls",
            "_model_module_version": "1.5.0",
            "_model_name": "HTMLModel",
            "_view_count": null,
            "_view_module": "@jupyter-widgets/controls",
            "_view_module_version": "1.5.0",
            "_view_name": "HTMLView",
            "description": "",
            "description_tooltip": null,
            "layout": "IPY_MODEL_92327eae284649f29a3f93f08ebf34e7",
            "placeholder": "​",
            "style": "IPY_MODEL_3c858f3ac6284ba0a9af6137fcc3c0f8",
            "value": "Downloading (…)/main/tokenizer.json: 100%"
          }
        },
        "d7880a253c624506bb47f9e6d9677ff9": {
          "model_module": "@jupyter-widgets/controls",
          "model_name": "FloatProgressModel",
          "model_module_version": "1.5.0",
          "state": {
            "_dom_classes": [],
            "_model_module": "@jupyter-widgets/controls",
            "_model_module_version": "1.5.0",
            "_model_name": "FloatProgressModel",
            "_view_count": null,
            "_view_module": "@jupyter-widgets/controls",
            "_view_module_version": "1.5.0",
            "_view_name": "ProgressView",
            "bar_style": "success",
            "description": "",
            "description_tooltip": null,
            "layout": "IPY_MODEL_1f4381b28d42495d8b9aeb7050e3cb9c",
            "max": 439279,
            "min": 0,
            "orientation": "horizontal",
            "style": "IPY_MODEL_4f83f87f957e4fd1ad37f427b5c2f4d4",
            "value": 439279
          }
        },
        "9f47feef9214453d9c3b15fb98e19388": {
          "model_module": "@jupyter-widgets/controls",
          "model_name": "HTMLModel",
          "model_module_version": "1.5.0",
          "state": {
            "_dom_classes": [],
            "_model_module": "@jupyter-widgets/controls",
            "_model_module_version": "1.5.0",
            "_model_name": "HTMLModel",
            "_view_count": null,
            "_view_module": "@jupyter-widgets/controls",
            "_view_module_version": "1.5.0",
            "_view_name": "HTMLView",
            "description": "",
            "description_tooltip": null,
            "layout": "IPY_MODEL_98d1d7671d9c47879a6d56c1c5b08701",
            "placeholder": "​",
            "style": "IPY_MODEL_f941f20a1b1a48958440958698d3c333",
            "value": " 439k/439k [00:00&lt;00:00, 24.5MB/s]"
          }
        },
        "8bfe2ed129e54d9ea5d737bdc64279e2": {
          "model_module": "@jupyter-widgets/base",
          "model_name": "LayoutModel",
          "model_module_version": "1.2.0",
          "state": {
            "_model_module": "@jupyter-widgets/base",
            "_model_module_version": "1.2.0",
            "_model_name": "LayoutModel",
            "_view_count": null,
            "_view_module": "@jupyter-widgets/base",
            "_view_module_version": "1.2.0",
            "_view_name": "LayoutView",
            "align_content": null,
            "align_items": null,
            "align_self": null,
            "border": null,
            "bottom": null,
            "display": null,
            "flex": null,
            "flex_flow": null,
            "grid_area": null,
            "grid_auto_columns": null,
            "grid_auto_flow": null,
            "grid_auto_rows": null,
            "grid_column": null,
            "grid_gap": null,
            "grid_row": null,
            "grid_template_areas": null,
            "grid_template_columns": null,
            "grid_template_rows": null,
            "height": null,
            "justify_content": null,
            "justify_items": null,
            "left": null,
            "margin": null,
            "max_height": null,
            "max_width": null,
            "min_height": null,
            "min_width": null,
            "object_fit": null,
            "object_position": null,
            "order": null,
            "overflow": null,
            "overflow_x": null,
            "overflow_y": null,
            "padding": null,
            "right": null,
            "top": null,
            "visibility": null,
            "width": null
          }
        },
        "92327eae284649f29a3f93f08ebf34e7": {
          "model_module": "@jupyter-widgets/base",
          "model_name": "LayoutModel",
          "model_module_version": "1.2.0",
          "state": {
            "_model_module": "@jupyter-widgets/base",
            "_model_module_version": "1.2.0",
            "_model_name": "LayoutModel",
            "_view_count": null,
            "_view_module": "@jupyter-widgets/base",
            "_view_module_version": "1.2.0",
            "_view_name": "LayoutView",
            "align_content": null,
            "align_items": null,
            "align_self": null,
            "border": null,
            "bottom": null,
            "display": null,
            "flex": null,
            "flex_flow": null,
            "grid_area": null,
            "grid_auto_columns": null,
            "grid_auto_flow": null,
            "grid_auto_rows": null,
            "grid_column": null,
            "grid_gap": null,
            "grid_row": null,
            "grid_template_areas": null,
            "grid_template_columns": null,
            "grid_template_rows": null,
            "height": null,
            "justify_content": null,
            "justify_items": null,
            "left": null,
            "margin": null,
            "max_height": null,
            "max_width": null,
            "min_height": null,
            "min_width": null,
            "object_fit": null,
            "object_position": null,
            "order": null,
            "overflow": null,
            "overflow_x": null,
            "overflow_y": null,
            "padding": null,
            "right": null,
            "top": null,
            "visibility": null,
            "width": null
          }
        },
        "3c858f3ac6284ba0a9af6137fcc3c0f8": {
          "model_module": "@jupyter-widgets/controls",
          "model_name": "DescriptionStyleModel",
          "model_module_version": "1.5.0",
          "state": {
            "_model_module": "@jupyter-widgets/controls",
            "_model_module_version": "1.5.0",
            "_model_name": "DescriptionStyleModel",
            "_view_count": null,
            "_view_module": "@jupyter-widgets/base",
            "_view_module_version": "1.2.0",
            "_view_name": "StyleView",
            "description_width": ""
          }
        },
        "1f4381b28d42495d8b9aeb7050e3cb9c": {
          "model_module": "@jupyter-widgets/base",
          "model_name": "LayoutModel",
          "model_module_version": "1.2.0",
          "state": {
            "_model_module": "@jupyter-widgets/base",
            "_model_module_version": "1.2.0",
            "_model_name": "LayoutModel",
            "_view_count": null,
            "_view_module": "@jupyter-widgets/base",
            "_view_module_version": "1.2.0",
            "_view_name": "LayoutView",
            "align_content": null,
            "align_items": null,
            "align_self": null,
            "border": null,
            "bottom": null,
            "display": null,
            "flex": null,
            "flex_flow": null,
            "grid_area": null,
            "grid_auto_columns": null,
            "grid_auto_flow": null,
            "grid_auto_rows": null,
            "grid_column": null,
            "grid_gap": null,
            "grid_row": null,
            "grid_template_areas": null,
            "grid_template_columns": null,
            "grid_template_rows": null,
            "height": null,
            "justify_content": null,
            "justify_items": null,
            "left": null,
            "margin": null,
            "max_height": null,
            "max_width": null,
            "min_height": null,
            "min_width": null,
            "object_fit": null,
            "object_position": null,
            "order": null,
            "overflow": null,
            "overflow_x": null,
            "overflow_y": null,
            "padding": null,
            "right": null,
            "top": null,
            "visibility": null,
            "width": null
          }
        },
        "4f83f87f957e4fd1ad37f427b5c2f4d4": {
          "model_module": "@jupyter-widgets/controls",
          "model_name": "ProgressStyleModel",
          "model_module_version": "1.5.0",
          "state": {
            "_model_module": "@jupyter-widgets/controls",
            "_model_module_version": "1.5.0",
            "_model_name": "ProgressStyleModel",
            "_view_count": null,
            "_view_module": "@jupyter-widgets/base",
            "_view_module_version": "1.2.0",
            "_view_name": "StyleView",
            "bar_color": null,
            "description_width": ""
          }
        },
        "98d1d7671d9c47879a6d56c1c5b08701": {
          "model_module": "@jupyter-widgets/base",
          "model_name": "LayoutModel",
          "model_module_version": "1.2.0",
          "state": {
            "_model_module": "@jupyter-widgets/base",
            "_model_module_version": "1.2.0",
            "_model_name": "LayoutModel",
            "_view_count": null,
            "_view_module": "@jupyter-widgets/base",
            "_view_module_version": "1.2.0",
            "_view_name": "LayoutView",
            "align_content": null,
            "align_items": null,
            "align_self": null,
            "border": null,
            "bottom": null,
            "display": null,
            "flex": null,
            "flex_flow": null,
            "grid_area": null,
            "grid_auto_columns": null,
            "grid_auto_flow": null,
            "grid_auto_rows": null,
            "grid_column": null,
            "grid_gap": null,
            "grid_row": null,
            "grid_template_areas": null,
            "grid_template_columns": null,
            "grid_template_rows": null,
            "height": null,
            "justify_content": null,
            "justify_items": null,
            "left": null,
            "margin": null,
            "max_height": null,
            "max_width": null,
            "min_height": null,
            "min_width": null,
            "object_fit": null,
            "object_position": null,
            "order": null,
            "overflow": null,
            "overflow_x": null,
            "overflow_y": null,
            "padding": null,
            "right": null,
            "top": null,
            "visibility": null,
            "width": null
          }
        },
        "f941f20a1b1a48958440958698d3c333": {
          "model_module": "@jupyter-widgets/controls",
          "model_name": "DescriptionStyleModel",
          "model_module_version": "1.5.0",
          "state": {
            "_model_module": "@jupyter-widgets/controls",
            "_model_module_version": "1.5.0",
            "_model_name": "DescriptionStyleModel",
            "_view_count": null,
            "_view_module": "@jupyter-widgets/base",
            "_view_module_version": "1.2.0",
            "_view_name": "StyleView",
            "description_width": ""
          }
        },
        "0637b06121284c25b344c25034e4d69d": {
          "model_module": "@jupyter-widgets/controls",
          "model_name": "HBoxModel",
          "model_module_version": "1.5.0",
          "state": {
            "_dom_classes": [],
            "_model_module": "@jupyter-widgets/controls",
            "_model_module_version": "1.5.0",
            "_model_name": "HBoxModel",
            "_view_count": null,
            "_view_module": "@jupyter-widgets/controls",
            "_view_module_version": "1.5.0",
            "_view_name": "HBoxView",
            "box_style": "",
            "children": [
              "IPY_MODEL_e04834abae174e8db8c55f2e6ad2b9f3",
              "IPY_MODEL_baa6f8112f9243b1b55b25351f059fdc",
              "IPY_MODEL_257931fc60dc4814ba699e60b9b3143b"
            ],
            "layout": "IPY_MODEL_9b05eba9e41f439dbfbd38500472043a"
          }
        },
        "e04834abae174e8db8c55f2e6ad2b9f3": {
          "model_module": "@jupyter-widgets/controls",
          "model_name": "HTMLModel",
          "model_module_version": "1.5.0",
          "state": {
            "_dom_classes": [],
            "_model_module": "@jupyter-widgets/controls",
            "_model_module_version": "1.5.0",
            "_model_name": "HTMLModel",
            "_view_count": null,
            "_view_module": "@jupyter-widgets/controls",
            "_view_module_version": "1.5.0",
            "_view_name": "HTMLView",
            "description": "",
            "description_tooltip": null,
            "layout": "IPY_MODEL_baa816d7877e4e9f9c6513eef91a0901",
            "placeholder": "​",
            "style": "IPY_MODEL_a968639e13124297be57db1b17592f2b",
            "value": "Downloading (…)cial_tokens_map.json: 100%"
          }
        },
        "baa6f8112f9243b1b55b25351f059fdc": {
          "model_module": "@jupyter-widgets/controls",
          "model_name": "FloatProgressModel",
          "model_module_version": "1.5.0",
          "state": {
            "_dom_classes": [],
            "_model_module": "@jupyter-widgets/controls",
            "_model_module_version": "1.5.0",
            "_model_name": "FloatProgressModel",
            "_view_count": null,
            "_view_module": "@jupyter-widgets/controls",
            "_view_module_version": "1.5.0",
            "_view_name": "ProgressView",
            "bar_style": "success",
            "description": "",
            "description_tooltip": null,
            "layout": "IPY_MODEL_6109dd91e5f34929a03e885789ed3fd7",
            "max": 125,
            "min": 0,
            "orientation": "horizontal",
            "style": "IPY_MODEL_d222225dd1134c2291e2e47b74039d57",
            "value": 125
          }
        },
        "257931fc60dc4814ba699e60b9b3143b": {
          "model_module": "@jupyter-widgets/controls",
          "model_name": "HTMLModel",
          "model_module_version": "1.5.0",
          "state": {
            "_dom_classes": [],
            "_model_module": "@jupyter-widgets/controls",
            "_model_module_version": "1.5.0",
            "_model_name": "HTMLModel",
            "_view_count": null,
            "_view_module": "@jupyter-widgets/controls",
            "_view_module_version": "1.5.0",
            "_view_name": "HTMLView",
            "description": "",
            "description_tooltip": null,
            "layout": "IPY_MODEL_52fc2c1f1ed0424ca20a5264b65acc87",
            "placeholder": "​",
            "style": "IPY_MODEL_eaf57ac4766c474484dab115987d3c56",
            "value": " 125/125 [00:00&lt;00:00, 10.3kB/s]"
          }
        },
        "9b05eba9e41f439dbfbd38500472043a": {
          "model_module": "@jupyter-widgets/base",
          "model_name": "LayoutModel",
          "model_module_version": "1.2.0",
          "state": {
            "_model_module": "@jupyter-widgets/base",
            "_model_module_version": "1.2.0",
            "_model_name": "LayoutModel",
            "_view_count": null,
            "_view_module": "@jupyter-widgets/base",
            "_view_module_version": "1.2.0",
            "_view_name": "LayoutView",
            "align_content": null,
            "align_items": null,
            "align_self": null,
            "border": null,
            "bottom": null,
            "display": null,
            "flex": null,
            "flex_flow": null,
            "grid_area": null,
            "grid_auto_columns": null,
            "grid_auto_flow": null,
            "grid_auto_rows": null,
            "grid_column": null,
            "grid_gap": null,
            "grid_row": null,
            "grid_template_areas": null,
            "grid_template_columns": null,
            "grid_template_rows": null,
            "height": null,
            "justify_content": null,
            "justify_items": null,
            "left": null,
            "margin": null,
            "max_height": null,
            "max_width": null,
            "min_height": null,
            "min_width": null,
            "object_fit": null,
            "object_position": null,
            "order": null,
            "overflow": null,
            "overflow_x": null,
            "overflow_y": null,
            "padding": null,
            "right": null,
            "top": null,
            "visibility": null,
            "width": null
          }
        },
        "baa816d7877e4e9f9c6513eef91a0901": {
          "model_module": "@jupyter-widgets/base",
          "model_name": "LayoutModel",
          "model_module_version": "1.2.0",
          "state": {
            "_model_module": "@jupyter-widgets/base",
            "_model_module_version": "1.2.0",
            "_model_name": "LayoutModel",
            "_view_count": null,
            "_view_module": "@jupyter-widgets/base",
            "_view_module_version": "1.2.0",
            "_view_name": "LayoutView",
            "align_content": null,
            "align_items": null,
            "align_self": null,
            "border": null,
            "bottom": null,
            "display": null,
            "flex": null,
            "flex_flow": null,
            "grid_area": null,
            "grid_auto_columns": null,
            "grid_auto_flow": null,
            "grid_auto_rows": null,
            "grid_column": null,
            "grid_gap": null,
            "grid_row": null,
            "grid_template_areas": null,
            "grid_template_columns": null,
            "grid_template_rows": null,
            "height": null,
            "justify_content": null,
            "justify_items": null,
            "left": null,
            "margin": null,
            "max_height": null,
            "max_width": null,
            "min_height": null,
            "min_width": null,
            "object_fit": null,
            "object_position": null,
            "order": null,
            "overflow": null,
            "overflow_x": null,
            "overflow_y": null,
            "padding": null,
            "right": null,
            "top": null,
            "visibility": null,
            "width": null
          }
        },
        "a968639e13124297be57db1b17592f2b": {
          "model_module": "@jupyter-widgets/controls",
          "model_name": "DescriptionStyleModel",
          "model_module_version": "1.5.0",
          "state": {
            "_model_module": "@jupyter-widgets/controls",
            "_model_module_version": "1.5.0",
            "_model_name": "DescriptionStyleModel",
            "_view_count": null,
            "_view_module": "@jupyter-widgets/base",
            "_view_module_version": "1.2.0",
            "_view_name": "StyleView",
            "description_width": ""
          }
        },
        "6109dd91e5f34929a03e885789ed3fd7": {
          "model_module": "@jupyter-widgets/base",
          "model_name": "LayoutModel",
          "model_module_version": "1.2.0",
          "state": {
            "_model_module": "@jupyter-widgets/base",
            "_model_module_version": "1.2.0",
            "_model_name": "LayoutModel",
            "_view_count": null,
            "_view_module": "@jupyter-widgets/base",
            "_view_module_version": "1.2.0",
            "_view_name": "LayoutView",
            "align_content": null,
            "align_items": null,
            "align_self": null,
            "border": null,
            "bottom": null,
            "display": null,
            "flex": null,
            "flex_flow": null,
            "grid_area": null,
            "grid_auto_columns": null,
            "grid_auto_flow": null,
            "grid_auto_rows": null,
            "grid_column": null,
            "grid_gap": null,
            "grid_row": null,
            "grid_template_areas": null,
            "grid_template_columns": null,
            "grid_template_rows": null,
            "height": null,
            "justify_content": null,
            "justify_items": null,
            "left": null,
            "margin": null,
            "max_height": null,
            "max_width": null,
            "min_height": null,
            "min_width": null,
            "object_fit": null,
            "object_position": null,
            "order": null,
            "overflow": null,
            "overflow_x": null,
            "overflow_y": null,
            "padding": null,
            "right": null,
            "top": null,
            "visibility": null,
            "width": null
          }
        },
        "d222225dd1134c2291e2e47b74039d57": {
          "model_module": "@jupyter-widgets/controls",
          "model_name": "ProgressStyleModel",
          "model_module_version": "1.5.0",
          "state": {
            "_model_module": "@jupyter-widgets/controls",
            "_model_module_version": "1.5.0",
            "_model_name": "ProgressStyleModel",
            "_view_count": null,
            "_view_module": "@jupyter-widgets/base",
            "_view_module_version": "1.2.0",
            "_view_name": "StyleView",
            "bar_color": null,
            "description_width": ""
          }
        },
        "52fc2c1f1ed0424ca20a5264b65acc87": {
          "model_module": "@jupyter-widgets/base",
          "model_name": "LayoutModel",
          "model_module_version": "1.2.0",
          "state": {
            "_model_module": "@jupyter-widgets/base",
            "_model_module_version": "1.2.0",
            "_model_name": "LayoutModel",
            "_view_count": null,
            "_view_module": "@jupyter-widgets/base",
            "_view_module_version": "1.2.0",
            "_view_name": "LayoutView",
            "align_content": null,
            "align_items": null,
            "align_self": null,
            "border": null,
            "bottom": null,
            "display": null,
            "flex": null,
            "flex_flow": null,
            "grid_area": null,
            "grid_auto_columns": null,
            "grid_auto_flow": null,
            "grid_auto_rows": null,
            "grid_column": null,
            "grid_gap": null,
            "grid_row": null,
            "grid_template_areas": null,
            "grid_template_columns": null,
            "grid_template_rows": null,
            "height": null,
            "justify_content": null,
            "justify_items": null,
            "left": null,
            "margin": null,
            "max_height": null,
            "max_width": null,
            "min_height": null,
            "min_width": null,
            "object_fit": null,
            "object_position": null,
            "order": null,
            "overflow": null,
            "overflow_x": null,
            "overflow_y": null,
            "padding": null,
            "right": null,
            "top": null,
            "visibility": null,
            "width": null
          }
        },
        "eaf57ac4766c474484dab115987d3c56": {
          "model_module": "@jupyter-widgets/controls",
          "model_name": "DescriptionStyleModel",
          "model_module_version": "1.5.0",
          "state": {
            "_model_module": "@jupyter-widgets/controls",
            "_model_module_version": "1.5.0",
            "_model_name": "DescriptionStyleModel",
            "_view_count": null,
            "_view_module": "@jupyter-widgets/base",
            "_view_module_version": "1.2.0",
            "_view_name": "StyleView",
            "description_width": ""
          }
        },
        "8e21d1730c3841a1a251d3df3e94348a": {
          "model_module": "@jupyter-widgets/controls",
          "model_name": "HBoxModel",
          "model_module_version": "1.5.0",
          "state": {
            "_dom_classes": [],
            "_model_module": "@jupyter-widgets/controls",
            "_model_module_version": "1.5.0",
            "_model_name": "HBoxModel",
            "_view_count": null,
            "_view_module": "@jupyter-widgets/controls",
            "_view_module_version": "1.5.0",
            "_view_name": "HBoxView",
            "box_style": "",
            "children": [
              "IPY_MODEL_b8725a3ee0bc428ebaf0bc9f3e2a8bb4",
              "IPY_MODEL_adc9b5623af9451998d867d8f64ddd6d",
              "IPY_MODEL_d172789108d04121b117db9711854b64"
            ],
            "layout": "IPY_MODEL_1dc3a197e23544df90252b858f0fcc80"
          }
        },
        "b8725a3ee0bc428ebaf0bc9f3e2a8bb4": {
          "model_module": "@jupyter-widgets/controls",
          "model_name": "HTMLModel",
          "model_module_version": "1.5.0",
          "state": {
            "_dom_classes": [],
            "_model_module": "@jupyter-widgets/controls",
            "_model_module_version": "1.5.0",
            "_model_name": "HTMLModel",
            "_view_count": null,
            "_view_module": "@jupyter-widgets/controls",
            "_view_module_version": "1.5.0",
            "_view_name": "HTMLView",
            "description": "",
            "description_tooltip": null,
            "layout": "IPY_MODEL_621055bbcbc34752a238767f748fa04f",
            "placeholder": "​",
            "style": "IPY_MODEL_91755928466b4a31853490e217e247e5",
            "value": "Downloading (…)lve/main/config.json: 100%"
          }
        },
        "adc9b5623af9451998d867d8f64ddd6d": {
          "model_module": "@jupyter-widgets/controls",
          "model_name": "FloatProgressModel",
          "model_module_version": "1.5.0",
          "state": {
            "_dom_classes": [],
            "_model_module": "@jupyter-widgets/controls",
            "_model_module_version": "1.5.0",
            "_model_name": "FloatProgressModel",
            "_view_count": null,
            "_view_module": "@jupyter-widgets/controls",
            "_view_module_version": "1.5.0",
            "_view_name": "ProgressView",
            "bar_style": "success",
            "description": "",
            "description_tooltip": null,
            "layout": "IPY_MODEL_fe31ec4db7ae4017bba75710ec76683f",
            "max": 966,
            "min": 0,
            "orientation": "horizontal",
            "style": "IPY_MODEL_c086b1700ca248128e5cabecf610cd64",
            "value": 966
          }
        },
        "d172789108d04121b117db9711854b64": {
          "model_module": "@jupyter-widgets/controls",
          "model_name": "HTMLModel",
          "model_module_version": "1.5.0",
          "state": {
            "_dom_classes": [],
            "_model_module": "@jupyter-widgets/controls",
            "_model_module_version": "1.5.0",
            "_model_name": "HTMLModel",
            "_view_count": null,
            "_view_module": "@jupyter-widgets/controls",
            "_view_module_version": "1.5.0",
            "_view_name": "HTMLView",
            "description": "",
            "description_tooltip": null,
            "layout": "IPY_MODEL_c470432a82e8440183862605ff329a52",
            "placeholder": "​",
            "style": "IPY_MODEL_21cbd3718dc64e388ae93866825b8b15",
            "value": " 966/966 [00:00&lt;00:00, 67.1kB/s]"
          }
        },
        "1dc3a197e23544df90252b858f0fcc80": {
          "model_module": "@jupyter-widgets/base",
          "model_name": "LayoutModel",
          "model_module_version": "1.2.0",
          "state": {
            "_model_module": "@jupyter-widgets/base",
            "_model_module_version": "1.2.0",
            "_model_name": "LayoutModel",
            "_view_count": null,
            "_view_module": "@jupyter-widgets/base",
            "_view_module_version": "1.2.0",
            "_view_name": "LayoutView",
            "align_content": null,
            "align_items": null,
            "align_self": null,
            "border": null,
            "bottom": null,
            "display": null,
            "flex": null,
            "flex_flow": null,
            "grid_area": null,
            "grid_auto_columns": null,
            "grid_auto_flow": null,
            "grid_auto_rows": null,
            "grid_column": null,
            "grid_gap": null,
            "grid_row": null,
            "grid_template_areas": null,
            "grid_template_columns": null,
            "grid_template_rows": null,
            "height": null,
            "justify_content": null,
            "justify_items": null,
            "left": null,
            "margin": null,
            "max_height": null,
            "max_width": null,
            "min_height": null,
            "min_width": null,
            "object_fit": null,
            "object_position": null,
            "order": null,
            "overflow": null,
            "overflow_x": null,
            "overflow_y": null,
            "padding": null,
            "right": null,
            "top": null,
            "visibility": null,
            "width": null
          }
        },
        "621055bbcbc34752a238767f748fa04f": {
          "model_module": "@jupyter-widgets/base",
          "model_name": "LayoutModel",
          "model_module_version": "1.2.0",
          "state": {
            "_model_module": "@jupyter-widgets/base",
            "_model_module_version": "1.2.0",
            "_model_name": "LayoutModel",
            "_view_count": null,
            "_view_module": "@jupyter-widgets/base",
            "_view_module_version": "1.2.0",
            "_view_name": "LayoutView",
            "align_content": null,
            "align_items": null,
            "align_self": null,
            "border": null,
            "bottom": null,
            "display": null,
            "flex": null,
            "flex_flow": null,
            "grid_area": null,
            "grid_auto_columns": null,
            "grid_auto_flow": null,
            "grid_auto_rows": null,
            "grid_column": null,
            "grid_gap": null,
            "grid_row": null,
            "grid_template_areas": null,
            "grid_template_columns": null,
            "grid_template_rows": null,
            "height": null,
            "justify_content": null,
            "justify_items": null,
            "left": null,
            "margin": null,
            "max_height": null,
            "max_width": null,
            "min_height": null,
            "min_width": null,
            "object_fit": null,
            "object_position": null,
            "order": null,
            "overflow": null,
            "overflow_x": null,
            "overflow_y": null,
            "padding": null,
            "right": null,
            "top": null,
            "visibility": null,
            "width": null
          }
        },
        "91755928466b4a31853490e217e247e5": {
          "model_module": "@jupyter-widgets/controls",
          "model_name": "DescriptionStyleModel",
          "model_module_version": "1.5.0",
          "state": {
            "_model_module": "@jupyter-widgets/controls",
            "_model_module_version": "1.5.0",
            "_model_name": "DescriptionStyleModel",
            "_view_count": null,
            "_view_module": "@jupyter-widgets/base",
            "_view_module_version": "1.2.0",
            "_view_name": "StyleView",
            "description_width": ""
          }
        },
        "fe31ec4db7ae4017bba75710ec76683f": {
          "model_module": "@jupyter-widgets/base",
          "model_name": "LayoutModel",
          "model_module_version": "1.2.0",
          "state": {
            "_model_module": "@jupyter-widgets/base",
            "_model_module_version": "1.2.0",
            "_model_name": "LayoutModel",
            "_view_count": null,
            "_view_module": "@jupyter-widgets/base",
            "_view_module_version": "1.2.0",
            "_view_name": "LayoutView",
            "align_content": null,
            "align_items": null,
            "align_self": null,
            "border": null,
            "bottom": null,
            "display": null,
            "flex": null,
            "flex_flow": null,
            "grid_area": null,
            "grid_auto_columns": null,
            "grid_auto_flow": null,
            "grid_auto_rows": null,
            "grid_column": null,
            "grid_gap": null,
            "grid_row": null,
            "grid_template_areas": null,
            "grid_template_columns": null,
            "grid_template_rows": null,
            "height": null,
            "justify_content": null,
            "justify_items": null,
            "left": null,
            "margin": null,
            "max_height": null,
            "max_width": null,
            "min_height": null,
            "min_width": null,
            "object_fit": null,
            "object_position": null,
            "order": null,
            "overflow": null,
            "overflow_x": null,
            "overflow_y": null,
            "padding": null,
            "right": null,
            "top": null,
            "visibility": null,
            "width": null
          }
        },
        "c086b1700ca248128e5cabecf610cd64": {
          "model_module": "@jupyter-widgets/controls",
          "model_name": "ProgressStyleModel",
          "model_module_version": "1.5.0",
          "state": {
            "_model_module": "@jupyter-widgets/controls",
            "_model_module_version": "1.5.0",
            "_model_name": "ProgressStyleModel",
            "_view_count": null,
            "_view_module": "@jupyter-widgets/base",
            "_view_module_version": "1.2.0",
            "_view_name": "StyleView",
            "bar_color": null,
            "description_width": ""
          }
        },
        "c470432a82e8440183862605ff329a52": {
          "model_module": "@jupyter-widgets/base",
          "model_name": "LayoutModel",
          "model_module_version": "1.2.0",
          "state": {
            "_model_module": "@jupyter-widgets/base",
            "_model_module_version": "1.2.0",
            "_model_name": "LayoutModel",
            "_view_count": null,
            "_view_module": "@jupyter-widgets/base",
            "_view_module_version": "1.2.0",
            "_view_name": "LayoutView",
            "align_content": null,
            "align_items": null,
            "align_self": null,
            "border": null,
            "bottom": null,
            "display": null,
            "flex": null,
            "flex_flow": null,
            "grid_area": null,
            "grid_auto_columns": null,
            "grid_auto_flow": null,
            "grid_auto_rows": null,
            "grid_column": null,
            "grid_gap": null,
            "grid_row": null,
            "grid_template_areas": null,
            "grid_template_columns": null,
            "grid_template_rows": null,
            "height": null,
            "justify_content": null,
            "justify_items": null,
            "left": null,
            "margin": null,
            "max_height": null,
            "max_width": null,
            "min_height": null,
            "min_width": null,
            "object_fit": null,
            "object_position": null,
            "order": null,
            "overflow": null,
            "overflow_x": null,
            "overflow_y": null,
            "padding": null,
            "right": null,
            "top": null,
            "visibility": null,
            "width": null
          }
        },
        "21cbd3718dc64e388ae93866825b8b15": {
          "model_module": "@jupyter-widgets/controls",
          "model_name": "DescriptionStyleModel",
          "model_module_version": "1.5.0",
          "state": {
            "_model_module": "@jupyter-widgets/controls",
            "_model_module_version": "1.5.0",
            "_model_name": "DescriptionStyleModel",
            "_view_count": null,
            "_view_module": "@jupyter-widgets/base",
            "_view_module_version": "1.2.0",
            "_view_name": "StyleView",
            "description_width": ""
          }
        },
        "9b3ae6eca4744e7eb33de060ae8feecc": {
          "model_module": "@jupyter-widgets/controls",
          "model_name": "HBoxModel",
          "model_module_version": "1.5.0",
          "state": {
            "_dom_classes": [],
            "_model_module": "@jupyter-widgets/controls",
            "_model_module_version": "1.5.0",
            "_model_name": "HBoxModel",
            "_view_count": null,
            "_view_module": "@jupyter-widgets/controls",
            "_view_module_version": "1.5.0",
            "_view_name": "HBoxView",
            "box_style": "",
            "children": [
              "IPY_MODEL_6bb2b540be664265884c5c59849338d9",
              "IPY_MODEL_6ca8860dcf3e4593baf3185daa6e22e1",
              "IPY_MODEL_23e7f233f974429f8e2ae992d419fd7c"
            ],
            "layout": "IPY_MODEL_611883406b5d4f9fac96e03dfabae2b9"
          }
        },
        "6bb2b540be664265884c5c59849338d9": {
          "model_module": "@jupyter-widgets/controls",
          "model_name": "HTMLModel",
          "model_module_version": "1.5.0",
          "state": {
            "_dom_classes": [],
            "_model_module": "@jupyter-widgets/controls",
            "_model_module_version": "1.5.0",
            "_model_name": "HTMLModel",
            "_view_count": null,
            "_view_module": "@jupyter-widgets/controls",
            "_view_module_version": "1.5.0",
            "_view_name": "HTMLView",
            "description": "",
            "description_tooltip": null,
            "layout": "IPY_MODEL_ca9459a640ea4f0d99a423f86cd555ee",
            "placeholder": "​",
            "style": "IPY_MODEL_1dc07d1c2d3b4b8899c34e42ddfd8404",
            "value": "Downloading (…)solve/main/models.py: 100%"
          }
        },
        "6ca8860dcf3e4593baf3185daa6e22e1": {
          "model_module": "@jupyter-widgets/controls",
          "model_name": "FloatProgressModel",
          "model_module_version": "1.5.0",
          "state": {
            "_dom_classes": [],
            "_model_module": "@jupyter-widgets/controls",
            "_model_module_version": "1.5.0",
            "_model_name": "FloatProgressModel",
            "_view_count": null,
            "_view_module": "@jupyter-widgets/controls",
            "_view_module_version": "1.5.0",
            "_view_name": "ProgressView",
            "bar_style": "success",
            "description": "",
            "description_tooltip": null,
            "layout": "IPY_MODEL_66b978e559ee4000aa36ce7557757e23",
            "max": 21133,
            "min": 0,
            "orientation": "horizontal",
            "style": "IPY_MODEL_ab494bb1cce94033a5eb81a1b35136d4",
            "value": 21133
          }
        },
        "23e7f233f974429f8e2ae992d419fd7c": {
          "model_module": "@jupyter-widgets/controls",
          "model_name": "HTMLModel",
          "model_module_version": "1.5.0",
          "state": {
            "_dom_classes": [],
            "_model_module": "@jupyter-widgets/controls",
            "_model_module_version": "1.5.0",
            "_model_name": "HTMLModel",
            "_view_count": null,
            "_view_module": "@jupyter-widgets/controls",
            "_view_module_version": "1.5.0",
            "_view_name": "HTMLView",
            "description": "",
            "description_tooltip": null,
            "layout": "IPY_MODEL_4fd6937f8e15415aa54f61742d101f67",
            "placeholder": "​",
            "style": "IPY_MODEL_835891f6e95644c98b4fd55c3403f7e2",
            "value": " 21.1k/21.1k [00:00&lt;00:00, 1.29MB/s]"
          }
        },
        "611883406b5d4f9fac96e03dfabae2b9": {
          "model_module": "@jupyter-widgets/base",
          "model_name": "LayoutModel",
          "model_module_version": "1.2.0",
          "state": {
            "_model_module": "@jupyter-widgets/base",
            "_model_module_version": "1.2.0",
            "_model_name": "LayoutModel",
            "_view_count": null,
            "_view_module": "@jupyter-widgets/base",
            "_view_module_version": "1.2.0",
            "_view_name": "LayoutView",
            "align_content": null,
            "align_items": null,
            "align_self": null,
            "border": null,
            "bottom": null,
            "display": null,
            "flex": null,
            "flex_flow": null,
            "grid_area": null,
            "grid_auto_columns": null,
            "grid_auto_flow": null,
            "grid_auto_rows": null,
            "grid_column": null,
            "grid_gap": null,
            "grid_row": null,
            "grid_template_areas": null,
            "grid_template_columns": null,
            "grid_template_rows": null,
            "height": null,
            "justify_content": null,
            "justify_items": null,
            "left": null,
            "margin": null,
            "max_height": null,
            "max_width": null,
            "min_height": null,
            "min_width": null,
            "object_fit": null,
            "object_position": null,
            "order": null,
            "overflow": null,
            "overflow_x": null,
            "overflow_y": null,
            "padding": null,
            "right": null,
            "top": null,
            "visibility": null,
            "width": null
          }
        },
        "ca9459a640ea4f0d99a423f86cd555ee": {
          "model_module": "@jupyter-widgets/base",
          "model_name": "LayoutModel",
          "model_module_version": "1.2.0",
          "state": {
            "_model_module": "@jupyter-widgets/base",
            "_model_module_version": "1.2.0",
            "_model_name": "LayoutModel",
            "_view_count": null,
            "_view_module": "@jupyter-widgets/base",
            "_view_module_version": "1.2.0",
            "_view_name": "LayoutView",
            "align_content": null,
            "align_items": null,
            "align_self": null,
            "border": null,
            "bottom": null,
            "display": null,
            "flex": null,
            "flex_flow": null,
            "grid_area": null,
            "grid_auto_columns": null,
            "grid_auto_flow": null,
            "grid_auto_rows": null,
            "grid_column": null,
            "grid_gap": null,
            "grid_row": null,
            "grid_template_areas": null,
            "grid_template_columns": null,
            "grid_template_rows": null,
            "height": null,
            "justify_content": null,
            "justify_items": null,
            "left": null,
            "margin": null,
            "max_height": null,
            "max_width": null,
            "min_height": null,
            "min_width": null,
            "object_fit": null,
            "object_position": null,
            "order": null,
            "overflow": null,
            "overflow_x": null,
            "overflow_y": null,
            "padding": null,
            "right": null,
            "top": null,
            "visibility": null,
            "width": null
          }
        },
        "1dc07d1c2d3b4b8899c34e42ddfd8404": {
          "model_module": "@jupyter-widgets/controls",
          "model_name": "DescriptionStyleModel",
          "model_module_version": "1.5.0",
          "state": {
            "_model_module": "@jupyter-widgets/controls",
            "_model_module_version": "1.5.0",
            "_model_name": "DescriptionStyleModel",
            "_view_count": null,
            "_view_module": "@jupyter-widgets/base",
            "_view_module_version": "1.2.0",
            "_view_name": "StyleView",
            "description_width": ""
          }
        },
        "66b978e559ee4000aa36ce7557757e23": {
          "model_module": "@jupyter-widgets/base",
          "model_name": "LayoutModel",
          "model_module_version": "1.2.0",
          "state": {
            "_model_module": "@jupyter-widgets/base",
            "_model_module_version": "1.2.0",
            "_model_name": "LayoutModel",
            "_view_count": null,
            "_view_module": "@jupyter-widgets/base",
            "_view_module_version": "1.2.0",
            "_view_name": "LayoutView",
            "align_content": null,
            "align_items": null,
            "align_self": null,
            "border": null,
            "bottom": null,
            "display": null,
            "flex": null,
            "flex_flow": null,
            "grid_area": null,
            "grid_auto_columns": null,
            "grid_auto_flow": null,
            "grid_auto_rows": null,
            "grid_column": null,
            "grid_gap": null,
            "grid_row": null,
            "grid_template_areas": null,
            "grid_template_columns": null,
            "grid_template_rows": null,
            "height": null,
            "justify_content": null,
            "justify_items": null,
            "left": null,
            "margin": null,
            "max_height": null,
            "max_width": null,
            "min_height": null,
            "min_width": null,
            "object_fit": null,
            "object_position": null,
            "order": null,
            "overflow": null,
            "overflow_x": null,
            "overflow_y": null,
            "padding": null,
            "right": null,
            "top": null,
            "visibility": null,
            "width": null
          }
        },
        "ab494bb1cce94033a5eb81a1b35136d4": {
          "model_module": "@jupyter-widgets/controls",
          "model_name": "ProgressStyleModel",
          "model_module_version": "1.5.0",
          "state": {
            "_model_module": "@jupyter-widgets/controls",
            "_model_module_version": "1.5.0",
            "_model_name": "ProgressStyleModel",
            "_view_count": null,
            "_view_module": "@jupyter-widgets/base",
            "_view_module_version": "1.2.0",
            "_view_name": "StyleView",
            "bar_color": null,
            "description_width": ""
          }
        },
        "4fd6937f8e15415aa54f61742d101f67": {
          "model_module": "@jupyter-widgets/base",
          "model_name": "LayoutModel",
          "model_module_version": "1.2.0",
          "state": {
            "_model_module": "@jupyter-widgets/base",
            "_model_module_version": "1.2.0",
            "_model_name": "LayoutModel",
            "_view_count": null,
            "_view_module": "@jupyter-widgets/base",
            "_view_module_version": "1.2.0",
            "_view_name": "LayoutView",
            "align_content": null,
            "align_items": null,
            "align_self": null,
            "border": null,
            "bottom": null,
            "display": null,
            "flex": null,
            "flex_flow": null,
            "grid_area": null,
            "grid_auto_columns": null,
            "grid_auto_flow": null,
            "grid_auto_rows": null,
            "grid_column": null,
            "grid_gap": null,
            "grid_row": null,
            "grid_template_areas": null,
            "grid_template_columns": null,
            "grid_template_rows": null,
            "height": null,
            "justify_content": null,
            "justify_items": null,
            "left": null,
            "margin": null,
            "max_height": null,
            "max_width": null,
            "min_height": null,
            "min_width": null,
            "object_fit": null,
            "object_position": null,
            "order": null,
            "overflow": null,
            "overflow_x": null,
            "overflow_y": null,
            "padding": null,
            "right": null,
            "top": null,
            "visibility": null,
            "width": null
          }
        },
        "835891f6e95644c98b4fd55c3403f7e2": {
          "model_module": "@jupyter-widgets/controls",
          "model_name": "DescriptionStyleModel",
          "model_module_version": "1.5.0",
          "state": {
            "_model_module": "@jupyter-widgets/controls",
            "_model_module_version": "1.5.0",
            "_model_name": "DescriptionStyleModel",
            "_view_count": null,
            "_view_module": "@jupyter-widgets/base",
            "_view_module_version": "1.2.0",
            "_view_name": "StyleView",
            "description_width": ""
          }
        },
        "5f132ae98e4f41268baaadf5759e7525": {
          "model_module": "@jupyter-widgets/controls",
          "model_name": "HBoxModel",
          "model_module_version": "1.5.0",
          "state": {
            "_dom_classes": [],
            "_model_module": "@jupyter-widgets/controls",
            "_model_module_version": "1.5.0",
            "_model_name": "HBoxModel",
            "_view_count": null,
            "_view_module": "@jupyter-widgets/controls",
            "_view_module_version": "1.5.0",
            "_view_name": "HBoxView",
            "box_style": "",
            "children": [
              "IPY_MODEL_c633a14984fe46ae8595442abc165a6e",
              "IPY_MODEL_4e155e0265dc440ea7cf1c8c602a0ce2",
              "IPY_MODEL_9c6eb1144ad04c178a1c733ff3dc130b"
            ],
            "layout": "IPY_MODEL_5ae8b4858da74ca3b4b33fe496908731"
          }
        },
        "c633a14984fe46ae8595442abc165a6e": {
          "model_module": "@jupyter-widgets/controls",
          "model_name": "HTMLModel",
          "model_module_version": "1.5.0",
          "state": {
            "_dom_classes": [],
            "_model_module": "@jupyter-widgets/controls",
            "_model_module_version": "1.5.0",
            "_model_name": "HTMLModel",
            "_view_count": null,
            "_view_module": "@jupyter-widgets/controls",
            "_view_module_version": "1.5.0",
            "_view_name": "HTMLView",
            "description": "",
            "description_tooltip": null,
            "layout": "IPY_MODEL_1e9cd40cede846a5a86187d01c3475fb",
            "placeholder": "​",
            "style": "IPY_MODEL_c87984902d3d4e48ab3d43da98156c2a",
            "value": "Downloading pytorch_model.bin: 100%"
          }
        },
        "4e155e0265dc440ea7cf1c8c602a0ce2": {
          "model_module": "@jupyter-widgets/controls",
          "model_name": "FloatProgressModel",
          "model_module_version": "1.5.0",
          "state": {
            "_dom_classes": [],
            "_model_module": "@jupyter-widgets/controls",
            "_model_module_version": "1.5.0",
            "_model_name": "FloatProgressModel",
            "_view_count": null,
            "_view_module": "@jupyter-widgets/controls",
            "_view_module_version": "1.5.0",
            "_view_name": "ProgressView",
            "bar_style": "success",
            "description": "",
            "description_tooltip": null,
            "layout": "IPY_MODEL_8e3e72375a07461d856ee747820f493a",
            "max": 413868149,
            "min": 0,
            "orientation": "horizontal",
            "style": "IPY_MODEL_d0b6a01f66b84fd8836a35671738ba31",
            "value": 413868149
          }
        },
        "9c6eb1144ad04c178a1c733ff3dc130b": {
          "model_module": "@jupyter-widgets/controls",
          "model_name": "HTMLModel",
          "model_module_version": "1.5.0",
          "state": {
            "_dom_classes": [],
            "_model_module": "@jupyter-widgets/controls",
            "_model_module_version": "1.5.0",
            "_model_name": "HTMLModel",
            "_view_count": null,
            "_view_module": "@jupyter-widgets/controls",
            "_view_module_version": "1.5.0",
            "_view_name": "HTMLView",
            "description": "",
            "description_tooltip": null,
            "layout": "IPY_MODEL_0a81061212f1439a8a0fd0b1e03e0891",
            "placeholder": "​",
            "style": "IPY_MODEL_d88bdae409f049e2bb79db5a0174a6dd",
            "value": " 414M/414M [00:01&lt;00:00, 392MB/s]"
          }
        },
        "5ae8b4858da74ca3b4b33fe496908731": {
          "model_module": "@jupyter-widgets/base",
          "model_name": "LayoutModel",
          "model_module_version": "1.2.0",
          "state": {
            "_model_module": "@jupyter-widgets/base",
            "_model_module_version": "1.2.0",
            "_model_name": "LayoutModel",
            "_view_count": null,
            "_view_module": "@jupyter-widgets/base",
            "_view_module_version": "1.2.0",
            "_view_name": "LayoutView",
            "align_content": null,
            "align_items": null,
            "align_self": null,
            "border": null,
            "bottom": null,
            "display": null,
            "flex": null,
            "flex_flow": null,
            "grid_area": null,
            "grid_auto_columns": null,
            "grid_auto_flow": null,
            "grid_auto_rows": null,
            "grid_column": null,
            "grid_gap": null,
            "grid_row": null,
            "grid_template_areas": null,
            "grid_template_columns": null,
            "grid_template_rows": null,
            "height": null,
            "justify_content": null,
            "justify_items": null,
            "left": null,
            "margin": null,
            "max_height": null,
            "max_width": null,
            "min_height": null,
            "min_width": null,
            "object_fit": null,
            "object_position": null,
            "order": null,
            "overflow": null,
            "overflow_x": null,
            "overflow_y": null,
            "padding": null,
            "right": null,
            "top": null,
            "visibility": null,
            "width": null
          }
        },
        "1e9cd40cede846a5a86187d01c3475fb": {
          "model_module": "@jupyter-widgets/base",
          "model_name": "LayoutModel",
          "model_module_version": "1.2.0",
          "state": {
            "_model_module": "@jupyter-widgets/base",
            "_model_module_version": "1.2.0",
            "_model_name": "LayoutModel",
            "_view_count": null,
            "_view_module": "@jupyter-widgets/base",
            "_view_module_version": "1.2.0",
            "_view_name": "LayoutView",
            "align_content": null,
            "align_items": null,
            "align_self": null,
            "border": null,
            "bottom": null,
            "display": null,
            "flex": null,
            "flex_flow": null,
            "grid_area": null,
            "grid_auto_columns": null,
            "grid_auto_flow": null,
            "grid_auto_rows": null,
            "grid_column": null,
            "grid_gap": null,
            "grid_row": null,
            "grid_template_areas": null,
            "grid_template_columns": null,
            "grid_template_rows": null,
            "height": null,
            "justify_content": null,
            "justify_items": null,
            "left": null,
            "margin": null,
            "max_height": null,
            "max_width": null,
            "min_height": null,
            "min_width": null,
            "object_fit": null,
            "object_position": null,
            "order": null,
            "overflow": null,
            "overflow_x": null,
            "overflow_y": null,
            "padding": null,
            "right": null,
            "top": null,
            "visibility": null,
            "width": null
          }
        },
        "c87984902d3d4e48ab3d43da98156c2a": {
          "model_module": "@jupyter-widgets/controls",
          "model_name": "DescriptionStyleModel",
          "model_module_version": "1.5.0",
          "state": {
            "_model_module": "@jupyter-widgets/controls",
            "_model_module_version": "1.5.0",
            "_model_name": "DescriptionStyleModel",
            "_view_count": null,
            "_view_module": "@jupyter-widgets/base",
            "_view_module_version": "1.2.0",
            "_view_name": "StyleView",
            "description_width": ""
          }
        },
        "8e3e72375a07461d856ee747820f493a": {
          "model_module": "@jupyter-widgets/base",
          "model_name": "LayoutModel",
          "model_module_version": "1.2.0",
          "state": {
            "_model_module": "@jupyter-widgets/base",
            "_model_module_version": "1.2.0",
            "_model_name": "LayoutModel",
            "_view_count": null,
            "_view_module": "@jupyter-widgets/base",
            "_view_module_version": "1.2.0",
            "_view_name": "LayoutView",
            "align_content": null,
            "align_items": null,
            "align_self": null,
            "border": null,
            "bottom": null,
            "display": null,
            "flex": null,
            "flex_flow": null,
            "grid_area": null,
            "grid_auto_columns": null,
            "grid_auto_flow": null,
            "grid_auto_rows": null,
            "grid_column": null,
            "grid_gap": null,
            "grid_row": null,
            "grid_template_areas": null,
            "grid_template_columns": null,
            "grid_template_rows": null,
            "height": null,
            "justify_content": null,
            "justify_items": null,
            "left": null,
            "margin": null,
            "max_height": null,
            "max_width": null,
            "min_height": null,
            "min_width": null,
            "object_fit": null,
            "object_position": null,
            "order": null,
            "overflow": null,
            "overflow_x": null,
            "overflow_y": null,
            "padding": null,
            "right": null,
            "top": null,
            "visibility": null,
            "width": null
          }
        },
        "d0b6a01f66b84fd8836a35671738ba31": {
          "model_module": "@jupyter-widgets/controls",
          "model_name": "ProgressStyleModel",
          "model_module_version": "1.5.0",
          "state": {
            "_model_module": "@jupyter-widgets/controls",
            "_model_module_version": "1.5.0",
            "_model_name": "ProgressStyleModel",
            "_view_count": null,
            "_view_module": "@jupyter-widgets/base",
            "_view_module_version": "1.2.0",
            "_view_name": "StyleView",
            "bar_color": null,
            "description_width": ""
          }
        },
        "0a81061212f1439a8a0fd0b1e03e0891": {
          "model_module": "@jupyter-widgets/base",
          "model_name": "LayoutModel",
          "model_module_version": "1.2.0",
          "state": {
            "_model_module": "@jupyter-widgets/base",
            "_model_module_version": "1.2.0",
            "_model_name": "LayoutModel",
            "_view_count": null,
            "_view_module": "@jupyter-widgets/base",
            "_view_module_version": "1.2.0",
            "_view_name": "LayoutView",
            "align_content": null,
            "align_items": null,
            "align_self": null,
            "border": null,
            "bottom": null,
            "display": null,
            "flex": null,
            "flex_flow": null,
            "grid_area": null,
            "grid_auto_columns": null,
            "grid_auto_flow": null,
            "grid_auto_rows": null,
            "grid_column": null,
            "grid_gap": null,
            "grid_row": null,
            "grid_template_areas": null,
            "grid_template_columns": null,
            "grid_template_rows": null,
            "height": null,
            "justify_content": null,
            "justify_items": null,
            "left": null,
            "margin": null,
            "max_height": null,
            "max_width": null,
            "min_height": null,
            "min_width": null,
            "object_fit": null,
            "object_position": null,
            "order": null,
            "overflow": null,
            "overflow_x": null,
            "overflow_y": null,
            "padding": null,
            "right": null,
            "top": null,
            "visibility": null,
            "width": null
          }
        },
        "d88bdae409f049e2bb79db5a0174a6dd": {
          "model_module": "@jupyter-widgets/controls",
          "model_name": "DescriptionStyleModel",
          "model_module_version": "1.5.0",
          "state": {
            "_model_module": "@jupyter-widgets/controls",
            "_model_module_version": "1.5.0",
            "_model_name": "DescriptionStyleModel",
            "_view_count": null,
            "_view_module": "@jupyter-widgets/base",
            "_view_module_version": "1.2.0",
            "_view_name": "StyleView",
            "description_width": ""
          }
        }
      }
    }
  },
  "cells": [
    {
      "cell_type": "markdown",
      "source": [
        "## 安装环境"
      ],
      "metadata": {
        "id": "HzcRBeRkt9bf"
      }
    },
    {
      "cell_type": "code",
      "execution_count": 1,
      "metadata": {
        "colab": {
          "base_uri": "https://localhost:8080/"
        },
        "id": "Sl9sDAeTtslJ",
        "outputId": "85df440d-56a4-4fb0-8687-093df75a43ee"
      },
      "outputs": [
        {
          "output_type": "stream",
          "name": "stdout",
          "text": [
            "Looking in indexes: https://pypi.org/simple, https://us-python.pkg.dev/colab-wheels/public/simple/\n",
            "Collecting transformers\n",
            "  Downloading transformers-4.29.2-py3-none-any.whl (7.1 MB)\n",
            "\u001b[2K     \u001b[90m━━━━━━━━━━━━━━━━━━━━━━━━━━━━━━━━━━━━━━━━\u001b[0m \u001b[32m7.1/7.1 MB\u001b[0m \u001b[31m100.9 MB/s\u001b[0m eta \u001b[36m0:00:00\u001b[0m\n",
            "\u001b[?25hRequirement already satisfied: filelock in /usr/local/lib/python3.10/dist-packages (from transformers) (3.12.0)\n",
            "Collecting huggingface-hub<1.0,>=0.14.1 (from transformers)\n",
            "  Downloading huggingface_hub-0.15.1-py3-none-any.whl (236 kB)\n",
            "\u001b[2K     \u001b[90m━━━━━━━━━━━━━━━━━━━━━━━━━━━━━━━━━━━━━━\u001b[0m \u001b[32m236.8/236.8 kB\u001b[0m \u001b[31m29.2 MB/s\u001b[0m eta \u001b[36m0:00:00\u001b[0m\n",
            "\u001b[?25hRequirement already satisfied: numpy>=1.17 in /usr/local/lib/python3.10/dist-packages (from transformers) (1.22.4)\n",
            "Requirement already satisfied: packaging>=20.0 in /usr/local/lib/python3.10/dist-packages (from transformers) (23.1)\n",
            "Requirement already satisfied: pyyaml>=5.1 in /usr/local/lib/python3.10/dist-packages (from transformers) (6.0)\n",
            "Requirement already satisfied: regex!=2019.12.17 in /usr/local/lib/python3.10/dist-packages (from transformers) (2022.10.31)\n",
            "Requirement already satisfied: requests in /usr/local/lib/python3.10/dist-packages (from transformers) (2.27.1)\n",
            "Collecting tokenizers!=0.11.3,<0.14,>=0.11.1 (from transformers)\n",
            "  Downloading tokenizers-0.13.3-cp310-cp310-manylinux_2_17_x86_64.manylinux2014_x86_64.whl (7.8 MB)\n",
            "\u001b[2K     \u001b[90m━━━━━━━━━━━━━━━━━━━━━━━━━━━━━━━━━━━━━━━━\u001b[0m \u001b[32m7.8/7.8 MB\u001b[0m \u001b[31m129.0 MB/s\u001b[0m eta \u001b[36m0:00:00\u001b[0m\n",
            "\u001b[?25hRequirement already satisfied: tqdm>=4.27 in /usr/local/lib/python3.10/dist-packages (from transformers) (4.65.0)\n",
            "Requirement already satisfied: fsspec in /usr/local/lib/python3.10/dist-packages (from huggingface-hub<1.0,>=0.14.1->transformers) (2023.4.0)\n",
            "Requirement already satisfied: typing-extensions>=3.7.4.3 in /usr/local/lib/python3.10/dist-packages (from huggingface-hub<1.0,>=0.14.1->transformers) (4.5.0)\n",
            "Requirement already satisfied: urllib3<1.27,>=1.21.1 in /usr/local/lib/python3.10/dist-packages (from requests->transformers) (1.26.15)\n",
            "Requirement already satisfied: certifi>=2017.4.17 in /usr/local/lib/python3.10/dist-packages (from requests->transformers) (2022.12.7)\n",
            "Requirement already satisfied: charset-normalizer~=2.0.0 in /usr/local/lib/python3.10/dist-packages (from requests->transformers) (2.0.12)\n",
            "Requirement already satisfied: idna<4,>=2.5 in /usr/local/lib/python3.10/dist-packages (from requests->transformers) (3.4)\n",
            "Installing collected packages: tokenizers, huggingface-hub, transformers\n",
            "Successfully installed huggingface-hub-0.15.1 tokenizers-0.13.3 transformers-4.29.2\n",
            "Looking in indexes: https://pypi.org/simple, https://us-python.pkg.dev/colab-wheels/public/simple/\n",
            "Collecting openai\n",
            "  Downloading openai-0.27.7-py3-none-any.whl (71 kB)\n",
            "\u001b[2K     \u001b[90m━━━━━━━━━━━━━━━━━━━━━━━━━━━━━━━━━━━━━━━\u001b[0m \u001b[32m72.0/72.0 kB\u001b[0m \u001b[31m300.2 kB/s\u001b[0m eta \u001b[36m0:00:00\u001b[0m\n",
            "\u001b[?25hRequirement already satisfied: requests>=2.20 in /usr/local/lib/python3.10/dist-packages (from openai) (2.27.1)\n",
            "Requirement already satisfied: tqdm in /usr/local/lib/python3.10/dist-packages (from openai) (4.65.0)\n",
            "Collecting aiohttp (from openai)\n",
            "  Downloading aiohttp-3.8.4-cp310-cp310-manylinux_2_17_x86_64.manylinux2014_x86_64.whl (1.0 MB)\n",
            "\u001b[2K     \u001b[90m━━━━━━━━━━━━━━━━━━━━━━━━━━━━━━━━━━━━━━━━\u001b[0m \u001b[32m1.0/1.0 MB\u001b[0m \u001b[31m45.5 MB/s\u001b[0m eta \u001b[36m0:00:00\u001b[0m\n",
            "\u001b[?25hRequirement already satisfied: urllib3<1.27,>=1.21.1 in /usr/local/lib/python3.10/dist-packages (from requests>=2.20->openai) (1.26.15)\n",
            "Requirement already satisfied: certifi>=2017.4.17 in /usr/local/lib/python3.10/dist-packages (from requests>=2.20->openai) (2022.12.7)\n",
            "Requirement already satisfied: charset-normalizer~=2.0.0 in /usr/local/lib/python3.10/dist-packages (from requests>=2.20->openai) (2.0.12)\n",
            "Requirement already satisfied: idna<4,>=2.5 in /usr/local/lib/python3.10/dist-packages (from requests>=2.20->openai) (3.4)\n",
            "Requirement already satisfied: attrs>=17.3.0 in /usr/local/lib/python3.10/dist-packages (from aiohttp->openai) (23.1.0)\n",
            "Collecting multidict<7.0,>=4.5 (from aiohttp->openai)\n",
            "  Downloading multidict-6.0.4-cp310-cp310-manylinux_2_17_x86_64.manylinux2014_x86_64.whl (114 kB)\n",
            "\u001b[2K     \u001b[90m━━━━━━━━━━━━━━━━━━━━━━━━━━━━━━━━━━━━━━\u001b[0m \u001b[32m114.5/114.5 kB\u001b[0m \u001b[31m14.5 MB/s\u001b[0m eta \u001b[36m0:00:00\u001b[0m\n",
            "\u001b[?25hCollecting async-timeout<5.0,>=4.0.0a3 (from aiohttp->openai)\n",
            "  Downloading async_timeout-4.0.2-py3-none-any.whl (5.8 kB)\n",
            "Collecting yarl<2.0,>=1.0 (from aiohttp->openai)\n",
            "  Downloading yarl-1.9.2-cp310-cp310-manylinux_2_17_x86_64.manylinux2014_x86_64.whl (268 kB)\n",
            "\u001b[2K     \u001b[90m━━━━━━━━━━━━━━━━━━━━━━━━━━━━━━━━━━━━━━\u001b[0m \u001b[32m268.8/268.8 kB\u001b[0m \u001b[31m30.7 MB/s\u001b[0m eta \u001b[36m0:00:00\u001b[0m\n",
            "\u001b[?25hCollecting frozenlist>=1.1.1 (from aiohttp->openai)\n",
            "  Downloading frozenlist-1.3.3-cp310-cp310-manylinux_2_5_x86_64.manylinux1_x86_64.manylinux_2_17_x86_64.manylinux2014_x86_64.whl (149 kB)\n",
            "\u001b[2K     \u001b[90m━━━━━━━━━━━━━━━━━━━━━━━━━━━━━━━━━━━━━━\u001b[0m \u001b[32m149.6/149.6 kB\u001b[0m \u001b[31m20.8 MB/s\u001b[0m eta \u001b[36m0:00:00\u001b[0m\n",
            "\u001b[?25hCollecting aiosignal>=1.1.2 (from aiohttp->openai)\n",
            "  Downloading aiosignal-1.3.1-py3-none-any.whl (7.6 kB)\n",
            "Installing collected packages: multidict, frozenlist, async-timeout, yarl, aiosignal, aiohttp, openai\n",
            "Successfully installed aiohttp-3.8.4 aiosignal-1.3.1 async-timeout-4.0.2 frozenlist-1.3.3 multidict-6.0.4 openai-0.27.7 yarl-1.9.2\n",
            "Looking in indexes: https://pypi.org/simple, https://us-python.pkg.dev/colab-wheels/public/simple/\n",
            "Collecting openTSNE\n",
            "  Downloading openTSNE-1.0.0-cp310-cp310-manylinux_2_17_x86_64.manylinux2014_x86_64.whl (2.7 MB)\n",
            "\u001b[2K     \u001b[90m━━━━━━━━━━━━━━━━━━━━━━━━━━━━━━━━━━━━━━━━\u001b[0m \u001b[32m2.7/2.7 MB\u001b[0m \u001b[31m25.3 MB/s\u001b[0m eta \u001b[36m0:00:00\u001b[0m\n",
            "\u001b[?25hRequirement already satisfied: numpy>=1.16.6 in /usr/local/lib/python3.10/dist-packages (from openTSNE) (1.22.4)\n",
            "Requirement already satisfied: scikit-learn>=0.20 in /usr/local/lib/python3.10/dist-packages (from openTSNE) (1.2.2)\n",
            "Requirement already satisfied: scipy in /usr/local/lib/python3.10/dist-packages (from openTSNE) (1.10.1)\n",
            "Requirement already satisfied: joblib>=1.1.1 in /usr/local/lib/python3.10/dist-packages (from scikit-learn>=0.20->openTSNE) (1.2.0)\n",
            "Requirement already satisfied: threadpoolctl>=2.0.0 in /usr/local/lib/python3.10/dist-packages (from scikit-learn>=0.20->openTSNE) (3.1.0)\n",
            "Installing collected packages: openTSNE\n",
            "Successfully installed openTSNE-1.0.0\n",
            "Looking in indexes: https://pypi.org/simple, https://us-python.pkg.dev/colab-wheels/public/simple/\n",
            "Collecting datasets\n",
            "  Downloading datasets-2.12.0-py3-none-any.whl (474 kB)\n",
            "\u001b[2K     \u001b[90m━━━━━━━━━━━━━━━━━━━━━━━━━━━━━━━━━━━━━━\u001b[0m \u001b[32m474.6/474.6 kB\u001b[0m \u001b[31m34.0 MB/s\u001b[0m eta \u001b[36m0:00:00\u001b[0m\n",
            "\u001b[?25hRequirement already satisfied: numpy>=1.17 in /usr/local/lib/python3.10/dist-packages (from datasets) (1.22.4)\n",
            "Requirement already satisfied: pyarrow>=8.0.0 in /usr/local/lib/python3.10/dist-packages (from datasets) (9.0.0)\n",
            "Collecting dill<0.3.7,>=0.3.0 (from datasets)\n",
            "  Downloading dill-0.3.6-py3-none-any.whl (110 kB)\n",
            "\u001b[2K     \u001b[90m━━━━━━━━━━━━━━━━━━━━━━━━━━━━━━━━━━━━━━\u001b[0m \u001b[32m110.5/110.5 kB\u001b[0m \u001b[31m14.8 MB/s\u001b[0m eta \u001b[36m0:00:00\u001b[0m\n",
            "\u001b[?25hRequirement already satisfied: pandas in /usr/local/lib/python3.10/dist-packages (from datasets) (1.5.3)\n",
            "Requirement already satisfied: requests>=2.19.0 in /usr/local/lib/python3.10/dist-packages (from datasets) (2.27.1)\n",
            "Requirement already satisfied: tqdm>=4.62.1 in /usr/local/lib/python3.10/dist-packages (from datasets) (4.65.0)\n",
            "Collecting xxhash (from datasets)\n",
            "  Downloading xxhash-3.2.0-cp310-cp310-manylinux_2_17_x86_64.manylinux2014_x86_64.whl (212 kB)\n",
            "\u001b[2K     \u001b[90m━━━━━━━━━━━━━━━━━━━━━━━━━━━━━━━━━━━━━━\u001b[0m \u001b[32m212.5/212.5 kB\u001b[0m \u001b[31m29.6 MB/s\u001b[0m eta \u001b[36m0:00:00\u001b[0m\n",
            "\u001b[?25hCollecting multiprocess (from datasets)\n",
            "  Downloading multiprocess-0.70.14-py310-none-any.whl (134 kB)\n",
            "\u001b[2K     \u001b[90m━━━━━━━━━━━━━━━━━━━━━━━━━━━━━━━━━━━━━━\u001b[0m \u001b[32m134.3/134.3 kB\u001b[0m \u001b[31m20.2 MB/s\u001b[0m eta \u001b[36m0:00:00\u001b[0m\n",
            "\u001b[?25hRequirement already satisfied: fsspec[http]>=2021.11.1 in /usr/local/lib/python3.10/dist-packages (from datasets) (2023.4.0)\n",
            "Requirement already satisfied: aiohttp in /usr/local/lib/python3.10/dist-packages (from datasets) (3.8.4)\n",
            "Requirement already satisfied: huggingface-hub<1.0.0,>=0.11.0 in /usr/local/lib/python3.10/dist-packages (from datasets) (0.15.1)\n",
            "Requirement already satisfied: packaging in /usr/local/lib/python3.10/dist-packages (from datasets) (23.1)\n",
            "Collecting responses<0.19 (from datasets)\n",
            "  Downloading responses-0.18.0-py3-none-any.whl (38 kB)\n",
            "Requirement already satisfied: pyyaml>=5.1 in /usr/local/lib/python3.10/dist-packages (from datasets) (6.0)\n",
            "Requirement already satisfied: attrs>=17.3.0 in /usr/local/lib/python3.10/dist-packages (from aiohttp->datasets) (23.1.0)\n",
            "Requirement already satisfied: charset-normalizer<4.0,>=2.0 in /usr/local/lib/python3.10/dist-packages (from aiohttp->datasets) (2.0.12)\n",
            "Requirement already satisfied: multidict<7.0,>=4.5 in /usr/local/lib/python3.10/dist-packages (from aiohttp->datasets) (6.0.4)\n",
            "Requirement already satisfied: async-timeout<5.0,>=4.0.0a3 in /usr/local/lib/python3.10/dist-packages (from aiohttp->datasets) (4.0.2)\n",
            "Requirement already satisfied: yarl<2.0,>=1.0 in /usr/local/lib/python3.10/dist-packages (from aiohttp->datasets) (1.9.2)\n",
            "Requirement already satisfied: frozenlist>=1.1.1 in /usr/local/lib/python3.10/dist-packages (from aiohttp->datasets) (1.3.3)\n",
            "Requirement already satisfied: aiosignal>=1.1.2 in /usr/local/lib/python3.10/dist-packages (from aiohttp->datasets) (1.3.1)\n",
            "Requirement already satisfied: filelock in /usr/local/lib/python3.10/dist-packages (from huggingface-hub<1.0.0,>=0.11.0->datasets) (3.12.0)\n",
            "Requirement already satisfied: typing-extensions>=3.7.4.3 in /usr/local/lib/python3.10/dist-packages (from huggingface-hub<1.0.0,>=0.11.0->datasets) (4.5.0)\n",
            "Requirement already satisfied: urllib3<1.27,>=1.21.1 in /usr/local/lib/python3.10/dist-packages (from requests>=2.19.0->datasets) (1.26.15)\n",
            "Requirement already satisfied: certifi>=2017.4.17 in /usr/local/lib/python3.10/dist-packages (from requests>=2.19.0->datasets) (2022.12.7)\n",
            "Requirement already satisfied: idna<4,>=2.5 in /usr/local/lib/python3.10/dist-packages (from requests>=2.19.0->datasets) (3.4)\n",
            "Requirement already satisfied: python-dateutil>=2.8.1 in /usr/local/lib/python3.10/dist-packages (from pandas->datasets) (2.8.2)\n",
            "Requirement already satisfied: pytz>=2020.1 in /usr/local/lib/python3.10/dist-packages (from pandas->datasets) (2022.7.1)\n",
            "Requirement already satisfied: six>=1.5 in /usr/local/lib/python3.10/dist-packages (from python-dateutil>=2.8.1->pandas->datasets) (1.16.0)\n",
            "Installing collected packages: xxhash, dill, responses, multiprocess, datasets\n",
            "Successfully installed datasets-2.12.0 dill-0.3.6 multiprocess-0.70.14 responses-0.18.0 xxhash-3.2.0\n"
          ]
        }
      ],
      "source": [
        "# Requirements\n",
        "!pip install transformers\n",
        "!pip install openai\n",
        "!pip install openTSNE\n",
        "!pip install datasets"
      ]
    },
    {
      "cell_type": "markdown",
      "source": [
        "## 从骆驼嵌入项目中获取数据"
      ],
      "metadata": {
        "id": "aWuJLflCuN89"
      }
    },
    {
      "cell_type": "code",
      "source": [
        "!git clone https://github.com/LC1332/Luotuo-Text-Embedding.git"
      ],
      "metadata": {
        "id": "dUnGmo9jt7S5",
        "colab": {
          "base_uri": "https://localhost:8080/"
        },
        "outputId": "903ee3c7-cc09-44b2-b6fd-878089252a72"
      },
      "execution_count": 2,
      "outputs": [
        {
          "output_type": "stream",
          "name": "stdout",
          "text": [
            "Cloning into 'Luotuo-Text-Embedding'...\n",
            "remote: Enumerating objects: 622, done.\u001b[K\n",
            "remote: Counting objects: 100% (20/20), done.\u001b[K\n",
            "remote: Compressing objects: 100% (15/15), done.\u001b[K\n",
            "remote: Total 622 (delta 7), reused 13 (delta 5), pack-reused 602\u001b[K\n",
            "Receiving objects: 100% (622/622), 36.68 MiB | 11.43 MiB/s, done.\n",
            "Resolving deltas: 100% (372/372), done.\n"
          ]
        }
      ]
    },
    {
      "cell_type": "markdown",
      "source": [
        "## 从Hugging Face中获取模型\n",
        "\n",
        "我们的骆驼BERT的主要模型为luotuo-bert\n",
        "\n",
        "现在暂时是110M的小模型。之后中模型上线之后,luotuo-bert会替换为300M以上的较大的模型，同时小模型会更名为luotuo-bert-small"
      ],
      "metadata": {
        "id": "N9SDhATCuTvn"
      }
    },
    {
      "cell_type": "code",
      "source": [
        "import torch\n",
        "from scipy.spatial.distance import cosine\n",
        "from transformers import AutoModel, AutoTokenizer\n",
        "from argparse import Namespace\n",
        "# Import our models. The package will take care of downloading the models automatically\n",
        "tokenizer = AutoTokenizer.from_pretrained(\"silk-road/luotuo-bert\")\n",
        "model_args = Namespace(do_mlm=None, pooler_type=\"cls\", temp=0.05, mlp_only_train=False, init_embeddings_model=None)\n",
        "model = AutoModel.from_pretrained(\"silk-road/luotuo-bert\", trust_remote_code=True, model_args=model_args)"
      ],
      "metadata": {
        "id": "oFH081eSuUla",
        "colab": {
          "base_uri": "https://localhost:8080/",
          "height": 315,
          "referenced_widgets": [
            "b89ea6225e784ea0b8837ea7a02d9dd9",
            "c66a820f93674538affd1a704579bdf7",
            "2e41e924b27b412ca183f60d1c5f20d5",
            "a3d45272026949ea898dea15704303cc",
            "57c852666ddb453b9f953c8bc5a5848c",
            "9c1ca9568ef746feabf8965d378009e0",
            "94730fb8146943d2b00919aa36f706a3",
            "7a42b9e45ac943d590a6c0876bcda0fc",
            "94511f05b1964133ac30d0a0adab891b",
            "0db39bbf80dd46eb9fa8cfa9b2f9bc3f",
            "636e8c10e760441ca1f48e93fc424693",
            "6ef347123d4144eb8a63420967ad2518",
            "86abced4b6584c758dad73bdf58ab1ad",
            "9ac9da86f6df474b8b68ed08bd7ab206",
            "5189f3cf73eb462c9a1db5a12c07b188",
            "81f95f3d59224c9cbe30eaf92836a906",
            "0b2f2f14c241427ea187d493559ad041",
            "4293de498c2e45bebe4074f8b7402dff",
            "57056f94fd714cbaaae2a389b25c795a",
            "0e95b161e52944d09ce25cbaef58ac56",
            "59839b671db74b2ba093c274ca71cd33",
            "b54dc300b0ad4e26a83b1e8e61d31e9e",
            "7fa1da27172846908cc29dc53a61d4a9",
            "3cf24c6dd05843d1ab59c1002ae835c3",
            "d7880a253c624506bb47f9e6d9677ff9",
            "9f47feef9214453d9c3b15fb98e19388",
            "8bfe2ed129e54d9ea5d737bdc64279e2",
            "92327eae284649f29a3f93f08ebf34e7",
            "3c858f3ac6284ba0a9af6137fcc3c0f8",
            "1f4381b28d42495d8b9aeb7050e3cb9c",
            "4f83f87f957e4fd1ad37f427b5c2f4d4",
            "98d1d7671d9c47879a6d56c1c5b08701",
            "f941f20a1b1a48958440958698d3c333",
            "0637b06121284c25b344c25034e4d69d",
            "e04834abae174e8db8c55f2e6ad2b9f3",
            "baa6f8112f9243b1b55b25351f059fdc",
            "257931fc60dc4814ba699e60b9b3143b",
            "9b05eba9e41f439dbfbd38500472043a",
            "baa816d7877e4e9f9c6513eef91a0901",
            "a968639e13124297be57db1b17592f2b",
            "6109dd91e5f34929a03e885789ed3fd7",
            "d222225dd1134c2291e2e47b74039d57",
            "52fc2c1f1ed0424ca20a5264b65acc87",
            "eaf57ac4766c474484dab115987d3c56",
            "8e21d1730c3841a1a251d3df3e94348a",
            "b8725a3ee0bc428ebaf0bc9f3e2a8bb4",
            "adc9b5623af9451998d867d8f64ddd6d",
            "d172789108d04121b117db9711854b64",
            "1dc3a197e23544df90252b858f0fcc80",
            "621055bbcbc34752a238767f748fa04f",
            "91755928466b4a31853490e217e247e5",
            "fe31ec4db7ae4017bba75710ec76683f",
            "c086b1700ca248128e5cabecf610cd64",
            "c470432a82e8440183862605ff329a52",
            "21cbd3718dc64e388ae93866825b8b15",
            "9b3ae6eca4744e7eb33de060ae8feecc",
            "6bb2b540be664265884c5c59849338d9",
            "6ca8860dcf3e4593baf3185daa6e22e1",
            "23e7f233f974429f8e2ae992d419fd7c",
            "611883406b5d4f9fac96e03dfabae2b9",
            "ca9459a640ea4f0d99a423f86cd555ee",
            "1dc07d1c2d3b4b8899c34e42ddfd8404",
            "66b978e559ee4000aa36ce7557757e23",
            "ab494bb1cce94033a5eb81a1b35136d4",
            "4fd6937f8e15415aa54f61742d101f67",
            "835891f6e95644c98b4fd55c3403f7e2",
            "5f132ae98e4f41268baaadf5759e7525",
            "c633a14984fe46ae8595442abc165a6e",
            "4e155e0265dc440ea7cf1c8c602a0ce2",
            "9c6eb1144ad04c178a1c733ff3dc130b",
            "5ae8b4858da74ca3b4b33fe496908731",
            "1e9cd40cede846a5a86187d01c3475fb",
            "c87984902d3d4e48ab3d43da98156c2a",
            "8e3e72375a07461d856ee747820f493a",
            "d0b6a01f66b84fd8836a35671738ba31",
            "0a81061212f1439a8a0fd0b1e03e0891",
            "d88bdae409f049e2bb79db5a0174a6dd"
          ]
        },
        "outputId": "ce0344c0-15d3-49ce-b0ea-136ecb07266c"
      },
      "execution_count": 3,
      "outputs": [
        {
          "output_type": "display_data",
          "data": {
            "text/plain": [
              "Downloading (…)okenizer_config.json:   0%|          | 0.00/539 [00:00<?, ?B/s]"
            ],
            "application/vnd.jupyter.widget-view+json": {
              "version_major": 2,
              "version_minor": 0,
              "model_id": "b89ea6225e784ea0b8837ea7a02d9dd9"
            }
          },
          "metadata": {}
        },
        {
          "output_type": "display_data",
          "data": {
            "text/plain": [
              "Downloading (…)solve/main/vocab.txt:   0%|          | 0.00/110k [00:00<?, ?B/s]"
            ],
            "application/vnd.jupyter.widget-view+json": {
              "version_major": 2,
              "version_minor": 0,
              "model_id": "6ef347123d4144eb8a63420967ad2518"
            }
          },
          "metadata": {}
        },
        {
          "output_type": "display_data",
          "data": {
            "text/plain": [
              "Downloading (…)/main/tokenizer.json:   0%|          | 0.00/439k [00:00<?, ?B/s]"
            ],
            "application/vnd.jupyter.widget-view+json": {
              "version_major": 2,
              "version_minor": 0,
              "model_id": "7fa1da27172846908cc29dc53a61d4a9"
            }
          },
          "metadata": {}
        },
        {
          "output_type": "display_data",
          "data": {
            "text/plain": [
              "Downloading (…)cial_tokens_map.json:   0%|          | 0.00/125 [00:00<?, ?B/s]"
            ],
            "application/vnd.jupyter.widget-view+json": {
              "version_major": 2,
              "version_minor": 0,
              "model_id": "0637b06121284c25b344c25034e4d69d"
            }
          },
          "metadata": {}
        },
        {
          "output_type": "display_data",
          "data": {
            "text/plain": [
              "Downloading (…)lve/main/config.json:   0%|          | 0.00/966 [00:00<?, ?B/s]"
            ],
            "application/vnd.jupyter.widget-view+json": {
              "version_major": 2,
              "version_minor": 0,
              "model_id": "8e21d1730c3841a1a251d3df3e94348a"
            }
          },
          "metadata": {}
        },
        {
          "output_type": "display_data",
          "data": {
            "text/plain": [
              "Downloading (…)solve/main/models.py:   0%|          | 0.00/21.1k [00:00<?, ?B/s]"
            ],
            "application/vnd.jupyter.widget-view+json": {
              "version_major": 2,
              "version_minor": 0,
              "model_id": "9b3ae6eca4744e7eb33de060ae8feecc"
            }
          },
          "metadata": {}
        },
        {
          "output_type": "stream",
          "name": "stderr",
          "text": [
            "A new version of the following files was downloaded from https://huggingface.co/silk-road/luotuo-bert:\n",
            "- models.py\n",
            ". Make sure to double-check they do not contain any added malicious code. To avoid downloading new versions of the code file, you can pin a revision.\n"
          ]
        },
        {
          "output_type": "display_data",
          "data": {
            "text/plain": [
              "Downloading pytorch_model.bin:   0%|          | 0.00/414M [00:00<?, ?B/s]"
            ],
            "application/vnd.jupyter.widget-view+json": {
              "version_major": 2,
              "version_minor": 0,
              "model_id": "5f132ae98e4f41268baaadf5759e7525"
            }
          },
          "metadata": {}
        }
      ]
    },
    {
      "cell_type": "markdown",
      "source": [
        "## 创建 data 目录存储文本数据集"
      ],
      "metadata": {
        "id": "YHmnow7SfXlf"
      }
    },
    {
      "cell_type": "code",
      "source": [
        "import os\n",
        "import shutil\n",
        "import gdown\n",
        "import zipfile\n",
        "\n",
        "directory = './data'\n",
        "\n",
        "if os.path.exists(directory):\n",
        "    shutil.rmtree(directory)\n",
        "os.mkdir(directory)\n",
        "\n",
        "url = 'https://drive.google.com/uc?id=1V2Usl_sTg_nN6bwR835eFAvhgk4x2S9a'\n",
        "output = './data/posts.zip'\n",
        "\n",
        "gdown.download(url, output, quiet=False)\n",
        "\n",
        "with zipfile.ZipFile(output, 'r') as zip_ref:\n",
        "    zip_ref.extractall(directory)\n",
        "\n",
        "os.remove(output)\n",
        "\n",
        "!rm -r ./data/__MACOSX"
      ],
      "metadata": {
        "colab": {
          "base_uri": "https://localhost:8080/"
        },
        "id": "oXkZnpNEr9wl",
        "outputId": "d285d06c-7086-4491-bb9b-eea6ec959097"
      },
      "execution_count": 4,
      "outputs": [
        {
          "output_type": "stream",
          "name": "stderr",
          "text": [
            "Downloading...\n",
            "From: https://drive.google.com/uc?id=1V2Usl_sTg_nN6bwR835eFAvhgk4x2S9a\n",
            "To: /content/data/posts.zip\n",
            "100%|██████████| 10.0M/10.0M [00:00<00:00, 131MB/s]\n"
          ]
        }
      ]
    },
    {
      "cell_type": "markdown",
      "source": [
        "## t-SNE 文本可视化实验"
      ],
      "metadata": {
        "id": "YCpZpfOnuw05"
      }
    },
    {
      "cell_type": "code",
      "source": [
        "%cd Luotuo-Text-Embedding"
      ],
      "metadata": {
        "colab": {
          "base_uri": "https://localhost:8080/"
        },
        "id": "ImcOiePrFTeN",
        "outputId": "bb3dd49c-12da-41df-dcdd-d238bc09060d"
      },
      "execution_count": 5,
      "outputs": [
        {
          "output_type": "stream",
          "name": "stdout",
          "text": [
            "/content/Luotuo-Text-Embedding\n"
          ]
        }
      ]
    },
    {
      "cell_type": "code",
      "source": [
        "import pandas as pd\n",
        "\n",
        "tsne_data_label_path_neg = \"/content/data/posts/neg_posts_twitter.csv\"\n",
        "tsne_data_label_path_pos = \"/content/data/posts/pos_posts_weibo.csv\"\n",
        "\n",
        "neg_data = pd.read_csv(tsne_data_label_path_neg, header=0)\n",
        "pos_data = pd.read_csv(tsne_data_label_path_pos, header=0)\n",
        "\n",
        "text_left = neg_data[\"Content\"].tolist()[:300]\n",
        "text_right = pos_data['content'].tolist()[:300]\n",
        "neg_label = neg_data[\"label\"].tolist()[:300]\n",
        "pos_label = pos_data[\"label\"].tolist()[:300]"
      ],
      "metadata": {
        "id": "s34yyjlOuxN_"
      },
      "execution_count": 6,
      "outputs": []
    },
    {
      "cell_type": "code",
      "source": [
        "import csv\n",
        "import numpy as np\n",
        "import sys\n",
        "sys.path.append(\"..\")\n",
        "\n",
        "\n",
        "inputs = tokenizer(text_left, padding=True, truncation=True, max_length=512, return_tensors=\"pt\")\n",
        "with torch.no_grad():\n",
        "    embeddings_left = model(**inputs, output_hidden_states=True, return_dict=True, sent_emb=True).pooler_output\n",
        "inputs = tokenizer(text_right, padding=True, truncation=True, max_length=512, return_tensors=\"pt\")\n",
        "with torch.no_grad():\n",
        "    embeddings_right = model(**inputs, output_hidden_states=True, return_dict=True, sent_emb=True).pooler_output\n",
        "    \n",
        "cos_sim_matrix = torch.matmul(embeddings_left, embeddings_right.t())\n",
        "cos_sim_matrix /= torch.matmul(torch.norm(embeddings_left, dim=1, keepdim=True), torch.norm(embeddings_right, dim=1, keepdim=True).t())\n",
        "tensor_cpu = cos_sim_matrix.cpu()"
      ],
      "metadata": {
        "id": "SlPXcjCou48A"
      },
      "execution_count": 7,
      "outputs": []
    },
    {
      "cell_type": "markdown",
      "source": [
        "## 绘制tSNE可视化"
      ],
      "metadata": {
        "id": "s4Fxg-MBywBE"
      }
    },
    {
      "cell_type": "code",
      "source": [
        "import sys\n",
        "sys.path.append(\"..\")\n",
        "from lib.tsne import TSNE_Plot\n",
        "\n",
        "merged_list = text_left + text_right\n",
        "label = [0]*len(text_left) + [1]*len(text_right)\n",
        "merged_embed = torch.cat((embeddings_left, embeddings_right), dim=0)\n",
        "\n",
        "tsne_plot = TSNE_Plot(merged_list, merged_embed, label=label)\n",
        "tsne_plot.tsne_plot(n_sentence=40)"
      ],
      "metadata": {
        "id": "2AVVz_z4u8F_",
        "colab": {
          "base_uri": "https://localhost:8080/",
          "height": 837
        },
        "outputId": "bbac3bf5-0e22-4c88-ebb4-79f3e700e0f7"
      },
      "execution_count": 8,
      "outputs": [
        {
          "output_type": "display_data",
          "data": {
            "text/html": [
              "<html>\n",
              "<head><meta charset=\"utf-8\" /></head>\n",
              "<body>\n",
              "    <div>            <script src=\"https://cdnjs.cloudflare.com/ajax/libs/mathjax/2.7.5/MathJax.js?config=TeX-AMS-MML_SVG\"></script><script type=\"text/javascript\">if (window.MathJax && window.MathJax.Hub && window.MathJax.Hub.Config) {window.MathJax.Hub.Config({SVG: {font: \"STIX-Web\"}});}</script>                <script type=\"text/javascript\">window.PlotlyConfig = {MathJaxConfig: 'local'};</script>\n",
              "        <script src=\"https://cdn.plot.ly/plotly-2.18.2.min.js\"></script>                <div id=\"922001cf-bd34-4790-8831-f05b29225105\" class=\"plotly-graph-div\" style=\"height:800px; width:1500px;\"></div>            <script type=\"text/javascript\">                                    window.PLOTLYENV=window.PLOTLYENV || {};                                    if (document.getElementById(\"922001cf-bd34-4790-8831-f05b29225105\")) {                    Plotly.newPlot(                        \"922001cf-bd34-4790-8831-f05b29225105\",                        [{\"legendgroup\":\"lines\",\"marker\":{\"color\":\"#000080\",\"size\":[10,10,10,10,10,20,20,10,10,10,10,10,10,10,10,10,10,10,10,10,10,10,10,10,10,10,10,10,10,10,10,10,10,10,10,10,10,10,10,10,10,10,10,10,10,10,10,10,10,10,10,10,10,10,10,10,10,10,10,10,10,10,10,10,10,10,10,10,20,10,10,10,10,10,10,10,10,10,10,10,10,10,10,10,10,20,20,10,10,10,10,10,10,10,10,10,10,10,10,10,10,10,10,10,10,20,10,10,10,10,10,10,10,20,10,10,10,10,10,10,10,10,10,10,10,10,10,20,10,10,10,10,10,10,10,10,10,10,10,10,10,10,10,10,10,10,10,10,10,10,10,10,20,10,10,10,20,10,10,10,10,10,10,10,10,10,10,10,10,10,10,10,10,10,10,20,10,10,10,10,10,10,10,10,10,10,10,10,10,20,10,10,10,10,10,10,10,10,10,10,10,10,10,10,10,10,10,10,10,10,10,10,10,10,10,10,10,10,10,10,10,10,10,10,20,10,10,10,10,10,10,10,10,10,10,10,20,10,10,20,10,10,10,10,10,10,10,10,10,10,10,10,10,10,20,10,10,20,10,20,10,10,10,10,10,10,10,10,10,10,10,10,10,20,10,10,10,10,10,10,10,10,10,10,10,10,10,10,10,10,10,10,10,20,10,10,10,10,10,10]},\"mode\":\"markers\",\"name\":\"0\",\"showlegend\":true,\"x\":[5.8906464731930175,20.087084435421197,15.32264873563393,12.508025664847692,11.490895291320781,14.177160108154862,13.820035960052943,-26.97153115646902,15.322217142534116,0.27666963149468177,0.052216884181258034,6.489790410331195,3.3951211210540357,16.75418042229547,17.350187530028705,23.79767651272611,16.497020542410098,12.218408965203514,10.561445598467452,12.388723156382076,18.539073272073423,0.1874639020165343,17.02943373696238,18.49526483684076,6.714824394045214,4.354835415358089,0.2016922430298373,-7.325405238960964,24.492900499127607,25.361339920292213,29.38522972075554,14.721650969646378,21.345157189679444,9.93548765264683,23.449308147588276,18.858594463086337,1.7563881504549372,-5.993755500477719,28.42503851351963,12.65042753991379,19.94520324702203,9.044152282023658,8.964262283795504,14.11166667894875,11.924985739467761,1.1777794159969734,-5.466444372993857,14.824668416613626,13.93673926752596,0.16454432896716623,25.682120559850553,6.889459124924527,0.5132830679121309,11.242338313176978,10.721040015343819,7.813716960199419,21.927923914104728,11.459575883284048,15.780509799146587,15.231114313227426,18.908866896461554,10.305950469249279,15.474116847717108,11.915502206391954,11.266428360710053,18.97339304669287,24.388157217748155,23.749394392321978,31.359557428894032,-8.593151206968695,10.04163454665072,1.8215057902933152,17.036391588874537,12.36552209298006,13.732108408337496,24.851962848339447,26.014100333442652,2.921356518837377,22.349534618597968,13.35896031276853,14.795390411698447,9.911794455549629,25.784127803318306,14.10313999014543,9.080417639174028,24.789559553691237,22.005625714127635,0.9618528984212436,23.387973819340502,-25.202324889797836,22.24184731027406,10.276861725426564,25.401473778473907,2.04775221894739,4.7266566145705,23.17890714245899,18.36298820496476,9.436499193991269,8.847498470536712,4.179355808892049,26.112361035017983,7.3843686413043175,1.5800199843530185,6.969364424792786,19.78471927121484,20.909315662521184,11.399724066179909,10.28062281895724,20.299654058528375,26.499374063671322,21.237051837031043,20.020711864623877,-3.5300344535074815,0.1302893374092895,22.44686631866995,9.099593679910754,6.780063991389674,1.8064649519410514,16.62641254826416,23.55043679282019,-0.6647320427821503,-6.14516058489205,15.008898964830168,10.726431003083857,25.37011368427991,14.484159496212417,-2.9711023604415625,-3.3263700929554876,26.03086873420729,16.751214634573056,3.561307116240496,18.07250015329491,24.43558635156089,-0.962486761715186,23.241603117209493,17.8360250866866,7.806477191304473,7.215150617437989,28.7314581626134,-1.8013107482398611,7.297756808854073,15.259719250008112,21.463291498133923,-3.6458792331564553,16.45304774057276,4.0031129370376775,10.129755433552686,15.803349620738732,1.18016702432976,22.77249131874101,14.40776606500072,22.595806933915515,17.800381174108573,18.53690113730327,3.2159788562041527,21.72085557250473,20.45899260892467,13.337453204567439,12.08118079392575,9.44066859159239,14.852879687699051,9.336984980436707,24.260833596776436,7.403507811594001,3.937937106947878,10.79121153348482,17.372753038295766,13.851257952759445,26.361997285907577,10.7681570838475,10.991783458344162,3.024540594495853,-0.7662098014063051,-1.030471119938593,17.462676243354956,-6.020371053374539,-1.5503759051921702,32.92583805517557,6.820440299016884,16.967973761366547,10.852966558935663,14.265160696055082,-0.6662884954088892,1.9576340628677331,-0.9750385521917315,18.163100042906184,4.63731518295766,9.285729689651818,19.083447743426568,6.661363797835373,22.721134217953306,10.72117293523384,-1.4232331375267036,3.3682603602528887,19.69924219354539,1.305700554686003,-0.26097799775210845,15.39102017915214,11.740908750766767,24.204881649589208,-2.4118863057117963,21.704577380799563,21.70875755427019,30.834251183842035,19.34785117596529,26.90411513144538,2.4945383290392997,16.501697704674807,17.919524083985863,27.812551215878926,2.534242408424506,11.889359891637808,13.207291599738165,16.63752061151522,16.254118521121608,22.34839285127665,21.297385636548807,-7.018380938810777,18.249967205800054,11.259152579876849,-0.9245823043169217,7.648047140233933,0.864748361462397,30.94703061677211,13.5897895168408,1.1407115051309635,1.1473352691540024,19.34681267324779,-1.8644548087626396,23.109747408857302,16.634100224831347,-0.5174050988166953,11.511202096211065,16.8668749958614,17.585805686563532,7.514426256705513,21.596574146117597,20.664508763430188,17.19742947255523,11.401640072907398,7.974551822382125,-0.09799618951087617,2.8751872943735366,-2.2533234409385776,-3.2491275241647113,19.035344843860297,16.391460929613686,3.255328244600157,22.536039788427715,26.30630362610991,21.565066505477855,22.860713815683027,-2.09030402301278,18.46926341657526,4.967550517162079,26.367758777672424,18.654448274251823,2.33305085850135,0.9624291476371614,0.038842990097205925,14.897544375122692,13.170744472952086,25.944811395436464,22.479858833062938,4.0045583229818265,20.06957234107923,22.169785341793645,23.103276426291814,16.177551103104097,14.273276935189715,16.08536446685255,20.863066539966894,18.107737556309647,18.293448712461476,7.338542878898935,9.223294131861573,21.386082066539505,12.371426684923295,18.581594566257532,22.839277591989024,23.67040107598371,-3.4470604225220813,15.839560836065655,18.763703754556314,-3.8305995077895423,9.851807873301631,11.111827185389169,21.207498622381564,-4.059545251510511,4.513207558569346,22.691496126045013,29.570565017739543,21.47756588047247,12.280409049545138,31.33869485501319,-2.4085719297224784,14.200816884252182,22.232445994939372,28.183090275687917,13.51264564933652],\"y\":[-11.297006219627288,-5.717868354184369,5.411648135751077,5.039726645542952,-1.2403088284143804,-6.954615733486198,-10.650196906106995,1.1294065594642246,-7.792216476614188,6.075982356121837,7.77218611369013,-0.07889376601124808,-17.512295304708896,-10.772098926336753,0.6440999963421552,-8.778615564594322,0.4015414435527765,-8.025848033242877,-14.314480971040007,-8.282176616262374,-1.9049882763413666,7.919187389801523,2.919998427027927,-15.79636644151193,-10.018214342302027,-10.46783428311384,7.8586091811249466,-9.773762553195459,5.592534042551296,7.864631743996237,5.721984599743124,-3.5642279794174883,-12.484766099650615,-18.09403070980402,-9.44521379593158,-7.145110870883571,-2.6360237894701672,8.00153073060194,3.504344684459207,-4.115969139765624,-2.950119917445245,0.20675811539981273,0.25887846076181004,-12.959982741717573,-14.238979959104732,-11.271016988434969,23.475746373702226,-12.404319641766078,10.17753995692209,16.965650921983976,-0.20103340275670809,-3.324523492052776,-9.495398140245456,-11.348434331918908,-15.126183720192582,-13.998228907215589,6.639737133400596,6.254778820164969,-4.30539967372812,-6.953908407827002,-11.830199412805682,6.5708448601318326,-0.3033581264148007,6.963992449414815,-0.5906387680803354,1.201288438326258,0.5090039500109567,9.245554664359048,3.871279836527473,-14.50160435881018,3.9575099488873344,-9.116590697751887,-2.0427403763278846,-0.7123764548482443,-12.713054339767769,-3.8276079130396425,2.1891322491015224,-9.70617917444554,0.0034897214110470986,-2.8462599900749397,-13.178946312429652,-18.1619149264711,-4.083922320145761,-4.334346325270599,2.9724017533434384,4.248121301980897,-7.779917096961272,4.358328609202672,6.908760171555859,8.534099067056344,8.317683177828645,2.1224408771483785,1.309863661668445,-10.449377562669167,10.490155178551788,-2.7613258243587575,-13.791186760368957,5.609917617825236,8.935948608010358,-5.679776353411305,-11.180307747950852,1.826398732201087,1.1879167869937362,6.862162838580417,-9.891826419222118,-3.2225125488436124,-11.381105199352968,-12.198187760016626,3.7460409755817023,-12.120600548570957,-12.220556957676212,-0.5371059606575728,-0.12907483588931778,1.412403624258977,1.0324093030551271,-9.799541903735868,-9.593345594828731,-10.940024153721481,-2.2735985262053986,4.860768052848749,3.2784996867295586,-5.674589416985263,-8.708342543178597,-2.8848913778568392,-5.552099496246993,-3.392846659442084,1.9817509240873454,2.336089952282445,-6.460526078479552,-11.043182164608742,-17.37356041260852,3.9083026155481457,-5.500414033067063,-8.276145471319424,7.622173829029087,-12.86603280332009,9.858544813369136,4.389225119808401,5.04602268764378,3.3990681949827324,-2.400079636006091,0.9731259690252462,5.664712800021323,4.873810977736926,0.024868129412003306,-0.5846005412829367,-9.83090987436416,-13.153835074151838,1.5554647397644754,-6.103433294525728,4.471660392168824,4.062144595518638,-15.974810262666566,-0.40491905323984223,-10.398476431527438,-4.3491457896078085,-5.504142670839074,6.004817408821311,0.2742650249857782,9.126730528633345,2.279417793699447,11.658418774798518,-6.835167781297448,5.2867155605340805,-12.430822893304972,4.7631185767226665,-3.68558562576421,-5.946150764349175,-4.064076133808031,5.174111703365431,-3.4389896793829076,5.425979299098081,-5.8100479112663015,1.163839568285073,9.549726174700183,-3.4782635371702715,0.32078808161451744,-1.5006014035782513,0.16432570161860213,7.012907394454088,3.7225844592847004,0.7885437509943798,-3.6644449888547794,-9.067771529298298,2.3332596842286826,3.705377973310966,-16.558959453053305,-9.885062490668275,3.552858124622717,-6.035752615495958,-4.337737924167325,-15.126148695704355,-2.0576908736033173,-5.498060471277327,-7.84574476130314,-3.025444797528165,-3.034722057823465,-1.803952414550325,-6.121773450956291,2.795159336576662,2.686628775191255,4.574681373161408,-6.034841329167841,0.10951004073790956,0.26104767911543536,-11.943287114970639,-11.080007959919817,3.150172839648048,-5.089630704709012,-11.505767843910997,-10.256437611586357,3.483111218604114,3.482567620307128,-13.982519346003667,-2.9815597205837943,-1.9768277825080203,-0.4297036867948151,-7.491469837370526,-7.14834358843559,8.006671286626172,-4.590498156954136,-14.001990174017216,-3.324540578088137,0.8842346034045975,1.7442335748856008,-5.808637873010732,-5.464374862001869,1.7857720518001725,4.703322397921225,-10.112193719712153,-8.448894310387434,4.875811137403312,3.9163422305788207,4.897911793191666,-6.5858403275540995,-2.5515661383427712,5.009835613298851,6.189856402461676,2.1272242194390354,1.9237231826749883,-2.4519312538849984,-3.444402980742493,-5.707398067099321,-3.675410322895731,4.0406193368028225,-3.91491711822411,-13.379368083628774,-10.926003142456182,-6.941552546582192,-8.390960171763977,0.6241413531841801,3.1110372401598427,-13.495569776902189,-3.9167856608371854,-11.188062961570482,-12.921773177847228,5.0633599331201475,-12.315354814480202,13.445012075972576,4.550715295936883,6.466992707292211,4.301525151482204,-1.3198014252317358,-1.7886431460084045,-0.5054107696670094,-9.506743148359707,1.871597407943232,5.589779735346315,6.345532996110854,-15.552848799101138,-14.449820867954433,-3.983031371557564,6.746959142275966,6.498270758384126,6.135955369880244,9.723482460198278,-8.531915665635237,-1.8243807666587146,8.790585545658052,9.254067973837792,1.3088437691605397,3.327932116876241,-5.556885223318487,8.869908596043343,5.297110544127355,-8.847404727735599,-17.55587966806985,8.679342929111343,-0.8828015835527314,-3.401953771495758,-3.8188220158510844,0.060222244170495265,-1.686154777442717,-0.9918658862700889,2.176842592052124,2.350709403810443,-1.009774060760866,2.3009857611687288,1.8470203030751686,2.0655613606978536],\"type\":\"scatter\"},{\"legendgroup\":\"lines\",\"marker\":{\"color\":\"#800000\",\"size\":[10,10,10,20,10,10,10,10,10,10,10,10,10,10,10,10,20,10,10,10,10,10,10,10,10,10,10,10,10,10,10,10,10,10,10,20,10,10,10,10,10,10,10,10,10,10,10,10,10,10,10,10,10,10,10,20,10,10,10,10,20,10,10,10,10,20,10,10,10,20,10,10,10,10,10,10,10,10,10,10,10,10,10,10,10,10,10,10,10,20,10,10,10,10,10,10,10,10,10,10,10,10,10,10,10,10,10,10,10,20,10,10,10,10,10,10,10,10,10,10,10,10,10,10,10,10,10,10,10,10,10,10,10,10,10,10,10,10,10,10,10,10,10,10,10,10,10,10,10,10,10,10,20,10,10,10,10,10,10,10,20,10,10,10,10,10,10,10,10,10,10,10,10,10,10,10,10,10,10,10,10,10,10,10,10,10,10,10,10,10,10,10,10,10,10,10,10,10,10,10,20,10,10,10,10,10,10,10,10,10,10,10,10,10,10,10,20,10,10,20,10,10,10,10,10,10,10,10,20,10,10,10,20,10,10,10,10,10,10,10,10,10,10,10,10,10,10,10,10,10,10,10,20,20,10,10,10,10,10,10,10,10,10,10,10,10,10,10,10,10,10,10,10,10,10,10,10,10,10,10,10,10,10,10,20,10,10,10,10,20,10,10,10,10,10,10,10,10,10,10]},\"mode\":\"markers\",\"name\":\"1\",\"showlegend\":true,\"x\":[-26.574895208719376,-32.36600292307536,29.380274077130647,-6.671584398971705,-20.04671782486125,-32.25054961265728,-14.992075332793085,-32.25245106153202,-31.29930713587536,-2.2743841875767594,-10.913306961280533,-15.866834804344009,-11.49749710791498,-18.46750126653674,-20.403995521644376,-13.032366016100065,-20.519413177480807,-18.65969838418263,-11.403033601779493,-22.905302390541273,-27.29866242672233,-9.036711212519627,-26.690153453955244,-3.3384095247814756,-13.514474770556713,9.699908112598091,-9.485553970463476,-31.29146778345736,30.46332722142778,4.979271915762026,27.881583495843103,-5.854535650992857,-19.654649363338176,-31.19871238794193,-1.5554918835613598,-21.14573264923491,-19.63609406197124,-5.338144190859638,-17.549930014790593,-27.375645196137157,-24.84059099801056,-17.071680611625567,-12.296829418137929,-22.589841804629383,-22.306217552311725,-7.954498319787357,-6.701253709962315,-8.58771437754557,-9.101509716811986,-9.91423906163056,-24.46793588648123,-23.356812564599856,-6.860189460703969,-5.025109971431516,-31.64277997767686,27.920764802166676,-12.733679241933643,28.782660421938193,-9.24052449355097,-30.34788623410379,-20.200821746345394,-23.32003069803163,-30.69457227145612,-18.435956588938726,-21.56237307171607,-9.132417521995789,-18.603362296593225,-16.588829459820882,-20.160814487847457,-18.692462505279163,-7.380679883128853,5.342636635584836,5.181144709307756,-18.491827335032145,-29.857350213516504,-8.396746882606838,-7.79159129305444,-17.234984251368477,-12.701041724528249,-14.973916548593893,30.594869703863594,-9.310958017339777,29.096957193588352,-27.930465193553413,-27.805437227207523,-27.923265306199724,-24.243174501559473,-24.466797849844482,-25.10278244025662,-33.0132790266894,-9.949127715475422,14.13515785845325,-5.802829238111772,-17.64105983573002,-8.834752164022968,-26.36877135140819,-1.9752486486834062,-25.9253464903044,-21.322955448682094,-19.69650310570284,-22.487916291522474,-24.523222717459777,-5.961487044795915,-23.284715453964626,-18.279414370010983,-16.877716662467982,30.649210677382726,-10.589927520179497,27.5593336068468,-13.688085898625804,-5.4173104762365245,-2.097024653378162,7.950190975542356,-13.941063561288306,-20.24073730930713,-19.484317708219294,-9.556663678203238,-8.071364985933954,-19.881196625333146,-11.901940743624317,-1.8549520267584174,-21.622183869088946,-12.897517432442612,-21.844827928430373,-10.176441986818253,-7.01110324291649,-26.847503623085164,-9.13903223827514,-6.745302665577623,8.161744065120146,-8.826537398528384,-10.743042697408061,29.825476591497733,-10.373303115584495,-33.47608542578787,29.75314562844462,-1.2975725310181714,-16.266161281799263,-13.580354980093501,-19.291304030454942,-24.963503978773588,3.281578510994067,-32.423188546033835,-12.929726446147757,-33.106156438779784,-13.137484981971081,-32.567812064343144,-13.049923791888316,-25.583896285904764,-32.76240771563082,-32.04095287191057,-16.192882207895334,-8.320344793223091,-30.744297704533754,-10.557810314789737,-21.7367396518644,-15.322887988972004,-16.356278446469,-18.417836478342632,-10.65724830098916,-4.309846171727369,5.174730836506252,-17.231656048826263,-33.53305655020847,29.7505322832998,-24.80719466671296,-2.4954878359049895,-18.174044921341878,-31.636068996144157,-29.861340547452308,17.73485772417363,-20.878590213789835,-5.541531047207069,-18.7997088022101,-17.750261962110148,-14.787970503992902,-6.486706133496977,-20.727645515474638,-22.243039898522774,-0.7829081134811607,-19.241533519124655,-10.751163162732544,5.2071643952234465,-7.062101605064765,-7.70199248456444,-19.344148730651376,-23.618528316186325,-23.568153160313283,-7.493682273059427,-13.402680775050703,27.462050605100682,-3.426163075122969,-8.978664554142286,-22.955849557847788,27.668640784851437,-15.046556880779605,-0.5285557229412317,-23.68491150571213,27.67592117573596,-14.646879756797675,-20.355262039564348,-14.251421875722409,-26.290771462399466,-20.708317605860003,-10.957017192847058,-20.857787596687235,-2.7955232460005375,-3.5462892944114115,-22.96267040045937,-22.377468116495788,-17.744438871969795,-20.0567758278632,-23.64439196389093,-29.473274780615277,-9.69420121377029,-30.659329922926762,-23.873111258265233,-16.707987037291804,30.183740805003872,-12.976354412319575,28.7913948212855,-16.338529606317927,-3.0504349218949063,-23.576217919208407,-12.666977399433495,-21.907884725554354,-23.263104327436757,-22.383004856548776,-31.248119429773702,14.368105427210553,-11.784857696206439,-13.978027417890262,-26.512701633460775,-26.266118125614035,-13.15173201168302,-7.981261886721006,-14.265350896034306,-2.502122485514676,-22.061978815266844,-18.4630903952369,-11.774448999329453,-21.84471697753132,-21.804038798220038,-11.872523472931787,-13.063067867172878,-10.63073207935997,-24.828480680451282,-10.815143559689114,-25.036362180682218,-10.972724082507376,-10.335325974237435,-18.202603195958286,-18.818077644551995,28.212316111595232,-10.776024828125747,-4.76910224766634,-8.438287881443694,-21.636198103383844,-0.8938224724976374,-22.540878675566855,-29.054532019485713,-13.055923134667681,-4.757856270627628,-12.427601136702116,-6.269016273543108,-24.114716069144915,-19.603240719470428,-18.979401598193032,-18.042542066077388,-2.145555658870254,-23.79892494284471,-12.629467718947968,-5.943323428884974,-25.576325849677872,-9.253220163437742,-12.485844260069044,-20.17988703860175,-18.52492239743755,-4.145400252188158,-10.96759849987297,9.999568235282606,29.284171345114707,-16.374121279668373,-7.967765825699164,29.066041834977277,-21.33793383611227,-12.407111623083035,-17.570891659206758,-2.183045340797615,-20.514380826313193,9.266340372025075,-18.195935481076976,-18.875774828660987,-31.826858933684637,-26.245821112766162,-23.851152801987844,-21.10415427642387,-24.259177715181384,-1.5800438876543001,-20.245722087713837],\"y\":[-2.8391253451735743,-10.585586595221756,-3.871922575519657,21.996297196762303,11.311531203229027,-14.05449951349073,7.3558134722120085,-11.643260664047835,-12.414931313069852,22.379603660356967,-7.61408075134871,16.615230226625176,-6.419018643785497,-12.067020060142989,-6.35282687697476,-3.2141191086867145,0.6081983976166967,7.918907790507907,8.357868340625167,-2.822606902791377,-9.62475741814713,-6.1290794965887265,-2.951451313547347,16.782576190578013,-10.720623214215959,-5.9620805295191115,-8.656045158712653,-10.984596961509917,-5.630737206407605,9.55840239706895,-4.021717910609361,14.04680171709332,4.852670174803271,-11.867440499390911,6.325073683585025,-2.0135554370574384,16.1346545060809,22.433547980227026,4.748461522309557,-3.7622024614849474,-3.0124081649278933,-13.09610448160039,2.1778376892990203,-3.6916933117761515,2.8193642629034033,19.80882381674524,19.333794898487216,-8.142448555580676,-8.641316362021923,-6.096830199548626,-4.557902975930514,6.775408545838972,20.665988873428248,12.24503740836662,-11.359571439396278,-5.4645894572672145,15.032070523024524,-3.8121804612630674,-2.922176562138634,-10.859885616793191,3.0525869536669075,5.086679635082643,-11.4840158237384,6.0549476979334464,-12.959569620307928,2.5159569080052666,3.579118872829897,-12.525610483488478,4.262965239228461,-0.3207846215785276,21.75558886199628,2.666065716758143,2.6837152739966768,5.046171303590348,-8.918383982437133,9.60569135627709,20.644871462183502,16.90613101745616,15.082197378852685,8.945963192238903,-4.2927931773135315,-9.193732585349434,-2.92928956845866,-8.43193752097951,-8.722392465623368,-9.217400022103028,1.9280080155271213,-3.047320415848896,1.5048344232333997,-10.462036603764581,-8.095765871306652,7.415079548879984,21.44571828470517,-12.05253672624213,8.688390793878929,-9.511521697672501,20.102475251939513,-1.5235904884735068,1.0085974433433011,6.203636138656579,-3.032613668422235,2.2593267025250143,12.76267849985627,6.338379319510673,2.5031468135247734,14.711892194724102,-6.8323876828832715,13.727656874765513,-2.647005808820735,-1.6647409746649324,12.437863932777237,5.373988707504898,13.729990146778626,4.16079725300024,5.609386510783382,-13.22145877790546,7.970520699830907,6.906105356618018,-7.775158593580045,13.004426274896323,20.692458986488937,11.091231521019582,-3.203904410508817,11.004477869975489,15.224452049094413,6.217994235905633,-9.184604101761222,7.506465320264794,6.917222748601034,13.86993043133874,13.380275784029365,11.82152931276033,-5.1546914054774025,14.20369256474104,-12.03589401774619,-3.4194818929102064,19.898048314732574,-12.555775869571347,-5.933930173928873,3.8056024265202733,1.7409453139268969,8.967510486848239,-13.323426968840439,-5.883346777528201,-12.61117049772368,-6.235118666607109,-12.035953282058745,-5.41420033965748,-0.4198892123692423,-11.197403251704305,-12.51655927813945,11.721474710025246,9.005128306869876,-12.97537403074569,-6.072681749607914,7.078077659564196,9.496071802043234,11.995534410163293,-3.1983679316360294,11.981112947292978,19.627821061160194,12.571182702878382,11.825325783321254,-11.29899170224794,-6.515080979880862,10.612430018814697,21.086324138930145,-12.735381175482061,-10.515211624158242,-9.396374143562253,-14.083921332294116,8.320307625355385,20.295208089281246,5.364834584936031,12.086169399255708,16.051534968044695,10.767418762920515,1.9500384775489794,-2.3645892236380357,21.672908497904853,3.434921591719767,6.8919617737588545,8.748219913596433,6.563451514182509,-6.204964489352562,1.8644762951300882,-3.0973580120258823,7.999204333900295,19.86286844713259,9.304694771752757,-5.385892865219288,16.23929732618833,17.483044076598382,-12.70148092161176,-3.1802444007591966,9.840477823712872,21.149843813332186,-10.973875360486664,-1.4512595089211004,6.0151267571884475,-6.644561731018029,-10.91587339233383,6.842102305952642,6.497791272107345,-7.8888081615653505,11.482251494169343,20.651823263569117,16.262359266823427,-11.695071217205786,-11.32042953329708,2.354267054772771,-11.919930850860629,-12.29822780142986,-12.006765438648548,7.763353728283059,-10.0562453236119,-6.784898091025898,2.5144924899069707,-5.132435169360003,5.707772244097187,-3.1968570911673764,0.8766820744693208,21.388987750876133,-12.959468831582232,2.7922097779469084,-13.369955625756694,6.724596975937676,-12.813220301858422,-6.973209799277821,9.417014895277067,3.9367558613981153,1.2175488618299488,6.387115960927773,-0.9539211124581819,5.8138213269500705,19.124922058105177,-2.8622339082233985,19.911781385449373,-12.293057472555548,-10.501792010419459,4.442608399637326,5.453062531560656,-12.237400886381431,3.231018443583025,3.545825887459492,-7.204929321235757,-1.44396567797176,-4.755930034691091,-0.7546445579296603,2.987966453030797,6.406425390228752,10.899967982857806,15.650630814798571,-2.5341448320112665,3.7993844117142346,21.238507525354745,-6.985450603359958,-10.515208292548959,20.58076838767741,-13.489841252461655,-12.141967639099743,3.3468207050234753,15.537893116716106,-11.143634320409829,20.12458154367682,-8.112896468318919,-12.489116581928782,6.085545173653195,9.274958525228355,19.52030862298565,-2.377351751591656,-11.02660340132764,18.868563966954202,-0.8155902196663918,-6.760733633121955,13.066903087027132,2.5669736642649545,-3.645658631889849,20.32121860412343,3.969687310734612,-6.267255626431724,-5.32183512230145,16.204013745047664,21.689230042173648,-5.811674031270228,4.730219015409275,-4.018058017164115,15.605591021519668,21.53380200220276,5.054317521437019,-5.674001572648986,9.333980644002857,15.591933439118607,-9.994409638656194,-9.078020728339155,-11.158403926391887,7.203832455776028,-3.560615021014753,21.214465893269168,11.395329852574056],\"type\":\"scatter\"},{\"legendgroup\":\"lines\",\"line\":{\"color\":\"#000080\"},\"mode\":\"lines\",\"showlegend\":false,\"x\":[34.92583805517557,15.177160108154862,14.677160108154862,14.177160108154862],\"y\":[-28.188274484566985,-28.188274484566985,-6.954615733486198,-6.954615733486198],\"type\":\"scatter\"},{\"legendgroup\":\"lines\",\"line\":{\"color\":\"#000080\"},\"mode\":\"lines\",\"showlegend\":false,\"x\":[34.92583805517557,14.820035960052943,14.320035960052943,13.820035960052943],\"y\":[-34.76264205827856,-34.76264205827856,-10.650196906106995,-10.650196906106995],\"type\":\"scatter\"},{\"legendgroup\":\"lines\",\"line\":{\"color\":\"#000080\"},\"mode\":\"lines\",\"showlegend\":false,\"x\":[34.92583805517557,32.359557428894036,31.859557428894032,31.359557428894032],\"y\":[11.257930957702484,11.257930957702484,3.871279836527473,3.871279836527473],\"type\":\"scatter\"},{\"legendgroup\":\"lines\",\"line\":{\"color\":\"#000080\"},\"mode\":\"lines\",\"showlegend\":false,\"x\":[34.92583805517557,25.789559553691237,25.289559553691237,24.789559553691237],\"y\":[24.406666105125638,24.406666105125638,4.248121301980897,4.248121301980897],\"type\":\"scatter\"},{\"legendgroup\":\"lines\",\"line\":{\"color\":\"#000080\"},\"mode\":\"lines\",\"showlegend\":false,\"x\":[34.92583805517557,23.005625714127635,22.505625714127635,22.005625714127635],\"y\":[-21.613906910855405,-21.613906910855405,-7.779917096961272,-7.779917096961272],\"type\":\"scatter\"},{\"legendgroup\":\"lines\",\"line\":{\"color\":\"#000080\"},\"mode\":\"lines\",\"showlegend\":false,\"x\":[34.92583805517557,21.909315662521184,21.409315662521184,20.909315662521184],\"y\":[17.832298531414054,17.832298531414054,-3.2225125488436124,-3.2225125488436124],\"type\":\"scatter\"},{\"legendgroup\":\"lines\",\"line\":{\"color\":\"#000080\"},\"mode\":\"lines\",\"showlegend\":false,\"x\":[34.92583805517557,1.1302893374092895,0.6302893374092895,0.1302893374092895],\"y\":[63.8528715473951,63.8528715473951,1.412403624258977,1.412403624258977],\"type\":\"scatter\"},{\"legendgroup\":\"lines\",\"line\":{\"color\":\"#000080\"},\"mode\":\"lines\",\"showlegend\":false,\"x\":[-34.53305655020847,-4.326370092955488,-3.8263700929554876,-3.3263700929554876],\"y\":[57.27850397368353,57.27850397368353,2.336089952282445,2.336089952282445],\"type\":\"scatter\"},{\"legendgroup\":\"lines\",\"line\":{\"color\":\"#000080\"},\"mode\":\"lines\",\"showlegend\":false,\"x\":[34.92583805517557,18.800381174108573,18.300381174108573,17.800381174108573],\"y\":[-41.33700963199014,-41.33700963199014,-15.974810262666566,-15.974810262666566],\"type\":\"scatter\"},{\"legendgroup\":\"lines\",\"line\":{\"color\":\"#000080\"},\"mode\":\"lines\",\"showlegend\":false,\"x\":[34.92583805517557,21.45899260892467,20.95899260892467,20.45899260892467],\"y\":[-15.039539337143829,-15.039539337143829,-5.504142670839074,-5.504142670839074],\"type\":\"scatter\"},{\"legendgroup\":\"lines\",\"line\":{\"color\":\"#000080\"},\"mode\":\"lines\",\"showlegend\":false,\"x\":[-34.53305655020847,-7.020371053374539,-6.520371053374539,-6.020371053374539],\"y\":[-47.91137720570172,-47.91137720570172,-3.4782635371702715,-3.4782635371702715],\"type\":\"scatter\"},{\"legendgroup\":\"lines\",\"line\":{\"color\":\"#000080\"},\"mode\":\"lines\",\"showlegend\":false,\"x\":[34.92583805517557,7.661363797835373,7.161363797835373,6.661363797835373],\"y\":[-47.91137720570172,-47.91137720570172,-6.035752615495958,-6.035752615495958],\"type\":\"scatter\"},{\"legendgroup\":\"lines\",\"line\":{\"color\":\"#000080\"},\"mode\":\"lines\",\"showlegend\":false,\"x\":[34.92583805517557,14.5897895168408,14.0897895168408,13.5897895168408],\"y\":[44.12976882626036,44.12976882626036,1.7442335748856008,1.7442335748856008],\"type\":\"scatter\"},{\"legendgroup\":\"lines\",\"line\":{\"color\":\"#000080\"},\"mode\":\"lines\",\"showlegend\":false,\"x\":[34.92583805517557,22.596574146117597,22.096574146117597,21.596574146117597],\"y\":[30.981033678837207,30.981033678837207,5.009835613298851,5.009835613298851],\"type\":\"scatter\"},{\"legendgroup\":\"lines\",\"line\":{\"color\":\"#000080\"},\"mode\":\"lines\",\"showlegend\":false,\"x\":[34.92583805517557,12.401640072907398,11.901640072907398,11.401640072907398],\"y\":[57.27850397368353,57.27850397368353,1.9237231826749883,1.9237231826749883],\"type\":\"scatter\"},{\"legendgroup\":\"lines\",\"line\":{\"color\":\"#000080\"},\"mode\":\"lines\",\"showlegend\":false,\"x\":[34.92583805517557,5.967550517162079,5.467550517162079,4.967550517162079],\"y\":[-54.485744779413295,-54.485744779413295,-11.188062961570482,-11.188062961570482],\"type\":\"scatter\"},{\"legendgroup\":\"lines\",\"line\":{\"color\":\"#000080\"},\"mode\":\"lines\",\"showlegend\":false,\"x\":[-34.53305655020847,1.33305085850135,1.83305085850135,2.33305085850135],\"y\":[-54.485744779413295,-54.485744779413295,-12.315354814480202,-12.315354814480202],\"type\":\"scatter\"},{\"legendgroup\":\"lines\",\"line\":{\"color\":\"#000080\"},\"mode\":\"lines\",\"showlegend\":false,\"x\":[34.92583805517557,1.0388429900972058,0.5388429900972059,0.038842990097205925],\"y\":[70.42723912110668,70.42723912110668,4.550715295936883,4.550715295936883],\"type\":\"scatter\"},{\"legendgroup\":\"lines\",\"line\":{\"color\":\"#000080\"},\"mode\":\"lines\",\"showlegend\":false,\"x\":[34.92583805517557,19.293448712461476,18.793448712461476,18.293448712461476],\"y\":[37.55540125254879,37.55540125254879,6.498270758384126,6.498270758384126],\"type\":\"scatter\"},{\"legendgroup\":\"lines\",\"line\":{\"color\":\"#000080\"},\"mode\":\"lines\",\"showlegend\":false,\"x\":[34.92583805517557,13.280409049545138,12.780409049545138,12.280409049545138],\"y\":[50.704136399971944,50.704136399971944,-0.9918658862700889,-0.9918658862700889],\"type\":\"scatter\"},{\"legendgroup\":\"lines\",\"line\":{\"color\":\"#800000\"},\"mode\":\"lines\",\"showlegend\":false,\"x\":[-34.53305655020847,-7.671584398971705,-7.171584398971705,-6.671584398971705],\"y\":[63.8528715473951,63.8528715473951,21.996297196762303,21.996297196762303],\"type\":\"scatter\"},{\"legendgroup\":\"lines\",\"line\":{\"color\":\"#800000\"},\"mode\":\"lines\",\"showlegend\":false,\"x\":[-34.53305655020847,-21.519413177480807,-21.019413177480807,-20.519413177480807],\"y\":[4.683563383990901,4.683563383990901,0.6081983976166967,0.6081983976166967],\"type\":\"scatter\"},{\"legendgroup\":\"lines\",\"line\":{\"color\":\"#800000\"},\"mode\":\"lines\",\"showlegend\":false,\"x\":[-34.53305655020847,-22.14573264923491,-21.64573264923491,-21.14573264923491],\"y\":[-21.613906910855405,-21.613906910855405,-2.0135554370574384,-2.0135554370574384],\"type\":\"scatter\"},{\"legendgroup\":\"lines\",\"line\":{\"color\":\"#800000\"},\"mode\":\"lines\",\"showlegend\":false,\"x\":[34.92583805517557,28.920764802166676,28.420764802166676,27.920764802166676],\"y\":[-1.8908041897206758,-1.8908041897206758,-5.4645894572672145,-5.4645894572672145],\"type\":\"scatter\"},{\"legendgroup\":\"lines\",\"line\":{\"color\":\"#800000\"},\"mode\":\"lines\",\"showlegend\":false,\"x\":[-34.53305655020847,-21.200821746345394,-20.700821746345394,-20.200821746345394],\"y\":[17.832298531414054,17.832298531414054,3.0525869536669075,3.0525869536669075],\"type\":\"scatter\"},{\"legendgroup\":\"lines\",\"line\":{\"color\":\"#800000\"},\"mode\":\"lines\",\"showlegend\":false,\"x\":[-34.53305655020847,-10.132417521995789,-9.632417521995789,-9.132417521995789],\"y\":[44.12976882626036,44.12976882626036,2.5159569080052666,2.5159569080052666],\"type\":\"scatter\"},{\"legendgroup\":\"lines\",\"line\":{\"color\":\"#800000\"},\"mode\":\"lines\",\"showlegend\":false,\"x\":[-34.53305655020847,-19.692462505279163,-19.192462505279163,-18.692462505279163],\"y\":[-1.8908041897206758,-1.8908041897206758,-0.3207846215785276,-0.3207846215785276],\"type\":\"scatter\"},{\"legendgroup\":\"lines\",\"line\":{\"color\":\"#800000\"},\"mode\":\"lines\",\"showlegend\":false,\"x\":[-34.53305655020847,-34.0132790266894,-33.5132790266894,-33.0132790266894],\"y\":[-15.039539337143829,-15.039539337143829,-10.462036603764581,-10.462036603764581],\"type\":\"scatter\"},{\"legendgroup\":\"lines\",\"line\":{\"color\":\"#800000\"},\"mode\":\"lines\",\"showlegend\":false,\"x\":[-34.53305655020847,-14.688085898625804,-14.188085898625804,-13.688085898625804],\"y\":[-41.33700963199014,-41.33700963199014,-1.6647409746649324,-1.6647409746649324],\"type\":\"scatter\"},{\"legendgroup\":\"lines\",\"line\":{\"color\":\"#800000\"},\"mode\":\"lines\",\"showlegend\":false,\"x\":[-34.53305655020847,-9.320344793223091,-8.820344793223091,-8.320344793223091],\"y\":[50.704136399971944,50.704136399971944,9.005128306869876,9.005128306869876],\"type\":\"scatter\"},{\"legendgroup\":\"lines\",\"line\":{\"color\":\"#800000\"},\"mode\":\"lines\",\"showlegend\":false,\"x\":[-34.53305655020847,-5.309846171727369,-4.809846171727369,-4.309846171727369],\"y\":[70.42723912110668,70.42723912110668,19.627821061160194,19.627821061160194],\"type\":\"scatter\"},{\"legendgroup\":\"lines\",\"line\":{\"color\":\"#800000\"},\"mode\":\"lines\",\"showlegend\":false,\"x\":[-34.53305655020847,-21.355262039564348,-20.855262039564348,-20.355262039564348],\"y\":[-34.76264205827856,-34.76264205827856,-6.644561731018029,-6.644561731018029],\"type\":\"scatter\"},{\"legendgroup\":\"lines\",\"line\":{\"color\":\"#800000\"},\"mode\":\"lines\",\"showlegend\":false,\"x\":[-34.53305655020847,-24.873111258265233,-24.373111258265233,-23.873111258265233],\"y\":[-28.188274484566985,-28.188274484566985,-6.784898091025898,-6.784898091025898],\"type\":\"scatter\"},{\"legendgroup\":\"lines\",\"line\":{\"color\":\"#800000\"},\"mode\":\"lines\",\"showlegend\":false,\"x\":[-34.53305655020847,-13.976354412319575,-13.476354412319575,-12.976354412319575],\"y\":[30.981033678837207,30.981033678837207,5.707772244097187,5.707772244097187],\"type\":\"scatter\"},{\"legendgroup\":\"lines\",\"line\":{\"color\":\"#800000\"},\"mode\":\"lines\",\"showlegend\":false,\"x\":[-34.53305655020847,-32.2481194297737,-31.748119429773702,-31.248119429773702],\"y\":[-8.465171763432252,-8.465171763432252,-6.973209799277821,-6.973209799277821],\"type\":\"scatter\"},{\"legendgroup\":\"lines\",\"line\":{\"color\":\"#800000\"},\"mode\":\"lines\",\"showlegend\":false,\"x\":[-34.53305655020847,-27.512701633460775,-27.012701633460775,-26.512701633460775],\"y\":[11.257930957702484,11.257930957702484,6.387115960927773,6.387115960927773],\"type\":\"scatter\"},{\"legendgroup\":\"lines\",\"line\":{\"color\":\"#800000\"},\"mode\":\"lines\",\"showlegend\":false,\"x\":[-34.53305655020847,-19.818077644551995,-19.318077644551995,-18.818077644551995],\"y\":[37.55540125254879,37.55540125254879,15.650630814798571,15.650630814798571],\"type\":\"scatter\"},{\"legendgroup\":\"lines\",\"line\":{\"color\":\"#800000\"},\"mode\":\"lines\",\"showlegend\":false,\"x\":[34.92583805517557,29.212316111595232,28.712316111595232,28.212316111595232],\"y\":[4.683563383990901,4.683563383990901,-2.5341448320112665,-2.5341448320112665],\"type\":\"scatter\"},{\"legendgroup\":\"lines\",\"line\":{\"color\":\"#800000\"},\"mode\":\"lines\",\"showlegend\":false,\"x\":[34.92583805517557,30.066041834977277,29.566041834977277,29.066041834977277],\"y\":[-8.465171763432252,-8.465171763432252,-5.811674031270228,-5.811674031270228],\"type\":\"scatter\"},{\"legendgroup\":\"lines\",\"line\":{\"color\":\"#800000\"},\"mode\":\"lines\",\"showlegend\":false,\"x\":[-34.53305655020847,-21.514380826313193,-21.014380826313193,-20.514380826313193],\"y\":[24.406666105125638,24.406666105125638,5.054317521437019,5.054317521437019],\"type\":\"scatter\"}],                        {\"autosize\":false,\"height\":800,\"width\":1500,\"template\":{\"data\":{\"histogram2dcontour\":[{\"type\":\"histogram2dcontour\",\"colorbar\":{\"outlinewidth\":0,\"ticks\":\"\"},\"colorscale\":[[0.0,\"#0d0887\"],[0.1111111111111111,\"#46039f\"],[0.2222222222222222,\"#7201a8\"],[0.3333333333333333,\"#9c179e\"],[0.4444444444444444,\"#bd3786\"],[0.5555555555555556,\"#d8576b\"],[0.6666666666666666,\"#ed7953\"],[0.7777777777777778,\"#fb9f3a\"],[0.8888888888888888,\"#fdca26\"],[1.0,\"#f0f921\"]]}],\"choropleth\":[{\"type\":\"choropleth\",\"colorbar\":{\"outlinewidth\":0,\"ticks\":\"\"}}],\"histogram2d\":[{\"type\":\"histogram2d\",\"colorbar\":{\"outlinewidth\":0,\"ticks\":\"\"},\"colorscale\":[[0.0,\"#0d0887\"],[0.1111111111111111,\"#46039f\"],[0.2222222222222222,\"#7201a8\"],[0.3333333333333333,\"#9c179e\"],[0.4444444444444444,\"#bd3786\"],[0.5555555555555556,\"#d8576b\"],[0.6666666666666666,\"#ed7953\"],[0.7777777777777778,\"#fb9f3a\"],[0.8888888888888888,\"#fdca26\"],[1.0,\"#f0f921\"]]}],\"heatmap\":[{\"type\":\"heatmap\",\"colorbar\":{\"outlinewidth\":0,\"ticks\":\"\"},\"colorscale\":[[0.0,\"#0d0887\"],[0.1111111111111111,\"#46039f\"],[0.2222222222222222,\"#7201a8\"],[0.3333333333333333,\"#9c179e\"],[0.4444444444444444,\"#bd3786\"],[0.5555555555555556,\"#d8576b\"],[0.6666666666666666,\"#ed7953\"],[0.7777777777777778,\"#fb9f3a\"],[0.8888888888888888,\"#fdca26\"],[1.0,\"#f0f921\"]]}],\"heatmapgl\":[{\"type\":\"heatmapgl\",\"colorbar\":{\"outlinewidth\":0,\"ticks\":\"\"},\"colorscale\":[[0.0,\"#0d0887\"],[0.1111111111111111,\"#46039f\"],[0.2222222222222222,\"#7201a8\"],[0.3333333333333333,\"#9c179e\"],[0.4444444444444444,\"#bd3786\"],[0.5555555555555556,\"#d8576b\"],[0.6666666666666666,\"#ed7953\"],[0.7777777777777778,\"#fb9f3a\"],[0.8888888888888888,\"#fdca26\"],[1.0,\"#f0f921\"]]}],\"contourcarpet\":[{\"type\":\"contourcarpet\",\"colorbar\":{\"outlinewidth\":0,\"ticks\":\"\"}}],\"contour\":[{\"type\":\"contour\",\"colorbar\":{\"outlinewidth\":0,\"ticks\":\"\"},\"colorscale\":[[0.0,\"#0d0887\"],[0.1111111111111111,\"#46039f\"],[0.2222222222222222,\"#7201a8\"],[0.3333333333333333,\"#9c179e\"],[0.4444444444444444,\"#bd3786\"],[0.5555555555555556,\"#d8576b\"],[0.6666666666666666,\"#ed7953\"],[0.7777777777777778,\"#fb9f3a\"],[0.8888888888888888,\"#fdca26\"],[1.0,\"#f0f921\"]]}],\"surface\":[{\"type\":\"surface\",\"colorbar\":{\"outlinewidth\":0,\"ticks\":\"\"},\"colorscale\":[[0.0,\"#0d0887\"],[0.1111111111111111,\"#46039f\"],[0.2222222222222222,\"#7201a8\"],[0.3333333333333333,\"#9c179e\"],[0.4444444444444444,\"#bd3786\"],[0.5555555555555556,\"#d8576b\"],[0.6666666666666666,\"#ed7953\"],[0.7777777777777778,\"#fb9f3a\"],[0.8888888888888888,\"#fdca26\"],[1.0,\"#f0f921\"]]}],\"mesh3d\":[{\"type\":\"mesh3d\",\"colorbar\":{\"outlinewidth\":0,\"ticks\":\"\"}}],\"scatter\":[{\"fillpattern\":{\"fillmode\":\"overlay\",\"size\":10,\"solidity\":0.2},\"type\":\"scatter\"}],\"parcoords\":[{\"type\":\"parcoords\",\"line\":{\"colorbar\":{\"outlinewidth\":0,\"ticks\":\"\"}}}],\"scatterpolargl\":[{\"type\":\"scatterpolargl\",\"marker\":{\"colorbar\":{\"outlinewidth\":0,\"ticks\":\"\"}}}],\"bar\":[{\"error_x\":{\"color\":\"#2a3f5f\"},\"error_y\":{\"color\":\"#2a3f5f\"},\"marker\":{\"line\":{\"color\":\"#E5ECF6\",\"width\":0.5},\"pattern\":{\"fillmode\":\"overlay\",\"size\":10,\"solidity\":0.2}},\"type\":\"bar\"}],\"scattergeo\":[{\"type\":\"scattergeo\",\"marker\":{\"colorbar\":{\"outlinewidth\":0,\"ticks\":\"\"}}}],\"scatterpolar\":[{\"type\":\"scatterpolar\",\"marker\":{\"colorbar\":{\"outlinewidth\":0,\"ticks\":\"\"}}}],\"histogram\":[{\"marker\":{\"pattern\":{\"fillmode\":\"overlay\",\"size\":10,\"solidity\":0.2}},\"type\":\"histogram\"}],\"scattergl\":[{\"type\":\"scattergl\",\"marker\":{\"colorbar\":{\"outlinewidth\":0,\"ticks\":\"\"}}}],\"scatter3d\":[{\"type\":\"scatter3d\",\"line\":{\"colorbar\":{\"outlinewidth\":0,\"ticks\":\"\"}},\"marker\":{\"colorbar\":{\"outlinewidth\":0,\"ticks\":\"\"}}}],\"scattermapbox\":[{\"type\":\"scattermapbox\",\"marker\":{\"colorbar\":{\"outlinewidth\":0,\"ticks\":\"\"}}}],\"scatterternary\":[{\"type\":\"scatterternary\",\"marker\":{\"colorbar\":{\"outlinewidth\":0,\"ticks\":\"\"}}}],\"scattercarpet\":[{\"type\":\"scattercarpet\",\"marker\":{\"colorbar\":{\"outlinewidth\":0,\"ticks\":\"\"}}}],\"carpet\":[{\"aaxis\":{\"endlinecolor\":\"#2a3f5f\",\"gridcolor\":\"white\",\"linecolor\":\"white\",\"minorgridcolor\":\"white\",\"startlinecolor\":\"#2a3f5f\"},\"baxis\":{\"endlinecolor\":\"#2a3f5f\",\"gridcolor\":\"white\",\"linecolor\":\"white\",\"minorgridcolor\":\"white\",\"startlinecolor\":\"#2a3f5f\"},\"type\":\"carpet\"}],\"table\":[{\"cells\":{\"fill\":{\"color\":\"#EBF0F8\"},\"line\":{\"color\":\"white\"}},\"header\":{\"fill\":{\"color\":\"#C8D4E3\"},\"line\":{\"color\":\"white\"}},\"type\":\"table\"}],\"barpolar\":[{\"marker\":{\"line\":{\"color\":\"#E5ECF6\",\"width\":0.5},\"pattern\":{\"fillmode\":\"overlay\",\"size\":10,\"solidity\":0.2}},\"type\":\"barpolar\"}],\"pie\":[{\"automargin\":true,\"type\":\"pie\"}]},\"layout\":{\"autotypenumbers\":\"strict\",\"colorway\":[\"#636efa\",\"#EF553B\",\"#00cc96\",\"#ab63fa\",\"#FFA15A\",\"#19d3f3\",\"#FF6692\",\"#B6E880\",\"#FF97FF\",\"#FECB52\"],\"font\":{\"color\":\"#2a3f5f\"},\"hovermode\":\"closest\",\"hoverlabel\":{\"align\":\"left\"},\"paper_bgcolor\":\"white\",\"plot_bgcolor\":\"#E5ECF6\",\"polar\":{\"bgcolor\":\"#E5ECF6\",\"angularaxis\":{\"gridcolor\":\"white\",\"linecolor\":\"white\",\"ticks\":\"\"},\"radialaxis\":{\"gridcolor\":\"white\",\"linecolor\":\"white\",\"ticks\":\"\"}},\"ternary\":{\"bgcolor\":\"#E5ECF6\",\"aaxis\":{\"gridcolor\":\"white\",\"linecolor\":\"white\",\"ticks\":\"\"},\"baxis\":{\"gridcolor\":\"white\",\"linecolor\":\"white\",\"ticks\":\"\"},\"caxis\":{\"gridcolor\":\"white\",\"linecolor\":\"white\",\"ticks\":\"\"}},\"coloraxis\":{\"colorbar\":{\"outlinewidth\":0,\"ticks\":\"\"}},\"colorscale\":{\"sequential\":[[0.0,\"#0d0887\"],[0.1111111111111111,\"#46039f\"],[0.2222222222222222,\"#7201a8\"],[0.3333333333333333,\"#9c179e\"],[0.4444444444444444,\"#bd3786\"],[0.5555555555555556,\"#d8576b\"],[0.6666666666666666,\"#ed7953\"],[0.7777777777777778,\"#fb9f3a\"],[0.8888888888888888,\"#fdca26\"],[1.0,\"#f0f921\"]],\"sequentialminus\":[[0.0,\"#0d0887\"],[0.1111111111111111,\"#46039f\"],[0.2222222222222222,\"#7201a8\"],[0.3333333333333333,\"#9c179e\"],[0.4444444444444444,\"#bd3786\"],[0.5555555555555556,\"#d8576b\"],[0.6666666666666666,\"#ed7953\"],[0.7777777777777778,\"#fb9f3a\"],[0.8888888888888888,\"#fdca26\"],[1.0,\"#f0f921\"]],\"diverging\":[[0,\"#8e0152\"],[0.1,\"#c51b7d\"],[0.2,\"#de77ae\"],[0.3,\"#f1b6da\"],[0.4,\"#fde0ef\"],[0.5,\"#f7f7f7\"],[0.6,\"#e6f5d0\"],[0.7,\"#b8e186\"],[0.8,\"#7fbc41\"],[0.9,\"#4d9221\"],[1,\"#276419\"]]},\"xaxis\":{\"gridcolor\":\"white\",\"linecolor\":\"white\",\"ticks\":\"\",\"title\":{\"standoff\":15},\"zerolinecolor\":\"white\",\"automargin\":true,\"zerolinewidth\":2},\"yaxis\":{\"gridcolor\":\"white\",\"linecolor\":\"white\",\"ticks\":\"\",\"title\":{\"standoff\":15},\"zerolinecolor\":\"white\",\"automargin\":true,\"zerolinewidth\":2},\"scene\":{\"xaxis\":{\"backgroundcolor\":\"#E5ECF6\",\"gridcolor\":\"white\",\"linecolor\":\"white\",\"showbackground\":true,\"ticks\":\"\",\"zerolinecolor\":\"white\",\"gridwidth\":2},\"yaxis\":{\"backgroundcolor\":\"#E5ECF6\",\"gridcolor\":\"white\",\"linecolor\":\"white\",\"showbackground\":true,\"ticks\":\"\",\"zerolinecolor\":\"white\",\"gridwidth\":2},\"zaxis\":{\"backgroundcolor\":\"#E5ECF6\",\"gridcolor\":\"white\",\"linecolor\":\"white\",\"showbackground\":true,\"ticks\":\"\",\"zerolinecolor\":\"white\",\"gridwidth\":2}},\"shapedefaults\":{\"line\":{\"color\":\"#2a3f5f\"}},\"annotationdefaults\":{\"arrowcolor\":\"#2a3f5f\",\"arrowhead\":0,\"arrowwidth\":1},\"geo\":{\"bgcolor\":\"white\",\"landcolor\":\"#E5ECF6\",\"subunitcolor\":\"white\",\"showland\":true,\"showlakes\":true,\"lakecolor\":\"white\"},\"title\":{\"x\":0.05},\"mapbox\":{\"style\":\"light\"}}},\"annotations\":[{\"bgcolor\":\"#e6e6f2\",\"bordercolor\":\"#000080\",\"borderpad\":2,\"font\":{\"color\":\"black\"},\"showarrow\":false,\"text\":\"\\u5929\\u5929\\u780d\\uff0c\\u780d\\u7684\\u6211\\u90fd\\u5206\\u4e0d...\\u4eca\\u5929\\u7684\\u4e8b\\u4e86\\uff0c\\u5f88\\u604d\\u60da\\u3002\",\"x\":34.92583805517557,\"xanchor\":\"left\",\"xref\":\"x\",\"y\":-28.188274484566985,\"yanchor\":\"middle\",\"yref\":\"y\"},{\"bgcolor\":\"#e6e6f2\",\"bordercolor\":\"#000080\",\"borderpad\":2,\"font\":{\"color\":\"black\"},\"showarrow\":false,\"text\":\"\\u300a\\u5341\\u516b\\u8d62\\u300b\\u91cc\\u5531\\u4e86\\u90a3\\u4e48...\\uff0c\\u6b4c\\u624b\\u4e5f\\u4e0d\\u89c1\\u4e86\\u3002\\u2026 \",\"x\":34.92583805517557,\"xanchor\":\"left\",\"xref\":\"x\",\"y\":-34.76264205827856,\"yanchor\":\"middle\",\"yref\":\"y\"},{\"bgcolor\":\"#e6e6f2\",\"bordercolor\":\"#000080\",\"borderpad\":2,\"font\":{\"color\":\"black\"},\"showarrow\":false,\"text\":\"\\u4e16\\u754c\\u672b\\u65e5\\u65e5\\n\\u90d1\\u6e0a\\u6d01\\u66fe...\\u795e\\u5947\\u7684\\u547d\\u4e2d\\u6ce8\\u5b9a\\u3002\\u2026 \",\"x\":34.92583805517557,\"xanchor\":\"left\",\"xref\":\"x\",\"y\":11.257930957702484,\"yanchor\":\"middle\",\"yref\":\"y\"},{\"bgcolor\":\"#e6e6f2\",\"bordercolor\":\"#000080\",\"borderpad\":2,\"font\":{\"color\":\"black\"},\"showarrow\":false,\"text\":\"\\u53ea\\u80fd\\u8bf4\\u4eba\\u6c11\\u90fd\\u5177\\u5907\\u8fd9\\u6837...\\u5927\\u590d\\u5174\\u771f\\u7684\\u6ca1\\u5929\\u7406\\u4e86 \",\"x\":34.92583805517557,\"xanchor\":\"left\",\"xref\":\"x\",\"y\":24.406666105125638,\"yanchor\":\"middle\",\"yref\":\"y\"},{\"bgcolor\":\"#e6e6f2\",\"bordercolor\":\"#000080\",\"borderpad\":2,\"font\":{\"color\":\"black\"},\"showarrow\":false,\"text\":\"\\u611f\\u6168\\uff0c\\u7279\\u522b\\u662f\\u5f71\\u7247\\u6700\\u540e...\\u6c14\\uff0c\\u5e76\\u795d\\u8d3a\\u5979\\u7684\\u6210\\u529f \",\"x\":34.92583805517557,\"xanchor\":\"left\",\"xref\":\"x\",\"y\":-21.613906910855405,\"yanchor\":\"middle\",\"yref\":\"y\"},{\"bgcolor\":\"#e6e6f2\",\"bordercolor\":\"#000080\",\"borderpad\":2,\"font\":{\"color\":\"black\"},\"showarrow\":false,\"text\":\"\\u5f53\\u4f60\\u56e0\\u4e3a\\u81ea\\u5df1\\u548c\\u5ba4\\u53cb\\u65e0...\\u65f6\\u5019\\n\\u4f60\\u7684\\u5ba4\\u53cb : \",\"x\":34.92583805517557,\"xanchor\":\"left\",\"xref\":\"x\",\"y\":17.832298531414054,\"yanchor\":\"middle\",\"yref\":\"y\"},{\"bgcolor\":\"#e6e6f2\",\"bordercolor\":\"#000080\",\"borderpad\":2,\"font\":{\"color\":\"black\"},\"showarrow\":false,\"text\":\"\\u9ebb\\u8fa3\\u70eb\\u8fd9\\u4e2a\\u6a21\\u5f0f\\uff0c\\u8c01\\u53d1...\\u4ee5\\u4e3a\\u4f60\\u8d5a\\u4e86\\uff0c\\u5176\\u5b9e\\u6ca1\\u6709\",\"x\":34.92583805517557,\"xanchor\":\"left\",\"xref\":\"x\",\"y\":63.8528715473951,\"yanchor\":\"middle\",\"yref\":\"y\"},{\"bgcolor\":\"#e6e6f2\",\"bordercolor\":\"#000080\",\"borderpad\":2,\"font\":{\"color\":\"black\"},\"showarrow\":false,\"text\":\"\\u961c\\u9633\\u4e09\\u4e2d\\uff0c\\u8001\\u4e09\\u4e2d\\uff0c\\u5f80...\\u7092\\u7684\\u8fc7\\u5b83\\uff0c\\u540d\\u5b57\\u5fd8\\u4e86\\u3002\",\"x\":-34.53305655020847,\"xanchor\":\"right\",\"xref\":\"x\",\"y\":57.27850397368353,\"yanchor\":\"middle\",\"yref\":\"y\"},{\"bgcolor\":\"#e6e6f2\",\"bordercolor\":\"#000080\",\"borderpad\":2,\"font\":{\"color\":\"black\"},\"showarrow\":false,\"text\":\"\\u770b\\u89c6\\u9891\\u4e24\\u4e2a\\u611f\\u6168\\n1\\uff0c...\\u4e2a\\u4eba\\u51fa\\u95e8\\u90fd\\u5e26\\u628a\\u5200\\u554a \",\"x\":34.92583805517557,\"xanchor\":\"left\",\"xref\":\"x\",\"y\":-41.33700963199014,\"yanchor\":\"middle\",\"yref\":\"y\"},{\"bgcolor\":\"#e6e6f2\",\"bordercolor\":\"#000080\",\"borderpad\":2,\"font\":{\"color\":\"black\"},\"showarrow\":false,\"text\":\"\\u6211\\u89c9\\u5f97\\u5468\\u6770\\u4f26\\u771f\\u5e94\\u8be5\\u611f...\\u8ff7\\u5f88\\u8ba4\\u771f\\u7684\\u63d0\\u9192\\u4ed6\\u3002 \",\"x\":34.92583805517557,\"xanchor\":\"left\",\"xref\":\"x\",\"y\":-15.039539337143829,\"yanchor\":\"middle\",\"yref\":\"y\"},{\"bgcolor\":\"#e6e6f2\",\"bordercolor\":\"#000080\",\"borderpad\":2,\"font\":{\"color\":\"black\"},\"showarrow\":false,\"text\":\"\\u5728\\u590d\\u5174\\u53f7\\u4e0a\\u9762\\u4e0a\\u5395\\u6240\\u4e4b...\\u6444\\u50cf\\u5934\\uff1f\\u8fd9\\u8fb1\\u534e\\u4e86\\u5427 \",\"x\":-34.53305655020847,\"xanchor\":\"right\",\"xref\":\"x\",\"y\":-47.91137720570172,\"yanchor\":\"middle\",\"yref\":\"y\"},{\"bgcolor\":\"#e6e6f2\",\"bordercolor\":\"#000080\",\"borderpad\":2,\"font\":{\"color\":\"black\"},\"showarrow\":false,\"text\":\"Starlink\\uff0c\\u7528...\\u65f6\\u5019\\u88c5\\u7684\\u536b\\u661f\\u5927\\u9505\\u4f3c\\u7684\",\"x\":34.92583805517557,\"xanchor\":\"left\",\"xref\":\"x\",\"y\":-47.91137720570172,\"yanchor\":\"middle\",\"yref\":\"y\"},{\"bgcolor\":\"#e6e6f2\",\"bordercolor\":\"#000080\",\"borderpad\":2,\"font\":{\"color\":\"black\"},\"showarrow\":false,\"text\":\"\\u9996\\u5148\\uff0c\\u5bf9\\u56e0\\u4e3a\\u8fd9\\u4e00\\u6761\\u4ea7...\\u61c2\\u7684\\u771f\\u7684\\u633a\\u50bb\\u903c\\u7684\\u3002 \",\"x\":34.92583805517557,\"xanchor\":\"left\",\"xref\":\"x\",\"y\":44.12976882626036,\"yanchor\":\"middle\",\"yref\":\"y\"},{\"bgcolor\":\"#e6e6f2\",\"bordercolor\":\"#000080\",\"borderpad\":2,\"font\":{\"color\":\"black\"},\"showarrow\":false,\"text\":\"AI\\u751f\\u6210\\u7684\\u5185\\u5bb9\\u5982\\u679c\\u4f53...\\u662f\\u597dAI\\u8fd8\\u662f\\u574fAI\\uff1f\",\"x\":34.92583805517557,\"xanchor\":\"left\",\"xref\":\"x\",\"y\":30.981033678837207,\"yanchor\":\"middle\",\"yref\":\"y\"},{\"bgcolor\":\"#e6e6f2\",\"bordercolor\":\"#000080\",\"borderpad\":2,\"font\":{\"color\":\"black\"},\"showarrow\":false,\"text\":\"\\u6211\\u89c9\\u5f97\\u5728\\u8ba8\\u8bba\\u201c\\u94c1\\u94fe\\u5973...\\u5979\\u8fd8\\u662f\\u4e00\\u4e2a\\u6027\\u5974\\u3002\\u2026 \",\"x\":34.92583805517557,\"xanchor\":\"left\",\"xref\":\"x\",\"y\":57.27850397368353,\"yanchor\":\"middle\",\"yref\":\"y\"},{\"bgcolor\":\"#e6e6f2\",\"bordercolor\":\"#000080\",\"borderpad\":2,\"font\":{\"color\":\"black\"},\"showarrow\":false,\"text\":\"\\u53e3\\u5361\\u53e3\\u5566\\u9ebb\\u897f\\u54d2\\n\\u53e3\\u5361...\\u5537\\u5566\\u633a\\u5361\\u5207\\u4e00\\u54df\\u8c01\\u53e3\\u5566\",\"x\":34.92583805517557,\"xanchor\":\"left\",\"xref\":\"x\",\"y\":-54.485744779413295,\"yanchor\":\"middle\",\"yref\":\"y\"},{\"bgcolor\":\"#e6e6f2\",\"bordercolor\":\"#000080\",\"borderpad\":2,\"font\":{\"color\":\"black\"},\"showarrow\":false,\"text\":\"\\u554a\\u63d0\\u63d0\\u63d0\\u63d0\\u53d1\\u745e\\u6070\\u53d1\\u745e...\\u80ce \\u53d1\\u6070 \\u5b89\\u80ce \\u53d1\\u6070\",\"x\":-34.53305655020847,\"xanchor\":\"right\",\"xref\":\"x\",\"y\":-54.485744779413295,\"yanchor\":\"middle\",\"yref\":\"y\"},{\"bgcolor\":\"#e6e6f2\",\"bordercolor\":\"#000080\",\"borderpad\":2,\"font\":{\"color\":\"black\"},\"showarrow\":false,\"text\":\"\\u610f\\u5927\\u5229\\u548c\\u4e2d\\u56fd\\u5728\\u5f88\\u591a\\u65b9...\\u4eba\\u7279\\u522b\\u7231\\u5403\\u5305\\u5b50\\u3002\\u2026 \",\"x\":34.92583805517557,\"xanchor\":\"left\",\"xref\":\"x\",\"y\":70.42723912110668,\"yanchor\":\"middle\",\"yref\":\"y\"},{\"bgcolor\":\"#e6e6f2\",\"bordercolor\":\"#000080\",\"borderpad\":2,\"font\":{\"color\":\"black\"},\"showarrow\":false,\"text\":\"\\u5766\\u767d\\u8bb2\\uff0c\\u521a\\u624d\\u7b80\\u5355\\u770b\\u4e86...\\u633a\\u597d\\u7684\\uff0c\\u795d\\u4ed6\\u5e78\\u798f\\u3002 \",\"x\":34.92583805517557,\"xanchor\":\"left\",\"xref\":\"x\",\"y\":37.55540125254879,\"yanchor\":\"middle\",\"yref\":\"y\"},{\"bgcolor\":\"#e6e6f2\",\"bordercolor\":\"#000080\",\"borderpad\":2,\"font\":{\"color\":\"black\"},\"showarrow\":false,\"text\":\"\\u4e2d\\u56fd\\uff0c\\u5230\\u5e95\\u662f\\u4e0d\\u662f\\u53d1\\u8fbe...\\u7684\\u8bdd\\uff0c\\u5f88\\u591a\\u4eba\\u4e5f\\u4e0d\\u9ad8\\u5174\",\"x\":34.92583805517557,\"xanchor\":\"left\",\"xref\":\"x\",\"y\":50.704136399971944,\"yanchor\":\"middle\",\"yref\":\"y\"},{\"bgcolor\":\"#f2e6e6\",\"bordercolor\":\"#800000\",\"borderpad\":2,\"font\":{\"color\":\"black\"},\"showarrow\":false,\"text\":\"\\u3010\\u8f6c\\u9700\\uff01#\\u8131\\u53d1\\u81ea\\u6d4b\\u5c0f...\\uff1f\\u4e00\\u62db\\u6559\\u4f60\\u81ea\\u67e5\\uff01 \\u00a0\",\"x\":-34.53305655020847,\"xanchor\":\"right\",\"xref\":\"x\",\"y\":63.8528715473951,\"yanchor\":\"middle\",\"yref\":\"y\"},{\"bgcolor\":\"#f2e6e6\",\"bordercolor\":\"#800000\",\"borderpad\":2,\"font\":{\"color\":\"black\"},\"showarrow\":false,\"text\":\"\\u3010102.3\\u7c73\\uff01#\\u897f...\\u7ec4\\u56fe\\u51714\\u5f20]\\u00a0\\u539f\\u56fe\\u00a0\",\"x\":-34.53305655020847,\"xanchor\":\"right\",\"xref\":\"x\",\"y\":4.683563383990901,\"yanchor\":\"middle\",\"yref\":\"y\"},{\"bgcolor\":\"#f2e6e6\",\"bordercolor\":\"#800000\",\"borderpad\":2,\"font\":{\"color\":\"black\"},\"showarrow\":false,\"text\":\"\\u3010\\u81ea\\u8c6a\\uff01#\\u5728\\u5370\\u5ea6\\u6d0b\\u5076...\\u6c11\\u65e5\\u62a5\\u7684\\u5fae\\u535a\\u89c6\\u9891 \\u00a0\",\"x\":-34.53305655020847,\"xanchor\":\"right\",\"xref\":\"x\",\"y\":-21.613906910855405,\"yanchor\":\"middle\",\"yref\":\"y\"},{\"bgcolor\":\"#f2e6e6\",\"bordercolor\":\"#800000\",\"borderpad\":2,\"font\":{\"color\":\"black\"},\"showarrow\":false,\"text\":\"\\u3010\\u7231\\u751f\\u6d3b\\uff0c\\u66f4\\u7231\\u81ea\\u5df1\\u3011...\\u7ec4\\u56fe\\u51719\\u5f20]\\u00a0\\u539f\\u56fe\\u00a0\",\"x\":34.92583805517557,\"xanchor\":\"left\",\"xref\":\"x\",\"y\":-1.8908041897206758,\"yanchor\":\"middle\",\"yref\":\"y\"},{\"bgcolor\":\"#f2e6e6\",\"bordercolor\":\"#800000\",\"borderpad\":2,\"font\":{\"color\":\"black\"},\"showarrow\":false,\"text\":\"\\u3010\\u7f8e\\uff01#\\u65b0\\u7586\\u5929\\u5802\\u6e56\\u5982...\\u98ce\\u666f\\u7ebf\\u7684\\u5fae\\u535a\\u89c6\\u9891 \\u00a0\",\"x\":-34.53305655020847,\"xanchor\":\"right\",\"xref\":\"x\",\"y\":17.832298531414054,\"yanchor\":\"middle\",\"yref\":\"y\"},{\"bgcolor\":\"#f2e6e6\",\"bordercolor\":\"#800000\",\"borderpad\":2,\"font\":{\"color\":\"black\"},\"showarrow\":false,\"text\":\"\\u3010\\u60ca\\u8273\\uff01#80\\u540e\\u5c0f\\u4f19...\\u6c11\\u89c6\\u9891\\u7684\\u5fae\\u535a\\u89c6\\u9891 \\u00a0\",\"x\":-34.53305655020847,\"xanchor\":\"right\",\"xref\":\"x\",\"y\":44.12976882626036,\"yanchor\":\"middle\",\"yref\":\"y\"},{\"bgcolor\":\"#f2e6e6\",\"bordercolor\":\"#800000\",\"borderpad\":2,\"font\":{\"color\":\"black\"},\"showarrow\":false,\"text\":\"\\u3010\\u8f9b\\u82e6\\u4e86\\uff01#\\u7535\\u529b\\u5de5\\u4eba...\\u6c11\\u65e5\\u62a5\\u7684\\u5fae\\u535a\\u89c6\\u9891 \\u00a0\",\"x\":-34.53305655020847,\"xanchor\":\"right\",\"xref\":\"x\",\"y\":-1.8908041897206758,\"yanchor\":\"middle\",\"yref\":\"y\"},{\"bgcolor\":\"#f2e6e6\",\"bordercolor\":\"#800000\",\"borderpad\":2,\"font\":{\"color\":\"black\"},\"showarrow\":false,\"text\":\"\\u3010#\\u738b\\u695a\\u94a6\\u51fb\\u8d25\\u65e5\\u672c\\u961f...\\u7ec4\\u56fe\\u51712\\u5f20]\\u00a0\\u539f\\u56fe\\u00a0\",\"x\":-34.53305655020847,\"xanchor\":\"right\",\"xref\":\"x\",\"y\":-15.039539337143829,\"yanchor\":\"middle\",\"yref\":\"y\"},{\"bgcolor\":\"#f2e6e6\",\"bordercolor\":\"#800000\",\"borderpad\":2,\"font\":{\"color\":\"black\"},\"showarrow\":false,\"text\":\"\\u3010\\u71c3\\uff01#\\u6b8b\\u75be\\u7537\\u751f\\u7fbd\\u6bdb...\\u4eba\\u6c11\\u7f51\\u7684\\u5fae\\u535a\\u89c6\\u9891 \\u00a0\",\"x\":-34.53305655020847,\"xanchor\":\"right\",\"xref\":\"x\",\"y\":-41.33700963199014,\"yanchor\":\"middle\",\"yref\":\"y\"},{\"bgcolor\":\"#f2e6e6\",\"bordercolor\":\"#800000\",\"borderpad\":2,\"font\":{\"color\":\"black\"},\"showarrow\":false,\"text\":\"\\u3010\\u4ee3\\u5165\\u4e00\\u4e0b\\u4e0d\\u8fc7\\u5206\\u5427\\uff01...\\u5ddd\\u89c2\\u5bdf\\u7684\\u5fae\\u535a\\u89c6\\u9891 \\u00a0\",\"x\":-34.53305655020847,\"xanchor\":\"right\",\"xref\":\"x\",\"y\":50.704136399971944,\"yanchor\":\"middle\",\"yref\":\"y\"},{\"bgcolor\":\"#f2e6e6\",\"bordercolor\":\"#800000\",\"borderpad\":2,\"font\":{\"color\":\"black\"},\"showarrow\":false,\"text\":\"\\u3010\\u4e16\\u754c\\u810a\\u67f1\\u5065\\u5eb7\\u65e5\\uff0c\\u5173...\\u62db\\u4e86...... \\u00a0\",\"x\":-34.53305655020847,\"xanchor\":\"right\",\"xref\":\"x\",\"y\":70.42723912110668,\"yanchor\":\"middle\",\"yref\":\"y\"},{\"bgcolor\":\"#f2e6e6\",\"bordercolor\":\"#800000\",\"borderpad\":2,\"font\":{\"color\":\"black\"},\"showarrow\":false,\"text\":\"\\u3010\\u70ed\\u8840\\u519b\\u8425\\uff0c\\u7b49\\u4f60\\u52a0\\u5165...\\u5f81\\u62a5\\u540d\\u6b63\\u5728\\u8fdb\\u884c\\u4e2d \\u00a0\",\"x\":-34.53305655020847,\"xanchor\":\"right\",\"xref\":\"x\",\"y\":-34.76264205827856,\"yanchor\":\"middle\",\"yref\":\"y\"},{\"bgcolor\":\"#f2e6e6\",\"bordercolor\":\"#800000\",\"borderpad\":2,\"font\":{\"color\":\"black\"},\"showarrow\":false,\"text\":\"\\u3010#\\u4eca\\u5e749\\u5927\\u70ed\\u95e8\\u65c5\\u884c...\\u7ec4\\u56fe\\u51719\\u5f20]\\u00a0\\u539f\\u56fe\\u00a0\",\"x\":-34.53305655020847,\"xanchor\":\"right\",\"xref\":\"x\",\"y\":-28.188274484566985,\"yanchor\":\"middle\",\"yref\":\"y\"},{\"bgcolor\":\"#f2e6e6\",\"bordercolor\":\"#800000\",\"borderpad\":2,\"font\":{\"color\":\"black\"},\"showarrow\":false,\"text\":\"\\u3010#\\u4f60\\u597d\\uff0c\\u660e\\u5929#\\u3011\\u4eca...\\u6c11\\u65e5\\u62a5\\u7684\\u5fae\\u535a\\u89c6\\u9891 \\u00a0\",\"x\":-34.53305655020847,\"xanchor\":\"right\",\"xref\":\"x\",\"y\":30.981033678837207,\"yanchor\":\"middle\",\"yref\":\"y\"},{\"bgcolor\":\"#f2e6e6\",\"bordercolor\":\"#800000\",\"borderpad\":2,\"font\":{\"color\":\"black\"},\"showarrow\":false,\"text\":\"\\u3010#\\u5927\\u8fd0\\u4f1a18\\u4e2a\\u5927\\u9879...\\u56fe\\u517118\\u5f20]\\u00a0\\u539f\\u56fe\\u00a0\",\"x\":-34.53305655020847,\"xanchor\":\"right\",\"xref\":\"x\",\"y\":-8.465171763432252,\"yanchor\":\"middle\",\"yref\":\"y\"},{\"bgcolor\":\"#f2e6e6\",\"bordercolor\":\"#800000\",\"borderpad\":2,\"font\":{\"color\":\"black\"},\"showarrow\":false,\"text\":\"\\u3010\\u6b63\\u5728\\u76f4\\u64ad\\uff1a#\\u4e24\\u5ea7\\u9ad8...\\u6c11\\u65e5\\u62a5\\u7684\\u5fae\\u535a\\u76f4\\u64ad \\u00a0\",\"x\":-34.53305655020847,\"xanchor\":\"right\",\"xref\":\"x\",\"y\":11.257930957702484,\"yanchor\":\"middle\",\"yref\":\"y\"},{\"bgcolor\":\"#f2e6e6\",\"bordercolor\":\"#800000\",\"borderpad\":2,\"font\":{\"color\":\"black\"},\"showarrow\":false,\"text\":\"\\u3010#\\u4f60\\u597d\\uff0c\\u660e\\u5929#\\u3011\\u56de...\\u6c11\\u65e5\\u62a5\\u7684\\u5fae\\u535a\\u89c6\\u9891 \\u00a0\",\"x\":-34.53305655020847,\"xanchor\":\"right\",\"xref\":\"x\",\"y\":37.55540125254879,\"yanchor\":\"middle\",\"yref\":\"y\"},{\"bgcolor\":\"#f2e6e6\",\"bordercolor\":\"#800000\",\"borderpad\":2,\"font\":{\"color\":\"black\"},\"showarrow\":false,\"text\":\"\\u3010\\u591c\\u8bfb\\uff1a\\u4e00\\u4e2a\\u4eba\\u6700\\u9876\\u7ea7...\\uff0c\\u4ea4\\u8be4\\u53cb\\uff0c\\u89c1\\u4e16\\u9762 \\u00a0\",\"x\":34.92583805517557,\"xanchor\":\"left\",\"xref\":\"x\",\"y\":4.683563383990901,\"yanchor\":\"middle\",\"yref\":\"y\"},{\"bgcolor\":\"#f2e6e6\",\"bordercolor\":\"#800000\",\"borderpad\":2,\"font\":{\"color\":\"black\"},\"showarrow\":false,\"text\":\"\\u3010\\u4eba\\u751f\\u4e0d\\u5fe7\\u4ea6\\u4e0d\\u60e7\\uff0c\\u4fdd...\\u7ec4\\u56fe\\u51719\\u5f20]\\u00a0\\u539f\\u56fe\\u00a0\",\"x\":34.92583805517557,\"xanchor\":\"left\",\"xref\":\"x\",\"y\":-8.465171763432252,\"yanchor\":\"middle\",\"yref\":\"y\"},{\"bgcolor\":\"#f2e6e6\",\"bordercolor\":\"#800000\",\"borderpad\":2,\"font\":{\"color\":\"black\"},\"showarrow\":false,\"text\":\"\\u3010\\u6c1b\\u56f4\\u611f\\u62c9\\u6ee1\\uff01#\\u822a\\u62cd...\\u662f\\u6c5f\\u5357\\u7684\\u5fae\\u535a\\u89c6\\u9891 \\u00a0\",\"x\":-34.53305655020847,\"xanchor\":\"right\",\"xref\":\"x\",\"y\":24.406666105125638,\"yanchor\":\"middle\",\"yref\":\"y\"}],\"xaxis\":{\"tickvals\":[]},\"yaxis\":{\"tickvals\":[]}},                        {\"responsive\": true}                    ).then(function(){\n",
              "                            \n",
              "var gd = document.getElementById('922001cf-bd34-4790-8831-f05b29225105');\n",
              "var x = new MutationObserver(function (mutations, observer) {{\n",
              "        var display = window.getComputedStyle(gd).display;\n",
              "        if (!display || display === 'none') {{\n",
              "            console.log([gd, 'removed!']);\n",
              "            Plotly.purge(gd);\n",
              "            observer.disconnect();\n",
              "        }}\n",
              "}});\n",
              "\n",
              "// Listen for the removal of the full notebook cells\n",
              "var notebookContainer = gd.closest('#notebook-container');\n",
              "if (notebookContainer) {{\n",
              "    x.observe(notebookContainer, {childList: true});\n",
              "}}\n",
              "\n",
              "// Listen for the clearing of the current output cell\n",
              "var outputEl = gd.closest('.output');\n",
              "if (outputEl) {{\n",
              "    x.observe(outputEl, {childList: true});\n",
              "}}\n",
              "\n",
              "                        })                };                            </script>        </div>\n",
              "</body>\n",
              "</html>"
            ]
          },
          "metadata": {}
        }
      ]
    },
    {
      "cell_type": "code",
      "source": [
        "import torch\n",
        "from torch import nn\n",
        "import torch.optim as optim\n",
        "from transformers import AutoModel, AutoTokenizer\n",
        "\n",
        "tokenizer = AutoTokenizer.from_pretrained(\"silk-road/luotuo-bert\")\n",
        "model_args = Namespace(do_mlm=None, pooler_type=\"cls\", temp=0.05, mlp_only_train=False, init_embeddings_model=None)\n",
        "model = AutoModel.from_pretrained(\"silk-road/luotuo-bert\", trust_remote_code=True, model_args=model_args)\n",
        "\n",
        "# Define the classifier\n",
        "class Classifier(nn.Module):\n",
        "    def __init__(self, bert_model, hidden_size=1536, num_classes=2):\n",
        "        super(Classifier, self).__init__()\n",
        "        self.bert_model = bert_model\n",
        "        self.linear1 = nn.Linear(hidden_size, hidden_size)\n",
        "        self.relu = nn.ReLU()\n",
        "        self.linear2 = nn.Linear(hidden_size, num_classes)\n",
        "\n",
        "    def forward(self, **inputs):\n",
        "        outputs = self.bert_model(output_hidden_states=True, return_dict=True, sent_emb=True, **inputs)\n",
        "        pooled_output = outputs[1]\n",
        "        x = self.linear1(pooled_output)\n",
        "        x = self.relu(x)\n",
        "        x = self.linear2(x)\n",
        "        return x\n",
        "\n",
        "# Freeze the parameters of the BERT model\n",
        "for param in model.parameters():\n",
        "    param.requires_grad = False\n",
        "\n",
        "# Initialize the classifier using the BERT model\n",
        "classifier = Classifier(model)\n",
        "\n",
        "# Define the loss function\n",
        "loss_fn = nn.CrossEntropyLoss()\n",
        "\n",
        "# Define the optimizer\n",
        "optimizer = optim.Adam(classifier.parameters())"
      ],
      "metadata": {
        "id": "2Pcv3EbtNwxr"
      },
      "execution_count": 9,
      "outputs": []
    },
    {
      "cell_type": "markdown",
      "source": [
        "## 准备数据"
      ],
      "metadata": {
        "id": "hU1ybpoNLcBZ"
      }
    },
    {
      "cell_type": "code",
      "source": [
        "from sklearn.model_selection import train_test_split\n",
        "\n",
        "data_neg = \"/content/data/posts/neg_posts_twitter.csv\"\n",
        "data_pos = \"/content/data/posts/pos_posts_weibo.csv\"\n",
        "\n",
        "data_neg = pd.read_csv(data_neg, header=0)\n",
        "data_pos = pd.read_csv(data_pos, header=0)\n",
        "\n",
        "content_neg = data_neg[\"Content\"].tolist()[:10000]\n",
        "content_pos = data_pos['content'].tolist()[:10000]\n",
        "label_neg = data_neg[\"label\"].tolist()[:10000]\n",
        "label_pos = data_pos[\"label\"].tolist()[:10000]\n",
        "\n",
        "text = content_neg + content_pos\n",
        "labels = label_neg + label_pos\n",
        "\n",
        "# Split the data into training set and test set\n",
        "train_text, test_text, train_labels, test_labels = train_test_split(text, labels, test_size=0.2, random_state=42)\n",
        "\n",
        "# Further split the training set into training set and validation set\n",
        "train_text, val_text, train_labels, val_labels = train_test_split(train_text, train_labels, test_size=0.2, random_state=42)\n",
        "\n",
        "print(\"Train set size:\", len(train_text))\n",
        "print(\"Validation set size:\", len(val_text))\n",
        "print(\"Test set size:\", len(test_text))\n",
        "\n",
        "train_ratio = len(train_text) / len(text) * 100\n",
        "val_ratio = len(val_text) / len(text) * 100\n",
        "test_ratio = len(test_text) / len(text) * 100\n",
        "\n",
        "print(\"Train set ratio: {:.2f}%\".format(train_ratio))\n",
        "print(\"Validation set ratio: {:.2f}%\".format(val_ratio))\n",
        "print(\"Test set ratio: {:.2f}%\".format(test_ratio))"
      ],
      "metadata": {
        "id": "VLJvKl_WLbWj",
        "colab": {
          "base_uri": "https://localhost:8080/"
        },
        "outputId": "c4466076-ecf6-43dd-e362-df7597429c76"
      },
      "execution_count": 15,
      "outputs": [
        {
          "output_type": "stream",
          "name": "stdout",
          "text": [
            "Train set size: 12800\n",
            "Validation set size: 3200\n",
            "Test set size: 4000\n",
            "Train set ratio: 64.00%\n",
            "Validation set ratio: 16.00%\n",
            "Test set ratio: 20.00%\n"
          ]
        }
      ]
    },
    {
      "cell_type": "code",
      "source": [
        "from torch.utils.data import Dataset, DataLoader\n",
        "from transformers import AutoTokenizer\n",
        "\n",
        "class MyDataset(Dataset):\n",
        "    def __init__(self, texts, labels, tokenizer, max_len):\n",
        "        self.texts = texts\n",
        "        self.labels = labels\n",
        "        self.tokenizer = tokenizer\n",
        "        self.max_len = max_len\n",
        "\n",
        "    def __len__(self):\n",
        "        return len(self.texts)\n",
        "\n",
        "    def __getitem__(self, idx):\n",
        "        text = self.texts[idx]\n",
        "        label = self.labels[idx]\n",
        "        encoding = self.tokenizer.encode_plus(\n",
        "            text,\n",
        "            add_special_tokens=True,\n",
        "            max_length=self.max_len,\n",
        "            return_token_type_ids=False,\n",
        "            padding='max_length',\n",
        "            return_attention_mask=True,\n",
        "            return_tensors='pt',\n",
        "            truncation=True\n",
        "        )\n",
        "        return {\n",
        "            'input_ids': encoding['input_ids'].flatten(),\n",
        "            'attention_mask': encoding['attention_mask'].flatten(),\n",
        "            'labels': torch.tensor(label, dtype=torch.long)\n",
        "        }\n",
        "\n",
        "def create_data_loader(texts, labels, tokenizer, max_len, batch_size):\n",
        "    dataset = MyDataset(\n",
        "        texts=texts,\n",
        "        labels=labels,\n",
        "        tokenizer=tokenizer,\n",
        "        max_len=max_len\n",
        "    )\n",
        "    return DataLoader(\n",
        "        dataset,\n",
        "        batch_size=batch_size,\n",
        "        num_workers=4\n",
        "    )\n",
        "\n",
        "BATCH_SIZE = 16\n",
        "MAX_LEN = 256\n",
        "\n",
        "# Create DataLoader for training, validation, and test sets\n",
        "train_data_loader = create_data_loader(train_text, train_labels, tokenizer, MAX_LEN, BATCH_SIZE)\n",
        "val_data_loader = create_data_loader(val_text, val_labels, tokenizer, MAX_LEN, BATCH_SIZE)\n",
        "test_data_loader = create_data_loader(test_text, test_labels, tokenizer, MAX_LEN, BATCH_SIZE)"
      ],
      "metadata": {
        "id": "HNymItsHbhl9"
      },
      "execution_count": 17,
      "outputs": []
    },
    {
      "cell_type": "code",
      "source": [
        "from sklearn.metrics import recall_score\n",
        "from tqdm import tqdm\n",
        "\n",
        "def train_epoch(model, data_loader, loss_fn, optimizer, device, scaler):\n",
        "    model = model.train()\n",
        "\n",
        "    losses = []\n",
        "    correct_predictions = 0\n",
        "    recall = []\n",
        "\n",
        "    for d in tqdm(data_loader):\n",
        "        input_ids = d[\"input_ids\"].to(device)\n",
        "        attention_mask = d[\"attention_mask\"].to(device)\n",
        "        labels = d[\"labels\"].to(device)\n",
        "\n",
        "        # Forward pass\n",
        "        outputs = model(input_ids=input_ids, attention_mask=attention_mask)\n",
        "\n",
        "        _, preds = torch.max(outputs, dim=1)\n",
        "        loss = loss_fn(outputs, labels)\n",
        "\n",
        "        # Count correct predictions\n",
        "        correct_predictions += torch.sum(preds == labels)\n",
        "        losses.append(loss.item())\n",
        "\n",
        "        # Calculate recall score\n",
        "        recall.append(recall_score(labels.cpu(), preds.cpu(), average='macro'))\n",
        "\n",
        "        # Backward pass and optimization\n",
        "        scaler.scale(loss).backward()\n",
        "        scaler.step(optimizer)\n",
        "        scaler.update()\n",
        "        optimizer.zero_grad()\n",
        "\n",
        "    # Calculate accuracy, average loss, and average recall\n",
        "    accuracy = correct_predictions.double() / len(data_loader.dataset)\n",
        "    avg_loss = np.mean(losses)\n",
        "    avg_recall = np.mean(recall)\n",
        "\n",
        "    return accuracy, avg_loss, avg_recall\n"
      ],
      "metadata": {
        "id": "erTbXDNacKJD"
      },
      "execution_count": 18,
      "outputs": []
    },
    {
      "cell_type": "code",
      "source": [
        "def eval_model(model, data_loader, loss_fn, device):\n",
        "    model = model.eval()\n",
        "\n",
        "    losses = []\n",
        "    correct_predictions = 0\n",
        "    recall = []\n",
        "\n",
        "    with torch.no_grad():\n",
        "        for d in data_loader:\n",
        "            input_ids = d[\"input_ids\"].to(device)\n",
        "            attention_mask = d[\"attention_mask\"].to(device)\n",
        "            labels = d[\"labels\"].to(device)\n",
        "\n",
        "            # Forward pass\n",
        "            outputs = model(input_ids=input_ids, attention_mask=attention_mask)\n",
        "            _, preds = torch.max(outputs, dim=1)\n",
        "\n",
        "            loss = loss_fn(outputs, labels)\n",
        "\n",
        "            # Count correct predictions\n",
        "            correct_predictions += torch.sum(preds == labels)\n",
        "            losses.append(loss.item())\n",
        "\n",
        "            # Calculate recall score\n",
        "            recall.append(recall_score(labels.cpu(), preds.cpu(), average='macro'))\n",
        "\n",
        "    # Calculate accuracy, average loss, and average recall\n",
        "    accuracy = correct_predictions.double() / len(data_loader.dataset)\n",
        "    avg_loss = np.mean(losses)\n",
        "    avg_recall = np.mean(recall)\n",
        "\n",
        "    return accuracy, avg_loss, avg_recall\n"
      ],
      "metadata": {
        "id": "OnvkccDDcLWa"
      },
      "execution_count": 19,
      "outputs": []
    },
    {
      "cell_type": "markdown",
      "source": [
        "## 训练"
      ],
      "metadata": {
        "id": "XVDEggQGgcoS"
      }
    },
    {
      "cell_type": "code",
      "source": [
        "from torch.cuda.amp import GradScaler\n",
        "\n",
        "EPOCHS = 10\n",
        "scaler = GradScaler()\n",
        "device = torch.device(\"cuda\" if torch.cuda.is_available() else \"cpu\")\n",
        "\n",
        "classifier = classifier.to(device)\n",
        "\n",
        "history = {'train_acc': [], 'train_loss': [], 'val_acc': [], 'val_loss': [], 'train_recall': [], 'val_recall': []}\n",
        "\n",
        "for epoch in range(EPOCHS):\n",
        "    print(f'Epoch {epoch + 1}/{EPOCHS}')\n",
        "    print('-' * 10)\n",
        "\n",
        "    # Train the model\n",
        "    train_acc, train_loss, train_recall = train_epoch(\n",
        "        classifier,\n",
        "        train_data_loader,\n",
        "        loss_fn,\n",
        "        optimizer,\n",
        "        device,\n",
        "        scaler\n",
        "    )\n",
        "\n",
        "    print(f'Train loss {train_loss} accuracy {train_acc} recall {train_recall}')\n",
        "\n",
        "    # Evaluate the model on the validation set\n",
        "    val_acc, val_loss, val_recall = eval_model(\n",
        "        classifier,\n",
        "        val_data_loader,\n",
        "        loss_fn,\n",
        "        device\n",
        "    )\n",
        "\n",
        "    print(f'Val   loss {val_loss} accuracy {val_acc} recall {val_recall}')\n",
        "    print()\n",
        "\n",
        "    # Record the metrics in the history dictionary\n",
        "    history['train_acc'].append(train_acc)\n",
        "    history['train_loss'].append(train_loss)\n",
        "    history['train_recall'].append(train_recall)\n",
        "    history['val_acc'].append(val_acc)\n",
        "    history['val_loss'].append(val_loss)\n",
        "    history['val_recall'].append(val_recall)\n",
        "\n",
        "print(\"Training complete\")\n"
      ],
      "metadata": {
        "id": "NVyIY_qLcO53",
        "colab": {
          "base_uri": "https://localhost:8080/"
        },
        "outputId": "5c9382e6-5011-42cc-b5c7-0d30dfb4f373"
      },
      "execution_count": 20,
      "outputs": [
        {
          "output_type": "stream",
          "name": "stdout",
          "text": [
            "Epoch 1/10\n",
            "----------\n"
          ]
        },
        {
          "output_type": "stream",
          "name": "stderr",
          "text": [
            "100%|██████████| 800/800 [03:10<00:00,  4.21it/s]"
          ]
        },
        {
          "output_type": "stream",
          "name": "stdout",
          "text": [
            "Train loss 0.1282014841309865 accuracy 0.95125 recall 0.9504209367021867\n"
          ]
        },
        {
          "output_type": "stream",
          "name": "stderr",
          "text": [
            "\n"
          ]
        },
        {
          "output_type": "stream",
          "name": "stdout",
          "text": [
            "Val   loss 0.09402457998367027 accuracy 0.965 recall 0.9637922424797426\n",
            "\n",
            "Epoch 2/10\n",
            "----------\n"
          ]
        },
        {
          "output_type": "stream",
          "name": "stderr",
          "text": [
            "100%|██████████| 800/800 [03:11<00:00,  4.17it/s]"
          ]
        },
        {
          "output_type": "stream",
          "name": "stdout",
          "text": [
            "Train loss 0.09657034511328674 accuracy 0.9639062500000001 recall 0.9636211756993006\n"
          ]
        },
        {
          "output_type": "stream",
          "name": "stderr",
          "text": [
            "\n"
          ]
        },
        {
          "output_type": "stream",
          "name": "stdout",
          "text": [
            "Val   loss 0.07943776642146987 accuracy 0.9696875 recall 0.9685769647019649\n",
            "\n",
            "Epoch 3/10\n",
            "----------\n"
          ]
        },
        {
          "output_type": "stream",
          "name": "stderr",
          "text": [
            "100%|██████████| 800/800 [03:11<00:00,  4.18it/s]"
          ]
        },
        {
          "output_type": "stream",
          "name": "stdout",
          "text": [
            "Train loss 0.08231137117662002 accuracy 0.97 recall 0.9697148355117107\n"
          ]
        },
        {
          "output_type": "stream",
          "name": "stderr",
          "text": [
            "\n"
          ]
        },
        {
          "output_type": "stream",
          "name": "stdout",
          "text": [
            "Val   loss 0.06584567611396779 accuracy 0.974375 recall 0.9729874639249638\n",
            "\n",
            "Epoch 4/10\n",
            "----------\n"
          ]
        },
        {
          "output_type": "stream",
          "name": "stderr",
          "text": [
            "100%|██████████| 800/800 [03:11<00:00,  4.17it/s]"
          ]
        },
        {
          "output_type": "stream",
          "name": "stdout",
          "text": [
            "Train loss 0.06699592049597414 accuracy 0.975703125 recall 0.9755443809662561\n"
          ]
        },
        {
          "output_type": "stream",
          "name": "stderr",
          "text": [
            "\n"
          ]
        },
        {
          "output_type": "stream",
          "name": "stdout",
          "text": [
            "Val   loss 0.05384324924729299 accuracy 0.980625 recall 0.9797113442113442\n",
            "\n",
            "Epoch 5/10\n",
            "----------\n"
          ]
        },
        {
          "output_type": "stream",
          "name": "stderr",
          "text": [
            "100%|██████████| 800/800 [03:11<00:00,  4.18it/s]"
          ]
        },
        {
          "output_type": "stream",
          "name": "stdout",
          "text": [
            "Train loss 0.05817687210685108 accuracy 0.97859375 recall 0.9787429220085471\n"
          ]
        },
        {
          "output_type": "stream",
          "name": "stderr",
          "text": [
            "\n"
          ]
        },
        {
          "output_type": "stream",
          "name": "stdout",
          "text": [
            "Val   loss 0.04788990441011265 accuracy 0.98375 recall 0.9831069347319348\n",
            "\n",
            "Epoch 6/10\n",
            "----------\n"
          ]
        },
        {
          "output_type": "stream",
          "name": "stderr",
          "text": [
            "100%|██████████| 800/800 [03:11<00:00,  4.18it/s]"
          ]
        },
        {
          "output_type": "stream",
          "name": "stdout",
          "text": [
            "Train loss 0.04837002285727067 accuracy 0.982265625 recall 0.9821469242562993\n"
          ]
        },
        {
          "output_type": "stream",
          "name": "stderr",
          "text": [
            "\n"
          ]
        },
        {
          "output_type": "stream",
          "name": "stdout",
          "text": [
            "Val   loss 0.04531647421303205 accuracy 0.9840625000000001 recall 0.983803515928516\n",
            "\n",
            "Epoch 7/10\n",
            "----------\n"
          ]
        },
        {
          "output_type": "stream",
          "name": "stderr",
          "text": [
            "100%|██████████| 800/800 [03:11<00:00,  4.17it/s]"
          ]
        },
        {
          "output_type": "stream",
          "name": "stdout",
          "text": [
            "Train loss 0.04352348608931607 accuracy 0.9846875 recall 0.9848062250249751\n"
          ]
        },
        {
          "output_type": "stream",
          "name": "stderr",
          "text": [
            "\n"
          ]
        },
        {
          "output_type": "stream",
          "name": "stdout",
          "text": [
            "Val   loss 0.043039091645623556 accuracy 0.9862500000000001 recall 0.9864085220335221\n",
            "\n",
            "Epoch 8/10\n",
            "----------\n"
          ]
        },
        {
          "output_type": "stream",
          "name": "stderr",
          "text": [
            "100%|██████████| 800/800 [03:11<00:00,  4.18it/s]"
          ]
        },
        {
          "output_type": "stream",
          "name": "stdout",
          "text": [
            "Train loss 0.04022388264512301 accuracy 0.9862500000000001 recall 0.9865248917748918\n"
          ]
        },
        {
          "output_type": "stream",
          "name": "stderr",
          "text": [
            "\n"
          ]
        },
        {
          "output_type": "stream",
          "name": "stdout",
          "text": [
            "Val   loss 0.04230639901958057 accuracy 0.9859375 recall 0.9861508283383283\n",
            "\n",
            "Epoch 9/10\n",
            "----------\n"
          ]
        },
        {
          "output_type": "stream",
          "name": "stderr",
          "text": [
            "100%|██████████| 800/800 [03:11<00:00,  4.17it/s]"
          ]
        },
        {
          "output_type": "stream",
          "name": "stdout",
          "text": [
            "Train loss 0.036278577638477146 accuracy 0.9875 recall 0.9872270403207903\n"
          ]
        },
        {
          "output_type": "stream",
          "name": "stderr",
          "text": [
            "\n"
          ]
        },
        {
          "output_type": "stream",
          "name": "stdout",
          "text": [
            "Val   loss 0.04009846380737145 accuracy 0.9868750000000001 recall 0.986906628094128\n",
            "\n",
            "Epoch 10/10\n",
            "----------\n"
          ]
        },
        {
          "output_type": "stream",
          "name": "stderr",
          "text": [
            "100%|██████████| 800/800 [03:11<00:00,  4.17it/s]"
          ]
        },
        {
          "output_type": "stream",
          "name": "stdout",
          "text": [
            "Train loss 0.029348761059027312 accuracy 0.989453125 recall 0.9894445571789322\n"
          ]
        },
        {
          "output_type": "stream",
          "name": "stderr",
          "text": [
            "\n"
          ]
        },
        {
          "output_type": "stream",
          "name": "stdout",
          "text": [
            "Val   loss 0.04242218425137253 accuracy 0.9865625 recall 0.9856961580086581\n",
            "\n",
            "Training complete\n"
          ]
        }
      ]
    },
    {
      "cell_type": "markdown",
      "source": [
        "## 可视化训练过程"
      ],
      "metadata": {
        "id": "XHFlb9FTgoNJ"
      }
    },
    {
      "cell_type": "code",
      "source": [
        "import matplotlib.pyplot as plt\n",
        "\n",
        "def plot_training_history(history):\n",
        "    # Convert the tensors to lists\n",
        "    train_acc = [float(x.cpu().numpy()) for x in history['train_acc']]\n",
        "    val_acc = [float(x.cpu().numpy()) for x in history['val_acc']]\n",
        "    train_loss = history['train_loss']\n",
        "    val_loss = history['val_loss']\n",
        "    train_recall = history['train_recall']\n",
        "    val_recall = history['val_recall']\n",
        "\n",
        "    # Create a figure\n",
        "    fig, (ax1, ax2, ax3) = plt.subplots(3, figsize=(12, 12))\n",
        "\n",
        "    # Plot training and validation loss\n",
        "    ax1.plot(train_loss, label='Training Loss', color='blue')\n",
        "    ax1.scatter(range(len(train_loss)), train_loss, color='blue')\n",
        "    ax1.plot(val_loss, label='Validation Loss', color='red')\n",
        "    ax1.scatter(range(len(val_loss)), val_loss, color='red')\n",
        "    ax1.set_title('Training and Validation Loss')\n",
        "    ax1.set_xlabel('Epoch')\n",
        "    ax1.set_ylabel('Loss')\n",
        "    ax1.legend()\n",
        "\n",
        "    # Plot training and validation accuracy\n",
        "    ax2.plot(train_acc, label='Training Accuracy', color='blue')\n",
        "    ax2.scatter(range(len(train_acc)), train_acc, color='blue')\n",
        "    ax2.plot(val_acc, label='Validation Accuracy', color='red')\n",
        "    ax2.scatter(range(len(val_acc)), val_acc, color='red')\n",
        "    ax2.set_title('Training and Validation Accuracy')\n",
        "    ax2.set_xlabel('Epoch')\n",
        "    ax2.set_ylabel('Accuracy')\n",
        "    ax2.legend()\n",
        "\n",
        "    # Plot training and validation recall\n",
        "    ax3.plot(train_recall, label='Training Recall', color='blue')\n",
        "    ax3.scatter(range(len(train_recall)), train_recall, color='blue')\n",
        "    ax3.plot(val_recall, label='Validation Recall', color='red')\n",
        "    ax3.scatter(range(len(val_recall)), val_recall, color='red')\n",
        "    ax3.set_title('Training and Validation Recall')\n",
        "    ax3.set_xlabel('Epoch')\n",
        "    ax3.set_ylabel('Recall')\n",
        "    ax3.legend()\n",
        "\n",
        "    # Show the figure\n",
        "    plt.tight_layout()\n",
        "    plt.show()"
      ],
      "metadata": {
        "id": "LgZJHJ4St49-"
      },
      "execution_count": 21,
      "outputs": []
    },
    {
      "cell_type": "code",
      "source": [
        "plot_training_history(history)"
      ],
      "metadata": {
        "id": "IozW-EageeS9",
        "colab": {
          "base_uri": "https://localhost:8080/",
          "height": 1000
        },
        "outputId": "d576d5c1-931f-4e40-e77f-47faccafabfc"
      },
      "execution_count": 22,
      "outputs": [
        {
          "output_type": "display_data",
          "data": {
            "text/plain": [
              "<Figure size 1200x1200 with 3 Axes>"
            ],
            "image/png": "[encoded data removed]"
          },
          "metadata": {}
        }
      ]
    },
    {
      "cell_type": "markdown",
      "source": [
        "## 评估模型在测试集上的精确度和召回率"
      ],
      "metadata": {
        "id": "D5C8zVN7gw0S"
      }
    },
    {
      "cell_type": "code",
      "source": [
        "test_acc, _, test_recall = eval_model(\n",
        "    classifier,\n",
        "    test_data_loader,\n",
        "    loss_fn,\n",
        "    device\n",
        ")\n",
        "\n",
        "print(f'Test accuracy: {test_acc.item()}')\n",
        "print(f'Test recall: {test_recall.item()}')"
      ],
      "metadata": {
        "id": "6RtJHjBiclLP",
        "colab": {
          "base_uri": "https://localhost:8080/"
        },
        "outputId": "da3f3f4e-ef50-4587-ddab-25c36e997402"
      },
      "execution_count": 23,
      "outputs": [
        {
          "output_type": "stream",
          "name": "stdout",
          "text": [
            "Test accuracy: 0.98675\n",
            "Test recall: 0.9851941336441337\n"
          ]
        }
      ]
    },
    {
      "cell_type": "code",
      "source": [
        "label_map = {0: \"negative\", 1: \"positive\"}\n",
        "\n",
        "def predict_text(text, model):\n",
        "    encoding = tokenizer.encode_plus(\n",
        "        text,\n",
        "        max_length=MAX_LEN,\n",
        "        add_special_tokens=True,\n",
        "        return_token_type_ids=False,\n",
        "        return_attention_mask=True,\n",
        "        return_tensors='pt',\n",
        "    )\n",
        "\n",
        "    input_ids = encoding[\"input_ids\"].to(device)\n",
        "    attention_mask = encoding[\"attention_mask\"].to(device)\n",
        "\n",
        "    with torch.no_grad():\n",
        "        outputs = model(input_ids=input_ids, attention_mask=attention_mask)\n",
        "\n",
        "    _, preds = torch.max(outputs, dim=1)\n",
        "\n",
        "    # Use the label mapping to convert the predicted label\n",
        "    pred_label = label_map[preds.item()]\n",
        "\n",
        "    return pred_label"
      ],
      "metadata": {
        "id": "O1vNTihmer7q"
      },
      "execution_count": 24,
      "outputs": []
    },
    {
      "cell_type": "markdown",
      "source": [
        "## Case 测试"
      ],
      "metadata": {
        "id": "Hs2yp2Y5g6MM"
      }
    },
    {
      "cell_type": "code",
      "source": [
        "text = \"胡锡进最近被粉红围攻了，算是被民粹主义反噬了。胡锡进作为民粹主义的头头之一，为中国民粹化也做出突出贡献。不知现在的胡锡进，面对民粹主义狂潮，内心是什么感想？\"\n",
        "pred_label = predict_text(text, classifier)\n",
        "\n",
        "print(\"Predicted label:\", pred_label)"
      ],
      "metadata": {
        "id": "6FF5eqIBes_6",
        "colab": {
          "base_uri": "https://localhost:8080/"
        },
        "outputId": "ba9f6bb8-4baa-4bb0-bff2-e69fd557ce5f"
      },
      "execution_count": 26,
      "outputs": [
        {
          "output_type": "stream",
          "name": "stdout",
          "text": [
            "Predicted label: negative\n"
          ]
        }
      ]
    },
    {
      "cell_type": "code",
      "source": [
        "text = \"【官宣！#中国队正式递补东京奥运会接力铜牌#】当地时间19日，国际奥委会正式宣布，中国男子4×100米接力队递补获得东京奥运会铜牌，这是#中国男子4×100米接力首枚奥运奖牌#。由@苏炳添 、@谢震业 、吴智强@_SprinterWu 和汤星强@汤星星丶 组成的中国队共有六种方式获得这枚迟到的奖牌。一旦运动员做出选择，颁奖仪式需要在12个月之内进行（除非选择在下届奥运会领奖）。（刘硕阳、孙龙飞、李洋） 原图\"\n",
        "pred_label = predict_text(text, classifier)\n",
        "\n",
        "print(\"Predicted label:\", pred_label)"
      ],
      "metadata": {
        "colab": {
          "base_uri": "https://localhost:8080/"
        },
        "id": "EXArPoYw30pF",
        "outputId": "b1871040-1243-4dfd-c984-f0c3b122cd49"
      },
      "execution_count": 27,
      "outputs": [
        {
          "output_type": "stream",
          "name": "stdout",
          "text": [
            "Predicted label: positive\n"
          ]
        }
      ]
    }
  ]
}