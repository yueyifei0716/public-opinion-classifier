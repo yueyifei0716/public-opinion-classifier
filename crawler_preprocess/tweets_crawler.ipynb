{
 "cells": [
  {
   "cell_type": "code",
   "execution_count": 5,
   "metadata": {
    "ExecuteTime": {
     "end_time": "2023-05-25T06:43:31.689471Z",
     "start_time": "2023-05-25T06:43:31.688049Z"
    },
    "collapsed": false
   },
   "outputs": [],
   "source": [
    "# import tweepy\n",
    "# import csv\n",
    "\n",
    "# consumer_key = \"2wtJ2YefnPjnqY7K9wi9T47kh\"\n",
    "# consumer_secret = \"hkmVnvbwMg8pbqsMG5gehU2JGV5nW2Ot5CnF8CdiGC8DMtfxsW\"\n",
    "# access_token = \"1246320161172459520-AkaZr1wm984MVTUTWZI6n5EbY2XspA\"\n",
    "# access_token_secret = \"KwQnh3WKlUTthuBuHp0kk8F1VopQfB1YADLid8loJjWDX\"\n",
    "\n",
    "# # 设置认证\n",
    "# auth = tweepy.OAuthHandler(consumer_key, consumer_secret)\n",
    "# auth.set_access_token(access_token, access_token_secret)\n",
    "\n",
    "# # 创建 API 对象\n",
    "# api = tweepy.API(auth)\n"
   ]
  },
  {
   "cell_type": "code",
   "execution_count": 11,
   "metadata": {
    "ExecuteTime": {
     "end_time": "2023-05-28T10:23:44.230523Z",
     "start_time": "2023-05-28T10:23:19.708547Z"
    },
    "collapsed": false
   },
   "outputs": [],
   "source": [
    "import tweepy\n",
    "import csv\n",
    "\n",
    "# Fill in your API keys and access tokens\n",
    "CLIENT_ID = 'SGt5SnBheWFGUXFOZ3VzRTFHQjU6MTpjaQ'\n",
    "CLIENT_SECRET = '4Co54fxYgWWah_c8cNp5OAVUa6i8SasoJSSSbSEP0O-pYaUS2s'\n",
    "\n",
    "consumer_key = 'l1yX2jvDwgo9JViKoVKcGgdND'\n",
    "consumer_secret = 'xHy8vxaidmdvO1eAnNpi4dM6GXvxphjdqT5hyrWg70yVUhVz4I'\n",
    "\n",
    "bearer_token = 'AAAAAAAAAAAAAAAAAAAAAFR%2FnAEAAAAAiJVYZe3xGE1jeU8eqPOYvyn3UZ4%3Dx6AmZZTgIB9c1uvB3peQDWl0T027RL31CR1tyZ2IigcvgwID1n'\n",
    "access_token = '1640981277120626689-7kHwbk0FN6e4F3qb05cmm8Nwx9kII6'\n",
    "access_token_secret = 'Y7MtsToDk6YN49irGuuxvCc3n9RbJiMoTNaDHqzJfa0KL'\n",
    "\n",
    "# Set up authentication\n",
    "auth = tweepy.OAuthHandler(consumer_key, consumer_secret)\n",
    "auth.set_access_token(access_token, access_token_secret)\n",
    "\n",
    "# Create a Twitter API object\n",
    "api = tweepy.API(auth)\n",
    "\n",
    "username = \"guangfudalu_roc\"\n",
    "max_tweets = 20000  # Maximum number of tweets to retrieve\n",
    "tweets = []\n",
    "last_id = None\n",
    "\n",
    "# Retrieve tweets in batches of 200 (maximum limit per request)\n",
    "while len(tweets) < max_tweets:\n",
    "    count = max_tweets - len(tweets)\n",
    "    try:\n",
    "        new_tweets = api.user_timeline(\n",
    "            screen_name=username,\n",
    "            count=count,\n",
    "            tweet_mode=\"extended\",\n",
    "            max_id=last_id,\n",
    "        )\n",
    "        if not new_tweets:\n",
    "            break\n",
    "        tweets.extend(new_tweets)\n",
    "        last_id = tweets[-1].id - 1\n",
    "    except tweepy.TweepError as e:\n",
    "        # Handle error (e.g., rate limit exceeded)\n",
    "        print(f\"Error retrieving tweets: {str(e)}\")\n",
    "        break\n",
    "\n",
    "csv_file = open(\"./sets/guangfudalu_roc.csv\", \"w\", encoding=\"utf-8\", newline=\"\")\n",
    "csv_writer = csv.writer(csv_file)\n",
    "csv_writer.writerow([\"Timestamp\", \"Content\", \"Likes\", \"Retweets\", \"Replies\"])\n",
    "\n",
    "for tweet in tweets:\n",
    "    if tweet.in_reply_to_status_id is None:  # Check if the tweet is not a reply\n",
    "        timestamp = tweet.created_at\n",
    "        content = tweet.full_text\n",
    "        likes = tweet.favorite_count\n",
    "        retweets = tweet.retweet_count\n",
    "        csv_writer.writerow([timestamp, content, likes, retweets])\n",
    "\n",
    "csv_file.close()\n"
   ]
  }
 ],
 "metadata": {
  "kernelspec": {
   "display_name": "Python 3",
   "language": "python",
   "name": "python3"
  },
  "language_info": {
   "codemirror_mode": {
    "name": "ipython",
    "version": 3
   },
   "file_extension": ".py",
   "mimetype": "text/x-python",
   "name": "python",
   "nbconvert_exporter": "python",
   "pygments_lexer": "ipython3",
   "version": "3.10.11"
  }
 },
 "nbformat": 4,
 "nbformat_minor": 0
}
